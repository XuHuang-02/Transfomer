{
 "cells": [
  {
   "cell_type": "code",
   "execution_count": 1,
   "id": "a7b49f08",
   "metadata": {
    "execution": {
     "iopub.execute_input": "2024-09-06T11:51:32.459471Z",
     "iopub.status.busy": "2024-09-06T11:51:32.459174Z",
     "iopub.status.idle": "2024-09-06T11:51:47.846153Z",
     "shell.execute_reply": "2024-09-06T11:51:47.845216Z"
    },
    "papermill": {
     "duration": 15.392508,
     "end_time": "2024-09-06T11:51:47.848593",
     "exception": false,
     "start_time": "2024-09-06T11:51:32.456085",
     "status": "completed"
    },
    "tags": []
   },
   "outputs": [
    {
     "name": "stdout",
     "output_type": "stream",
     "text": [
      "Collecting torch_geometric\r\n",
      "  Downloading torch_geometric-2.5.3-py3-none-any.whl.metadata (64 kB)\r\n",
      "\u001b[2K     \u001b[90m━━━━━━━━━━━━━━━━━━━━━━━━━━━━━━━━━━━━━━━━\u001b[0m \u001b[32m64.2/64.2 kB\u001b[0m \u001b[31m1.5 MB/s\u001b[0m eta \u001b[36m0:00:00\u001b[0m\r\n",
      "\u001b[?25hRequirement already satisfied: tqdm in /opt/conda/lib/python3.10/site-packages (from torch_geometric) (4.66.4)\r\n",
      "Requirement already satisfied: numpy in /opt/conda/lib/python3.10/site-packages (from torch_geometric) (1.26.4)\r\n",
      "Requirement already satisfied: scipy in /opt/conda/lib/python3.10/site-packages (from torch_geometric) (1.14.0)\r\n",
      "Requirement already satisfied: fsspec in /opt/conda/lib/python3.10/site-packages (from torch_geometric) (2024.6.1)\r\n",
      "Requirement already satisfied: jinja2 in /opt/conda/lib/python3.10/site-packages (from torch_geometric) (3.1.4)\r\n",
      "Requirement already satisfied: aiohttp in /opt/conda/lib/python3.10/site-packages (from torch_geometric) (3.9.5)\r\n",
      "Requirement already satisfied: requests in /opt/conda/lib/python3.10/site-packages (from torch_geometric) (2.32.3)\r\n",
      "Requirement already satisfied: pyparsing in /opt/conda/lib/python3.10/site-packages (from torch_geometric) (3.1.2)\r\n",
      "Requirement already satisfied: scikit-learn in /opt/conda/lib/python3.10/site-packages (from torch_geometric) (1.2.2)\r\n",
      "Requirement already satisfied: psutil>=5.8.0 in /opt/conda/lib/python3.10/site-packages (from torch_geometric) (5.9.3)\r\n",
      "Requirement already satisfied: aiosignal>=1.1.2 in /opt/conda/lib/python3.10/site-packages (from aiohttp->torch_geometric) (1.3.1)\r\n",
      "Requirement already satisfied: attrs>=17.3.0 in /opt/conda/lib/python3.10/site-packages (from aiohttp->torch_geometric) (23.2.0)\r\n",
      "Requirement already satisfied: frozenlist>=1.1.1 in /opt/conda/lib/python3.10/site-packages (from aiohttp->torch_geometric) (1.4.1)\r\n",
      "Requirement already satisfied: multidict<7.0,>=4.5 in /opt/conda/lib/python3.10/site-packages (from aiohttp->torch_geometric) (6.0.5)\r\n",
      "Requirement already satisfied: yarl<2.0,>=1.0 in /opt/conda/lib/python3.10/site-packages (from aiohttp->torch_geometric) (1.9.4)\r\n",
      "Requirement already satisfied: async-timeout<5.0,>=4.0 in /opt/conda/lib/python3.10/site-packages (from aiohttp->torch_geometric) (4.0.3)\r\n",
      "Requirement already satisfied: MarkupSafe>=2.0 in /opt/conda/lib/python3.10/site-packages (from jinja2->torch_geometric) (2.1.5)\r\n",
      "Requirement already satisfied: charset-normalizer<4,>=2 in /opt/conda/lib/python3.10/site-packages (from requests->torch_geometric) (3.3.2)\r\n",
      "Requirement already satisfied: idna<4,>=2.5 in /opt/conda/lib/python3.10/site-packages (from requests->torch_geometric) (3.7)\r\n",
      "Requirement already satisfied: urllib3<3,>=1.21.1 in /opt/conda/lib/python3.10/site-packages (from requests->torch_geometric) (1.26.18)\r\n",
      "Requirement already satisfied: certifi>=2017.4.17 in /opt/conda/lib/python3.10/site-packages (from requests->torch_geometric) (2024.7.4)\r\n",
      "Requirement already satisfied: joblib>=1.1.1 in /opt/conda/lib/python3.10/site-packages (from scikit-learn->torch_geometric) (1.4.2)\r\n",
      "Requirement already satisfied: threadpoolctl>=2.0.0 in /opt/conda/lib/python3.10/site-packages (from scikit-learn->torch_geometric) (3.5.0)\r\n",
      "Downloading torch_geometric-2.5.3-py3-none-any.whl (1.1 MB)\r\n",
      "\u001b[2K   \u001b[90m━━━━━━━━━━━━━━━━━━━━━━━━━━━━━━━━━━━━━━━━\u001b[0m \u001b[32m1.1/1.1 MB\u001b[0m \u001b[31m15.5 MB/s\u001b[0m eta \u001b[36m0:00:00\u001b[0m\r\n",
      "\u001b[?25hInstalling collected packages: torch_geometric\r\n",
      "Successfully installed torch_geometric-2.5.3\r\n"
     ]
    }
   ],
   "source": [
    "! pip install torch_geometric"
   ]
  },
  {
   "cell_type": "code",
   "execution_count": 2,
   "id": "9145f09a",
   "metadata": {
    "_cell_guid": "b1076dfc-b9ad-4769-8c92-a6c4dae69d19",
    "_uuid": "8f2839f25d086af736a60e9eeb907d3b93b6e0e5",
    "execution": {
     "iopub.execute_input": "2024-09-06T11:51:47.856457Z",
     "iopub.status.busy": "2024-09-06T11:51:47.856140Z",
     "iopub.status.idle": "2024-09-06T22:45:14.650852Z",
     "shell.execute_reply": "2024-09-06T22:45:14.649957Z"
    },
    "papermill": {
     "duration": 39206.801494,
     "end_time": "2024-09-06T22:45:14.653184",
     "exception": false,
     "start_time": "2024-09-06T11:51:47.851690",
     "status": "completed"
    },
    "tags": []
   },
   "outputs": [
    {
     "name": "stderr",
     "output_type": "stream",
     "text": [
      "Downloading https://data.pyg.org/datasets/qm9_v3.zip\n",
      "Extracting ./raw/qm9_v3.zip\n",
      "Processing...\n",
      "Using a pre-processed version of the dataset. Please install 'rdkit' to alternatively process the raw data.\n",
      "/opt/conda/lib/python3.10/site-packages/torch_geometric/datasets/qm9.py:215: FutureWarning: You are using `torch.load` with `weights_only=False` (the current default value), which uses the default pickle module implicitly. It is possible to construct malicious pickle data which will execute arbitrary code during unpickling (See https://github.com/pytorch/pytorch/blob/main/SECURITY.md#untrusted-models for more details). In a future release, the default value for `weights_only` will be flipped to `True`. This limits the functions that could be executed during unpickling. Arbitrary objects will no longer be allowed to be loaded via this mode unless they are explicitly allowlisted by the user via `torch.serialization.add_safe_globals`. We recommend you start setting `weights_only=True` for any use case where you don't have full control of the loaded file. Please open an issue on GitHub for any issues related to this experimental feature.\n",
      "  data_list = torch.load(self.raw_paths[0])\n",
      "Done!\n",
      "/opt/conda/lib/python3.10/site-packages/torch_geometric/io/fs.py:215: FutureWarning: You are using `torch.load` with `weights_only=False` (the current default value), which uses the default pickle module implicitly. It is possible to construct malicious pickle data which will execute arbitrary code during unpickling (See https://github.com/pytorch/pytorch/blob/main/SECURITY.md#untrusted-models for more details). In a future release, the default value for `weights_only` will be flipped to `True`. This limits the functions that could be executed during unpickling. Arbitrary objects will no longer be allowed to be loaded via this mode unless they are explicitly allowlisted by the user via `torch.serialization.add_safe_globals`. We recommend you start setting `weights_only=True` for any use case where you don't have full control of the loaded file. Please open an issue on GitHub for any issues related to this experimental feature.\n",
      "  return torch.load(f, map_location)\n",
      "[I 2024-09-06 11:52:33,978] A new study created in memory with name: no-name-96590e02-772d-4126-995d-57db630e7580\n",
      "/tmp/ipykernel_24/2374322422.py:31: FutureWarning: suggest_loguniform has been deprecated in v3.0.0. This feature will be removed in v6.0.0. See https://github.com/optuna/optuna/releases/tag/v3.0.0. Use suggest_float(..., log=True) instead.\n",
      "  learning_rate = trial.suggest_loguniform(\"learning_rate\", 1e-4, 1e-2)\n",
      "/opt/conda/lib/python3.10/site-packages/torch/nn/modules/transformer.py:307: UserWarning: enable_nested_tensor is True, but self.use_nested_tensor is False because encoder_layer.self_attn.batch_first was not True(use batch_first for better inference performance)\n",
      "  warnings.warn(f\"enable_nested_tensor is True, but self.use_nested_tensor is False because {why_not_sparsity_fast_path}\")\n"
     ]
    },
    {
     "name": "stdout",
     "output_type": "stream",
     "text": [
      "Epochs: 0 | epoch avg. loss: 1.65 | validation avg. loss: 3.42\n",
      "Epochs: 1 | epoch avg. loss: 0.92 | validation avg. loss: 0.87\n",
      "Epochs: 2 | epoch avg. loss: 0.90 | validation avg. loss: 0.86\n",
      "Epochs: 3 | epoch avg. loss: 0.89 | validation avg. loss: 0.89\n",
      "Epochs: 4 | epoch avg. loss: 0.90 | validation avg. loss: 0.85\n",
      "Epochs: 5 | epoch avg. loss: 0.89 | validation avg. loss: 0.85\n",
      "Epochs: 6 | epoch avg. loss: 0.89 | validation avg. loss: 0.86\n",
      "Epochs: 7 | epoch avg. loss: 0.88 | validation avg. loss: 0.87\n",
      "Epochs: 8 | epoch avg. loss: 0.88 | validation avg. loss: 0.85\n"
     ]
    },
    {
     "name": "stderr",
     "output_type": "stream",
     "text": [
      "[I 2024-09-06 11:59:15,670] Trial 0 finished with value: 0.8510508944525765 and parameters: {'hidden_dim': 32, 'num_heads': 4, 'num_layers': 2, 'fc_out_channels': 64, 'dropout': 0.4, 'learning_rate': 0.006034871331145975}. Best is trial 0 with value: 0.8510508944525765.\n"
     ]
    },
    {
     "name": "stdout",
     "output_type": "stream",
     "text": [
      "Epochs: 9 | epoch avg. loss: 0.88 | validation avg. loss: 0.85\n",
      "Epochs: 0 | epoch avg. loss: 2.51 | validation avg. loss: 2.06\n",
      "Epochs: 1 | epoch avg. loss: 1.92 | validation avg. loss: 2.51\n",
      "Epochs: 2 | epoch avg. loss: 1.85 | validation avg. loss: 2.27\n",
      "Epochs: 3 | epoch avg. loss: 1.76 | validation avg. loss: 2.29\n",
      "Epochs: 4 | epoch avg. loss: 1.64 | validation avg. loss: 1.93\n",
      "Epochs: 5 | epoch avg. loss: 1.47 | validation avg. loss: 1.57\n",
      "Epochs: 6 | epoch avg. loss: 1.27 | validation avg. loss: 1.55\n",
      "Epochs: 7 | epoch avg. loss: 1.08 | validation avg. loss: 0.98\n",
      "Epochs: 8 | epoch avg. loss: 0.95 | validation avg. loss: 1.06\n"
     ]
    },
    {
     "name": "stderr",
     "output_type": "stream",
     "text": [
      "[I 2024-09-06 12:07:52,444] Trial 1 finished with value: 0.8685840865205545 and parameters: {'hidden_dim': 128, 'num_heads': 4, 'num_layers': 4, 'fc_out_channels': 64, 'dropout': 0.2, 'learning_rate': 0.0002458074946863285}. Best is trial 0 with value: 0.8510508944525765.\n"
     ]
    },
    {
     "name": "stdout",
     "output_type": "stream",
     "text": [
      "Epochs: 9 | epoch avg. loss: 0.90 | validation avg. loss: 0.87\n",
      "Epochs: 0 | epoch avg. loss: 2.07 | validation avg. loss: 13.55\n",
      "Epochs: 1 | epoch avg. loss: 1.45 | validation avg. loss: 9.12\n",
      "Epochs: 2 | epoch avg. loss: 0.97 | validation avg. loss: 5.13\n",
      "Epochs: 3 | epoch avg. loss: 0.92 | validation avg. loss: 1.12\n",
      "Epochs: 4 | epoch avg. loss: 0.91 | validation avg. loss: 0.92\n",
      "Epochs: 5 | epoch avg. loss: 0.91 | validation avg. loss: 0.91\n",
      "Epochs: 6 | epoch avg. loss: 0.90 | validation avg. loss: 1.33\n",
      "Epochs: 7 | epoch avg. loss: 0.90 | validation avg. loss: 0.86\n",
      "Epochs: 8 | epoch avg. loss: 0.90 | validation avg. loss: 0.87\n"
     ]
    },
    {
     "name": "stderr",
     "output_type": "stream",
     "text": [
      "[I 2024-09-06 12:16:29,003] Trial 2 finished with value: 1.3957295617219891 and parameters: {'hidden_dim': 128, 'num_heads': 2, 'num_layers': 4, 'fc_out_channels': 128, 'dropout': 0.5, 'learning_rate': 0.0010429657043080063}. Best is trial 0 with value: 0.8510508944525765.\n"
     ]
    },
    {
     "name": "stdout",
     "output_type": "stream",
     "text": [
      "Epochs: 9 | epoch avg. loss: 0.90 | validation avg. loss: 1.40\n",
      "Epochs: 0 | epoch avg. loss: 5.37 | validation avg. loss: 2.11\n",
      "Epochs: 1 | epoch avg. loss: 1.94 | validation avg. loss: 2.11\n",
      "Epochs: 2 | epoch avg. loss: 1.88 | validation avg. loss: 1.89\n",
      "Epochs: 3 | epoch avg. loss: 1.81 | validation avg. loss: 1.95\n",
      "Epochs: 4 | epoch avg. loss: 1.71 | validation avg. loss: 1.76\n",
      "Epochs: 5 | epoch avg. loss: 1.60 | validation avg. loss: 1.55\n",
      "Epochs: 6 | epoch avg. loss: 1.47 | validation avg. loss: 1.34\n",
      "Epochs: 7 | epoch avg. loss: 1.32 | validation avg. loss: 1.24\n",
      "Epochs: 8 | epoch avg. loss: 1.18 | validation avg. loss: 1.03\n"
     ]
    },
    {
     "name": "stderr",
     "output_type": "stream",
     "text": [
      "[I 2024-09-06 12:22:43,686] Trial 3 finished with value: 1.0999325614987665 and parameters: {'hidden_dim': 32, 'num_heads': 2, 'num_layers': 2, 'fc_out_channels': 96, 'dropout': 0.1, 'learning_rate': 0.00011399900284588082}. Best is trial 0 with value: 0.8510508944525765.\n"
     ]
    },
    {
     "name": "stdout",
     "output_type": "stream",
     "text": [
      "Epochs: 9 | epoch avg. loss: 1.06 | validation avg. loss: 1.10\n",
      "Epochs: 0 | epoch avg. loss: 3.92 | validation avg. loss: 2.16\n",
      "Epochs: 1 | epoch avg. loss: 1.94 | validation avg. loss: 2.17\n",
      "Epochs: 2 | epoch avg. loss: 1.90 | validation avg. loss: 2.16\n",
      "Epochs: 3 | epoch avg. loss: 1.86 | validation avg. loss: 2.06\n",
      "Epochs: 4 | epoch avg. loss: 1.80 | validation avg. loss: 1.91\n",
      "Epochs: 5 | epoch avg. loss: 1.75 | validation avg. loss: 1.90\n",
      "Epochs: 6 | epoch avg. loss: 1.69 | validation avg. loss: 1.84\n",
      "Epochs: 7 | epoch avg. loss: 1.62 | validation avg. loss: 1.69\n",
      "Epochs: 8 | epoch avg. loss: 1.54 | validation avg. loss: 1.70\n"
     ]
    },
    {
     "name": "stderr",
     "output_type": "stream",
     "text": [
      "[I 2024-09-06 12:30:08,269] Trial 4 finished with value: 1.4526019412915845 and parameters: {'hidden_dim': 64, 'num_heads': 2, 'num_layers': 3, 'fc_out_channels': 32, 'dropout': 0.2, 'learning_rate': 0.00015184239502354812}. Best is trial 0 with value: 0.8510508944525765.\n"
     ]
    },
    {
     "name": "stdout",
     "output_type": "stream",
     "text": [
      "Epochs: 9 | epoch avg. loss: 1.45 | validation avg. loss: 1.45\n",
      "Epochs: 0 | epoch avg. loss: 2.51 | validation avg. loss: 5.34\n",
      "Epochs: 1 | epoch avg. loss: 1.72 | validation avg. loss: 5.52\n",
      "Epochs: 2 | epoch avg. loss: 1.33 | validation avg. loss: 5.37\n",
      "Epochs: 3 | epoch avg. loss: 0.98 | validation avg. loss: 2.96\n",
      "Epochs: 4 | epoch avg. loss: 0.90 | validation avg. loss: 1.08\n",
      "Epochs: 5 | epoch avg. loss: 0.89 | validation avg. loss: 0.94\n",
      "Epochs: 6 | epoch avg. loss: 0.88 | validation avg. loss: 0.97\n",
      "Epochs: 7 | epoch avg. loss: 0.88 | validation avg. loss: 0.86\n",
      "Epochs: 8 | epoch avg. loss: 0.88 | validation avg. loss: 0.88\n"
     ]
    },
    {
     "name": "stderr",
     "output_type": "stream",
     "text": [
      "[I 2024-09-06 12:37:33,151] Trial 5 finished with value: 0.8629561350645203 and parameters: {'hidden_dim': 64, 'num_heads': 2, 'num_layers': 3, 'fc_out_channels': 32, 'dropout': 0.5, 'learning_rate': 0.0011996626045284217}. Best is trial 0 with value: 0.8510508944525765.\n"
     ]
    },
    {
     "name": "stdout",
     "output_type": "stream",
     "text": [
      "Epochs: 9 | epoch avg. loss: 0.87 | validation avg. loss: 0.86\n",
      "Epochs: 0 | epoch avg. loss: 2.75 | validation avg. loss: 2.65\n",
      "Epochs: 1 | epoch avg. loss: 1.59 | validation avg. loss: 1.83\n",
      "Epochs: 2 | epoch avg. loss: 1.04 | validation avg. loss: 1.15\n",
      "Epochs: 3 | epoch avg. loss: 0.90 | validation avg. loss: 1.01\n",
      "Epochs: 4 | epoch avg. loss: 0.89 | validation avg. loss: 1.01\n",
      "Epochs: 5 | epoch avg. loss: 0.89 | validation avg. loss: 0.87\n",
      "Epochs: 6 | epoch avg. loss: 0.88 | validation avg. loss: 1.00\n",
      "Epochs: 7 | epoch avg. loss: 0.88 | validation avg. loss: 0.86\n",
      "Epochs: 8 | epoch avg. loss: 0.88 | validation avg. loss: 0.87\n"
     ]
    },
    {
     "name": "stderr",
     "output_type": "stream",
     "text": [
      "[I 2024-09-06 12:44:03,310] Trial 6 finished with value: 0.926714149695576 and parameters: {'hidden_dim': 32, 'num_heads': 8, 'num_layers': 2, 'fc_out_channels': 128, 'dropout': 0.30000000000000004, 'learning_rate': 0.0006050638537040613}. Best is trial 0 with value: 0.8510508944525765.\n"
     ]
    },
    {
     "name": "stdout",
     "output_type": "stream",
     "text": [
      "Epochs: 9 | epoch avg. loss: 0.87 | validation avg. loss: 0.93\n",
      "Epochs: 0 | epoch avg. loss: 3.61 | validation avg. loss: 3.09\n",
      "Epochs: 1 | epoch avg. loss: 1.79 | validation avg. loss: 2.71\n",
      "Epochs: 2 | epoch avg. loss: 1.50 | validation avg. loss: 2.27\n",
      "Epochs: 3 | epoch avg. loss: 1.14 | validation avg. loss: 1.19\n",
      "Epochs: 4 | epoch avg. loss: 0.92 | validation avg. loss: 0.92\n",
      "Epochs: 5 | epoch avg. loss: 0.88 | validation avg. loss: 0.87\n",
      "Epochs: 6 | epoch avg. loss: 0.88 | validation avg. loss: 0.87\n",
      "Epochs: 7 | epoch avg. loss: 0.87 | validation avg. loss: 0.86\n",
      "Epochs: 8 | epoch avg. loss: 0.87 | validation avg. loss: 0.86\n"
     ]
    },
    {
     "name": "stderr",
     "output_type": "stream",
     "text": [
      "[I 2024-09-06 12:51:28,511] Trial 7 finished with value: 0.8624751459318408 and parameters: {'hidden_dim': 32, 'num_heads': 4, 'num_layers': 3, 'fc_out_channels': 32, 'dropout': 0.5, 'learning_rate': 0.0006310385656368654}. Best is trial 0 with value: 0.8510508944525765.\n"
     ]
    },
    {
     "name": "stdout",
     "output_type": "stream",
     "text": [
      "Epochs: 9 | epoch avg. loss: 0.87 | validation avg. loss: 0.86\n",
      "Epochs: 0 | epoch avg. loss: 2.54 | validation avg. loss: 1.91\n",
      "Epochs: 1 | epoch avg. loss: 1.59 | validation avg. loss: 1.22\n",
      "Epochs: 2 | epoch avg. loss: 1.00 | validation avg. loss: 0.87\n",
      "Epochs: 3 | epoch avg. loss: 0.88 | validation avg. loss: 0.90\n",
      "Epochs: 4 | epoch avg. loss: 0.88 | validation avg. loss: 0.86\n",
      "Epochs: 5 | epoch avg. loss: 0.88 | validation avg. loss: 0.85\n",
      "Epochs: 6 | epoch avg. loss: 0.87 | validation avg. loss: 0.86\n",
      "Epochs: 7 | epoch avg. loss: 0.87 | validation avg. loss: 0.85\n",
      "Epochs: 8 | epoch avg. loss: 0.87 | validation avg. loss: 0.86\n"
     ]
    },
    {
     "name": "stderr",
     "output_type": "stream",
     "text": [
      "[I 2024-09-06 13:00:03,102] Trial 8 finished with value: 0.8589048740463391 and parameters: {'hidden_dim': 32, 'num_heads': 2, 'num_layers': 4, 'fc_out_channels': 96, 'dropout': 0.1, 'learning_rate': 0.0006527324334864908}. Best is trial 0 with value: 0.8510508944525765.\n"
     ]
    },
    {
     "name": "stdout",
     "output_type": "stream",
     "text": [
      "Epochs: 9 | epoch avg. loss: 0.87 | validation avg. loss: 0.86\n",
      "Epochs: 0 | epoch avg. loss: 2.30 | validation avg. loss: 7.19\n",
      "Epochs: 1 | epoch avg. loss: 1.73 | validation avg. loss: 6.47\n",
      "Epochs: 2 | epoch avg. loss: 1.23 | validation avg. loss: 1.94\n",
      "Epochs: 3 | epoch avg. loss: 0.94 | validation avg. loss: 1.24\n",
      "Epochs: 4 | epoch avg. loss: 0.90 | validation avg. loss: 0.90\n",
      "Epochs: 5 | epoch avg. loss: 0.89 | validation avg. loss: 0.87\n",
      "Epochs: 6 | epoch avg. loss: 0.88 | validation avg. loss: 0.88\n",
      "Epochs: 7 | epoch avg. loss: 0.88 | validation avg. loss: 0.88\n",
      "Epochs: 8 | epoch avg. loss: 0.88 | validation avg. loss: 0.92\n"
     ]
    },
    {
     "name": "stderr",
     "output_type": "stream",
     "text": [
      "[I 2024-09-06 13:08:35,146] Trial 9 finished with value: 0.8996483437650236 and parameters: {'hidden_dim': 96, 'num_heads': 4, 'num_layers': 4, 'fc_out_channels': 128, 'dropout': 0.5, 'learning_rate': 0.000507606288107524}. Best is trial 0 with value: 0.8510508944525765.\n"
     ]
    },
    {
     "name": "stdout",
     "output_type": "stream",
     "text": [
      "Epochs: 9 | epoch avg. loss: 0.88 | validation avg. loss: 0.90\n",
      "Epochs: 0 | epoch avg. loss: 1.82 | validation avg. loss: 4.29\n",
      "Epochs: 1 | epoch avg. loss: 0.95 | validation avg. loss: 3.01\n",
      "Epochs: 2 | epoch avg. loss: 0.93 | validation avg. loss: 1.25\n",
      "Epochs: 3 | epoch avg. loss: 0.91 | validation avg. loss: 0.87\n",
      "Epochs: 4 | epoch avg. loss: 0.90 | validation avg. loss: 0.88\n",
      "Epochs: 5 | epoch avg. loss: 0.90 | validation avg. loss: 1.14\n",
      "Epochs: 6 | epoch avg. loss: 0.90 | validation avg. loss: 0.86\n",
      "Epochs: 7 | epoch avg. loss: 0.90 | validation avg. loss: 0.86\n",
      "Epochs: 8 | epoch avg. loss: 0.90 | validation avg. loss: 0.88\n"
     ]
    },
    {
     "name": "stderr",
     "output_type": "stream",
     "text": [
      "[I 2024-09-06 13:15:02,059] Trial 10 finished with value: 0.8622091420303696 and parameters: {'hidden_dim': 96, 'num_heads': 8, 'num_layers': 2, 'fc_out_channels': 64, 'dropout': 0.4, 'learning_rate': 0.007046973644247126}. Best is trial 0 with value: 0.8510508944525765.\n"
     ]
    },
    {
     "name": "stdout",
     "output_type": "stream",
     "text": [
      "Epochs: 9 | epoch avg. loss: 0.90 | validation avg. loss: 0.86\n",
      "Epochs: 0 | epoch avg. loss: 1.71 | validation avg. loss: 1.02\n",
      "Epochs: 1 | epoch avg. loss: 0.92 | validation avg. loss: 0.86\n",
      "Epochs: 2 | epoch avg. loss: 0.89 | validation avg. loss: 0.92\n",
      "Epochs: 3 | epoch avg. loss: 0.89 | validation avg. loss: 0.95\n",
      "Epochs: 4 | epoch avg. loss: 0.89 | validation avg. loss: 0.86\n",
      "Epochs: 5 | epoch avg. loss: 0.88 | validation avg. loss: 0.88\n",
      "Epochs: 6 | epoch avg. loss: 0.88 | validation avg. loss: 0.85\n",
      "Epochs: 7 | epoch avg. loss: 0.88 | validation avg. loss: 0.87\n",
      "Epochs: 8 | epoch avg. loss: 0.87 | validation avg. loss: 0.85\n"
     ]
    },
    {
     "name": "stderr",
     "output_type": "stream",
     "text": [
      "[I 2024-09-06 13:22:23,308] Trial 11 finished with value: 0.9336073388244162 and parameters: {'hidden_dim': 64, 'num_heads': 4, 'num_layers': 3, 'fc_out_channels': 96, 'dropout': 0.30000000000000004, 'learning_rate': 0.0036611189336620857}. Best is trial 0 with value: 0.8510508944525765.\n"
     ]
    },
    {
     "name": "stdout",
     "output_type": "stream",
     "text": [
      "Epochs: 9 | epoch avg. loss: 0.88 | validation avg. loss: 0.93\n",
      "Epochs: 0 | epoch avg. loss: 2.02 | validation avg. loss: 1.21\n",
      "Epochs: 1 | epoch avg. loss: 0.95 | validation avg. loss: 0.86\n",
      "Epochs: 2 | epoch avg. loss: 0.89 | validation avg. loss: 0.86\n",
      "Epochs: 3 | epoch avg. loss: 0.88 | validation avg. loss: 0.88\n",
      "Epochs: 4 | epoch avg. loss: 0.88 | validation avg. loss: 0.86\n",
      "Epochs: 5 | epoch avg. loss: 0.88 | validation avg. loss: 0.86\n",
      "Epochs: 6 | epoch avg. loss: 0.87 | validation avg. loss: 0.87\n",
      "Epochs: 7 | epoch avg. loss: 0.87 | validation avg. loss: 0.87\n",
      "Epochs: 8 | epoch avg. loss: 0.87 | validation avg. loss: 0.86\n"
     ]
    },
    {
     "name": "stderr",
     "output_type": "stream",
     "text": [
      "[I 2024-09-06 13:30:56,670] Trial 12 finished with value: 0.8491904054715158 and parameters: {'hidden_dim': 32, 'num_heads': 2, 'num_layers': 4, 'fc_out_channels': 64, 'dropout': 0.1, 'learning_rate': 0.0023114874092847347}. Best is trial 12 with value: 0.8491904054715158.\n"
     ]
    },
    {
     "name": "stdout",
     "output_type": "stream",
     "text": [
      "Epochs: 9 | epoch avg. loss: 0.87 | validation avg. loss: 0.85\n",
      "Epochs: 0 | epoch avg. loss: 2.13 | validation avg. loss: 3.19\n",
      "Epochs: 1 | epoch avg. loss: 0.98 | validation avg. loss: 0.87\n",
      "Epochs: 2 | epoch avg. loss: 0.89 | validation avg. loss: 0.88\n",
      "Epochs: 3 | epoch avg. loss: 0.88 | validation avg. loss: 0.87\n",
      "Epochs: 4 | epoch avg. loss: 0.88 | validation avg. loss: 0.88\n",
      "Epochs: 5 | epoch avg. loss: 0.88 | validation avg. loss: 0.90\n",
      "Epochs: 6 | epoch avg. loss: 0.88 | validation avg. loss: 0.87\n",
      "Epochs: 7 | epoch avg. loss: 0.88 | validation avg. loss: 0.86\n",
      "Epochs: 8 | epoch avg. loss: 0.88 | validation avg. loss: 0.88\n"
     ]
    },
    {
     "name": "stderr",
     "output_type": "stream",
     "text": [
      "[I 2024-09-06 13:37:12,059] Trial 13 finished with value: 0.8616914160968568 and parameters: {'hidden_dim': 32, 'num_heads': 4, 'num_layers': 2, 'fc_out_channels': 64, 'dropout': 0.4, 'learning_rate': 0.002237209120395949}. Best is trial 12 with value: 0.8491904054715158.\n"
     ]
    },
    {
     "name": "stdout",
     "output_type": "stream",
     "text": [
      "Epochs: 9 | epoch avg. loss: 0.87 | validation avg. loss: 0.86\n",
      "Epochs: 0 | epoch avg. loss: 1.52 | validation avg. loss: 4.97\n",
      "Epochs: 1 | epoch avg. loss: 0.93 | validation avg. loss: 1.00\n",
      "Epochs: 2 | epoch avg. loss: 0.91 | validation avg. loss: 0.86\n",
      "Epochs: 3 | epoch avg. loss: 0.90 | validation avg. loss: 0.92\n",
      "Epochs: 4 | epoch avg. loss: 0.90 | validation avg. loss: 0.85\n",
      "Epochs: 5 | epoch avg. loss: 0.89 | validation avg. loss: 0.88\n",
      "Epochs: 6 | epoch avg. loss: 0.90 | validation avg. loss: 0.85\n",
      "Epochs: 7 | epoch avg. loss: 0.89 | validation avg. loss: 0.88\n",
      "Epochs: 8 | epoch avg. loss: 0.89 | validation avg. loss: 0.89\n"
     ]
    },
    {
     "name": "stderr",
     "output_type": "stream",
     "text": [
      "[W 2024-09-06 13:44:35,093] Trial 14 failed with parameters: {'hidden_dim': 64, 'num_heads': 8, 'num_layers': 3, 'fc_out_channels': 64, 'dropout': 0.4, 'learning_rate': 0.007625104431595186} because of the following error: The value nan is not acceptable.\n",
      "[W 2024-09-06 13:44:35,094] Trial 14 failed with value nan.\n"
     ]
    },
    {
     "name": "stdout",
     "output_type": "stream",
     "text": [
      "Epochs: 9 | epoch avg. loss: nan | validation avg. loss: nan\n",
      "Epochs: 0 | epoch avg. loss: 1.54 | validation avg. loss: 3.69\n",
      "Epochs: 1 | epoch avg. loss: 0.95 | validation avg. loss: 1.18\n",
      "Epochs: 2 | epoch avg. loss: 0.92 | validation avg. loss: 0.95\n",
      "Epochs: 3 | epoch avg. loss: 0.90 | validation avg. loss: 1.01\n",
      "Epochs: 4 | epoch avg. loss: 0.90 | validation avg. loss: 0.96\n",
      "Epochs: 5 | epoch avg. loss: 0.90 | validation avg. loss: 0.87\n",
      "Epochs: 6 | epoch avg. loss: 0.89 | validation avg. loss: 0.93\n",
      "Epochs: 7 | epoch avg. loss: 0.90 | validation avg. loss: 0.87\n",
      "Epochs: 8 | epoch avg. loss: 0.89 | validation avg. loss: 0.85\n"
     ]
    },
    {
     "name": "stderr",
     "output_type": "stream",
     "text": [
      "[I 2024-09-06 13:51:57,652] Trial 15 finished with value: 1.0901131382962364 and parameters: {'hidden_dim': 64, 'num_heads': 8, 'num_layers': 3, 'fc_out_channels': 64, 'dropout': 0.4, 'learning_rate': 0.008992308525906632}. Best is trial 12 with value: 0.8491904054715158.\n"
     ]
    },
    {
     "name": "stdout",
     "output_type": "stream",
     "text": [
      "Epochs: 9 | epoch avg. loss: 0.89 | validation avg. loss: 1.09\n",
      "Epochs: 0 | epoch avg. loss: 1.94 | validation avg. loss: 1.11\n",
      "Epochs: 1 | epoch avg. loss: 0.93 | validation avg. loss: 0.86\n",
      "Epochs: 2 | epoch avg. loss: 0.89 | validation avg. loss: 0.89\n",
      "Epochs: 3 | epoch avg. loss: 0.89 | validation avg. loss: 0.86\n",
      "Epochs: 4 | epoch avg. loss: 0.88 | validation avg. loss: 0.88\n",
      "Epochs: 5 | epoch avg. loss: 0.88 | validation avg. loss: 0.86\n",
      "Epochs: 6 | epoch avg. loss: 0.88 | validation avg. loss: 0.88\n",
      "Epochs: 7 | epoch avg. loss: 0.88 | validation avg. loss: 0.92\n",
      "Epochs: 8 | epoch avg. loss: 0.88 | validation avg. loss: 0.86\n"
     ]
    },
    {
     "name": "stderr",
     "output_type": "stream",
     "text": [
      "[I 2024-09-06 14:00:30,205] Trial 16 finished with value: 0.8575607681415295 and parameters: {'hidden_dim': 32, 'num_heads': 2, 'num_layers': 4, 'fc_out_channels': 64, 'dropout': 0.2, 'learning_rate': 0.0033485825318022465}. Best is trial 12 with value: 0.8491904054715158.\n"
     ]
    },
    {
     "name": "stdout",
     "output_type": "stream",
     "text": [
      "Epochs: 9 | epoch avg. loss: 0.87 | validation avg. loss: 0.86\n",
      "Epochs: 0 | epoch avg. loss: 1.83 | validation avg. loss: 3.83\n",
      "Epochs: 1 | epoch avg. loss: 0.95 | validation avg. loss: 0.93\n",
      "Epochs: 2 | epoch avg. loss: 0.91 | validation avg. loss: 0.88\n",
      "Epochs: 3 | epoch avg. loss: 0.90 | validation avg. loss: 0.86\n",
      "Epochs: 4 | epoch avg. loss: 0.90 | validation avg. loss: 0.91\n",
      "Epochs: 5 | epoch avg. loss: 0.89 | validation avg. loss: 0.85\n",
      "Epochs: 6 | epoch avg. loss: 0.89 | validation avg. loss: 0.90\n",
      "Epochs: 7 | epoch avg. loss: 0.88 | validation avg. loss: 0.86\n",
      "Epochs: 8 | epoch avg. loss: 0.88 | validation avg. loss: 0.86\n"
     ]
    },
    {
     "name": "stderr",
     "output_type": "stream",
     "text": [
      "[I 2024-09-06 14:06:44,199] Trial 17 finished with value: 0.9071853975985104 and parameters: {'hidden_dim': 96, 'num_heads': 4, 'num_layers': 2, 'fc_out_channels': 96, 'dropout': 0.30000000000000004, 'learning_rate': 0.005497020546512018}. Best is trial 12 with value: 0.8491904054715158.\n"
     ]
    },
    {
     "name": "stdout",
     "output_type": "stream",
     "text": [
      "Epochs: 9 | epoch avg. loss: 0.89 | validation avg. loss: 0.91\n",
      "Epochs: 0 | epoch avg. loss: 2.01 | validation avg. loss: 1.50\n",
      "Epochs: 1 | epoch avg. loss: 1.09 | validation avg. loss: 0.89\n",
      "Epochs: 2 | epoch avg. loss: 0.89 | validation avg. loss: 0.99\n",
      "Epochs: 3 | epoch avg. loss: 0.88 | validation avg. loss: 0.90\n",
      "Epochs: 4 | epoch avg. loss: 0.88 | validation avg. loss: 0.92\n",
      "Epochs: 5 | epoch avg. loss: 0.88 | validation avg. loss: 0.86\n",
      "Epochs: 6 | epoch avg. loss: 0.88 | validation avg. loss: 0.91\n",
      "Epochs: 7 | epoch avg. loss: 0.88 | validation avg. loss: 0.88\n",
      "Epochs: 8 | epoch avg. loss: 0.88 | validation avg. loss: 0.87\n"
     ]
    },
    {
     "name": "stderr",
     "output_type": "stream",
     "text": [
      "[I 2024-09-06 14:14:06,248] Trial 18 finished with value: 0.8603027768329222 and parameters: {'hidden_dim': 64, 'num_heads': 4, 'num_layers': 3, 'fc_out_channels': 32, 'dropout': 0.1, 'learning_rate': 0.002033317746785203}. Best is trial 12 with value: 0.8491904054715158.\n"
     ]
    },
    {
     "name": "stdout",
     "output_type": "stream",
     "text": [
      "Epochs: 9 | epoch avg. loss: 0.88 | validation avg. loss: 0.86\n",
      "Epochs: 0 | epoch avg. loss: 1.81 | validation avg. loss: 1.17\n",
      "Epochs: 1 | epoch avg. loss: 0.90 | validation avg. loss: 0.89\n",
      "Epochs: 2 | epoch avg. loss: 0.89 | validation avg. loss: 0.86\n",
      "Epochs: 3 | epoch avg. loss: 0.89 | validation avg. loss: 0.87\n",
      "Epochs: 4 | epoch avg. loss: 0.89 | validation avg. loss: 0.98\n",
      "Epochs: 5 | epoch avg. loss: 0.89 | validation avg. loss: 0.86\n",
      "Epochs: 6 | epoch avg. loss: 0.88 | validation avg. loss: 0.86\n",
      "Epochs: 7 | epoch avg. loss: 0.87 | validation avg. loss: 0.85\n",
      "Epochs: 8 | epoch avg. loss: 0.88 | validation avg. loss: 0.90\n"
     ]
    },
    {
     "name": "stderr",
     "output_type": "stream",
     "text": [
      "[I 2024-09-06 14:22:41,129] Trial 19 finished with value: 0.8476404422164436 and parameters: {'hidden_dim': 32, 'num_heads': 2, 'num_layers': 4, 'fc_out_channels': 64, 'dropout': 0.4, 'learning_rate': 0.004897782138091248}. Best is trial 19 with value: 0.8476404422164436.\n"
     ]
    },
    {
     "name": "stdout",
     "output_type": "stream",
     "text": [
      "Epochs: 9 | epoch avg. loss: 0.88 | validation avg. loss: 0.85\n",
      "Epochs: 0 | epoch avg. loss: 1.89 | validation avg. loss: 1.93\n",
      "Epochs: 1 | epoch avg. loss: 0.96 | validation avg. loss: 1.03\n",
      "Epochs: 2 | epoch avg. loss: 0.89 | validation avg. loss: 0.87\n",
      "Epochs: 3 | epoch avg. loss: 0.88 | validation avg. loss: 0.87\n",
      "Epochs: 4 | epoch avg. loss: 0.88 | validation avg. loss: 0.86\n",
      "Epochs: 5 | epoch avg. loss: 0.88 | validation avg. loss: 0.86\n",
      "Epochs: 6 | epoch avg. loss: 0.87 | validation avg. loss: 0.85\n",
      "Epochs: 7 | epoch avg. loss: 0.87 | validation avg. loss: 0.93\n",
      "Epochs: 8 | epoch avg. loss: 0.87 | validation avg. loss: 0.85\n"
     ]
    },
    {
     "name": "stderr",
     "output_type": "stream",
     "text": [
      "[I 2024-09-06 14:31:12,616] Trial 20 finished with value: 0.8482936347205601 and parameters: {'hidden_dim': 64, 'num_heads': 2, 'num_layers': 4, 'fc_out_channels': 96, 'dropout': 0.2, 'learning_rate': 0.002276557609511286}. Best is trial 19 with value: 0.8476404422164436.\n"
     ]
    },
    {
     "name": "stdout",
     "output_type": "stream",
     "text": [
      "Epochs: 9 | epoch avg. loss: 0.87 | validation avg. loss: 0.85\n",
      "Epochs: 0 | epoch avg. loss: 2.06 | validation avg. loss: 1.74\n",
      "Epochs: 1 | epoch avg. loss: 1.11 | validation avg. loss: 0.88\n",
      "Epochs: 2 | epoch avg. loss: 0.89 | validation avg. loss: 0.88\n",
      "Epochs: 3 | epoch avg. loss: 0.88 | validation avg. loss: 0.86\n",
      "Epochs: 4 | epoch avg. loss: 0.88 | validation avg. loss: 0.85\n",
      "Epochs: 5 | epoch avg. loss: 0.88 | validation avg. loss: 0.86\n",
      "Epochs: 6 | epoch avg. loss: 0.87 | validation avg. loss: 0.87\n",
      "Epochs: 7 | epoch avg. loss: 0.87 | validation avg. loss: 0.85\n",
      "Epochs: 8 | epoch avg. loss: 0.87 | validation avg. loss: 0.87\n"
     ]
    },
    {
     "name": "stderr",
     "output_type": "stream",
     "text": [
      "[I 2024-09-06 14:39:45,308] Trial 21 finished with value: 0.8898579055346585 and parameters: {'hidden_dim': 64, 'num_heads': 2, 'num_layers': 4, 'fc_out_channels': 96, 'dropout': 0.2, 'learning_rate': 0.0015044117183931507}. Best is trial 19 with value: 0.8476404422164436.\n"
     ]
    },
    {
     "name": "stdout",
     "output_type": "stream",
     "text": [
      "Epochs: 9 | epoch avg. loss: 0.91 | validation avg. loss: 0.89\n",
      "Epochs: 0 | epoch avg. loss: 1.85 | validation avg. loss: 0.94\n",
      "Epochs: 1 | epoch avg. loss: 0.91 | validation avg. loss: 0.87\n",
      "Epochs: 2 | epoch avg. loss: 0.89 | validation avg. loss: 0.87\n",
      "Epochs: 3 | epoch avg. loss: 0.89 | validation avg. loss: 0.86\n",
      "Epochs: 4 | epoch avg. loss: 0.88 | validation avg. loss: 0.86\n",
      "Epochs: 5 | epoch avg. loss: 0.88 | validation avg. loss: 0.86\n",
      "Epochs: 6 | epoch avg. loss: 0.87 | validation avg. loss: 0.85\n",
      "Epochs: 7 | epoch avg. loss: 0.87 | validation avg. loss: 0.86\n",
      "Epochs: 8 | epoch avg. loss: 0.87 | validation avg. loss: 0.87\n"
     ]
    },
    {
     "name": "stderr",
     "output_type": "stream",
     "text": [
      "[I 2024-09-06 14:48:16,452] Trial 22 finished with value: 0.8667978878970424 and parameters: {'hidden_dim': 32, 'num_heads': 2, 'num_layers': 4, 'fc_out_channels': 64, 'dropout': 0.1, 'learning_rate': 0.003123503336014586}. Best is trial 19 with value: 0.8476404422164436.\n"
     ]
    },
    {
     "name": "stdout",
     "output_type": "stream",
     "text": [
      "Epochs: 9 | epoch avg. loss: 0.87 | validation avg. loss: 0.87\n",
      "Epochs: 0 | epoch avg. loss: 1.75 | validation avg. loss: 0.96\n",
      "Epochs: 1 | epoch avg. loss: 0.92 | validation avg. loss: 0.87\n",
      "Epochs: 2 | epoch avg. loss: 0.90 | validation avg. loss: 0.86\n",
      "Epochs: 3 | epoch avg. loss: 0.89 | validation avg. loss: 0.87\n",
      "Epochs: 4 | epoch avg. loss: 0.89 | validation avg. loss: 0.86\n",
      "Epochs: 5 | epoch avg. loss: 0.88 | validation avg. loss: 0.93\n",
      "Epochs: 6 | epoch avg. loss: 0.93 | validation avg. loss: 0.86\n",
      "Epochs: 7 | epoch avg. loss: 0.88 | validation avg. loss: 0.85\n",
      "Epochs: 8 | epoch avg. loss: 0.88 | validation avg. loss: 0.93\n"
     ]
    },
    {
     "name": "stderr",
     "output_type": "stream",
     "text": [
      "[I 2024-09-06 14:56:46,632] Trial 23 finished with value: 0.8484591209440502 and parameters: {'hidden_dim': 64, 'num_heads': 2, 'num_layers': 4, 'fc_out_channels': 96, 'dropout': 0.2, 'learning_rate': 0.004230689471099278}. Best is trial 19 with value: 0.8476404422164436.\n"
     ]
    },
    {
     "name": "stdout",
     "output_type": "stream",
     "text": [
      "Epochs: 9 | epoch avg. loss: 0.87 | validation avg. loss: 0.85\n",
      "Epochs: 0 | epoch avg. loss: 1.84 | validation avg. loss: 1.21\n",
      "Epochs: 1 | epoch avg. loss: 0.94 | validation avg. loss: 0.93\n",
      "Epochs: 2 | epoch avg. loss: 0.91 | validation avg. loss: 0.91\n",
      "Epochs: 3 | epoch avg. loss: 0.90 | validation avg. loss: 0.86\n",
      "Epochs: 4 | epoch avg. loss: 0.89 | validation avg. loss: 0.93\n",
      "Epochs: 5 | epoch avg. loss: 0.88 | validation avg. loss: 0.86\n",
      "Epochs: 6 | epoch avg. loss: 0.88 | validation avg. loss: 0.87\n",
      "Epochs: 7 | epoch avg. loss: 0.88 | validation avg. loss: 0.89\n",
      "Epochs: 8 | epoch avg. loss: 0.88 | validation avg. loss: 0.85\n"
     ]
    },
    {
     "name": "stderr",
     "output_type": "stream",
     "text": [
      "[I 2024-09-06 15:05:17,364] Trial 24 finished with value: 0.8834883114294645 and parameters: {'hidden_dim': 96, 'num_heads': 2, 'num_layers': 4, 'fc_out_channels': 96, 'dropout': 0.2, 'learning_rate': 0.00418896290861282}. Best is trial 19 with value: 0.8476404422164436.\n"
     ]
    },
    {
     "name": "stdout",
     "output_type": "stream",
     "text": [
      "Epochs: 9 | epoch avg. loss: 0.88 | validation avg. loss: 0.88\n",
      "Epochs: 0 | epoch avg. loss: 1.68 | validation avg. loss: 1.49\n",
      "Epochs: 1 | epoch avg. loss: 0.93 | validation avg. loss: 1.01\n",
      "Epochs: 2 | epoch avg. loss: 0.90 | validation avg. loss: 0.86\n",
      "Epochs: 3 | epoch avg. loss: 0.90 | validation avg. loss: 0.88\n",
      "Epochs: 4 | epoch avg. loss: 0.89 | validation avg. loss: 1.04\n",
      "Epochs: 5 | epoch avg. loss: 0.88 | validation avg. loss: 0.86\n",
      "Epochs: 6 | epoch avg. loss: 0.88 | validation avg. loss: 0.85\n",
      "Epochs: 7 | epoch avg. loss: 0.88 | validation avg. loss: 0.86\n",
      "Epochs: 8 | epoch avg. loss: 0.88 | validation avg. loss: 0.85\n"
     ]
    },
    {
     "name": "stderr",
     "output_type": "stream",
     "text": [
      "[I 2024-09-06 15:13:49,093] Trial 25 finished with value: 0.8835665585096386 and parameters: {'hidden_dim': 64, 'num_heads': 2, 'num_layers': 4, 'fc_out_channels': 96, 'dropout': 0.30000000000000004, 'learning_rate': 0.00461226227069178}. Best is trial 19 with value: 0.8476404422164436.\n"
     ]
    },
    {
     "name": "stdout",
     "output_type": "stream",
     "text": [
      "Epochs: 9 | epoch avg. loss: 0.88 | validation avg. loss: 0.88\n",
      "Epochs: 0 | epoch avg. loss: 1.61 | validation avg. loss: 1.09\n",
      "Epochs: 1 | epoch avg. loss: 0.93 | validation avg. loss: 1.09\n",
      "Epochs: 2 | epoch avg. loss: 0.91 | validation avg. loss: 0.91\n",
      "Epochs: 3 | epoch avg. loss: 0.91 | validation avg. loss: 0.86\n",
      "Epochs: 4 | epoch avg. loss: 0.90 | validation avg. loss: 0.86\n",
      "Epochs: 5 | epoch avg. loss: 0.90 | validation avg. loss: 0.90\n",
      "Epochs: 6 | epoch avg. loss: 0.89 | validation avg. loss: 0.87\n",
      "Epochs: 7 | epoch avg. loss: 0.89 | validation avg. loss: 0.98\n",
      "Epochs: 8 | epoch avg. loss: 0.89 | validation avg. loss: 0.92\n"
     ]
    },
    {
     "name": "stderr",
     "output_type": "stream",
     "text": [
      "[I 2024-09-06 15:22:17,683] Trial 26 finished with value: 0.9359146292856135 and parameters: {'hidden_dim': 64, 'num_heads': 2, 'num_layers': 4, 'fc_out_channels': 128, 'dropout': 0.2, 'learning_rate': 0.008740152799800009}. Best is trial 19 with value: 0.8476404422164436.\n"
     ]
    },
    {
     "name": "stdout",
     "output_type": "stream",
     "text": [
      "Epochs: 9 | epoch avg. loss: 0.89 | validation avg. loss: 0.94\n",
      "Epochs: 0 | epoch avg. loss: 2.05 | validation avg. loss: 2.97\n",
      "Epochs: 1 | epoch avg. loss: 1.21 | validation avg. loss: 0.95\n",
      "Epochs: 2 | epoch avg. loss: 0.90 | validation avg. loss: 0.86\n",
      "Epochs: 3 | epoch avg. loss: 0.89 | validation avg. loss: 0.87\n",
      "Epochs: 4 | epoch avg. loss: 0.89 | validation avg. loss: 0.89\n",
      "Epochs: 5 | epoch avg. loss: 0.88 | validation avg. loss: 0.92\n",
      "Epochs: 6 | epoch avg. loss: 0.89 | validation avg. loss: 0.86\n",
      "Epochs: 7 | epoch avg. loss: 0.88 | validation avg. loss: 0.92\n",
      "Epochs: 8 | epoch avg. loss: 0.88 | validation avg. loss: 0.87\n"
     ]
    },
    {
     "name": "stderr",
     "output_type": "stream",
     "text": [
      "[I 2024-09-06 15:30:48,766] Trial 27 finished with value: 0.8563099693761133 and parameters: {'hidden_dim': 96, 'num_heads': 2, 'num_layers': 4, 'fc_out_channels': 96, 'dropout': 0.30000000000000004, 'learning_rate': 0.0016136478546050115}. Best is trial 19 with value: 0.8476404422164436.\n"
     ]
    },
    {
     "name": "stdout",
     "output_type": "stream",
     "text": [
      "Epochs: 9 | epoch avg. loss: 0.88 | validation avg. loss: 0.86\n",
      "Epochs: 0 | epoch avg. loss: 1.97 | validation avg. loss: 2.43\n",
      "Epochs: 1 | epoch avg. loss: 0.96 | validation avg. loss: 0.91\n",
      "Epochs: 2 | epoch avg. loss: 0.90 | validation avg. loss: 0.87\n",
      "Epochs: 3 | epoch avg. loss: 0.89 | validation avg. loss: 0.90\n",
      "Epochs: 4 | epoch avg. loss: 0.88 | validation avg. loss: 0.93\n",
      "Epochs: 5 | epoch avg. loss: 0.88 | validation avg. loss: 0.88\n",
      "Epochs: 6 | epoch avg. loss: 0.88 | validation avg. loss: 0.86\n",
      "Epochs: 7 | epoch avg. loss: 0.87 | validation avg. loss: 0.86\n",
      "Epochs: 8 | epoch avg. loss: 0.87 | validation avg. loss: 0.88\n"
     ]
    },
    {
     "name": "stderr",
     "output_type": "stream",
     "text": [
      "[I 2024-09-06 15:39:18,161] Trial 28 finished with value: 0.8508482651194975 and parameters: {'hidden_dim': 64, 'num_heads': 8, 'num_layers': 4, 'fc_out_channels': 96, 'dropout': 0.4, 'learning_rate': 0.002833802706862752}. Best is trial 19 with value: 0.8476404422164436.\n"
     ]
    },
    {
     "name": "stdout",
     "output_type": "stream",
     "text": [
      "Epochs: 9 | epoch avg. loss: 0.87 | validation avg. loss: 0.85\n",
      "Epochs: 0 | epoch avg. loss: 1.64 | validation avg. loss: 1.05\n",
      "Epochs: 1 | epoch avg. loss: 0.91 | validation avg. loss: 0.88\n",
      "Epochs: 2 | epoch avg. loss: 0.90 | validation avg. loss: 0.87\n",
      "Epochs: 3 | epoch avg. loss: 0.90 | validation avg. loss: 0.85\n",
      "Epochs: 4 | epoch avg. loss: 0.89 | validation avg. loss: 0.85\n",
      "Epochs: 5 | epoch avg. loss: 0.88 | validation avg. loss: 0.89\n",
      "Epochs: 6 | epoch avg. loss: 0.89 | validation avg. loss: 0.85\n",
      "Epochs: 7 | epoch avg. loss: 0.88 | validation avg. loss: 0.86\n",
      "Epochs: 8 | epoch avg. loss: 0.88 | validation avg. loss: 0.85\n"
     ]
    },
    {
     "name": "stderr",
     "output_type": "stream",
     "text": [
      "[I 2024-09-06 15:46:39,741] Trial 29 finished with value: 0.859084955246624 and parameters: {'hidden_dim': 64, 'num_heads': 2, 'num_layers': 3, 'fc_out_channels': 128, 'dropout': 0.2, 'learning_rate': 0.005594019453412127}. Best is trial 19 with value: 0.8476404422164436.\n"
     ]
    },
    {
     "name": "stdout",
     "output_type": "stream",
     "text": [
      "Epochs: 9 | epoch avg. loss: 0.88 | validation avg. loss: 0.86\n",
      "Epochs: 0 | epoch avg. loss: 1.74 | validation avg. loss: 6.83\n",
      "Epochs: 1 | epoch avg. loss: 0.95 | validation avg. loss: 3.67\n",
      "Epochs: 2 | epoch avg. loss: 0.92 | validation avg. loss: 1.82\n",
      "Epochs: 3 | epoch avg. loss: 0.91 | validation avg. loss: 0.88\n",
      "Epochs: 4 | epoch avg. loss: 0.90 | validation avg. loss: 0.86\n",
      "Epochs: 5 | epoch avg. loss: 0.89 | validation avg. loss: 0.92\n",
      "Epochs: 6 | epoch avg. loss: 0.88 | validation avg. loss: 0.86\n",
      "Epochs: 7 | epoch avg. loss: 0.89 | validation avg. loss: 1.00\n",
      "Epochs: 8 | epoch avg. loss: 0.89 | validation avg. loss: 0.86\n"
     ]
    },
    {
     "name": "stderr",
     "output_type": "stream",
     "text": [
      "[I 2024-09-06 15:55:14,149] Trial 30 finished with value: 0.8553217692934744 and parameters: {'hidden_dim': 96, 'num_heads': 2, 'num_layers': 4, 'fc_out_channels': 64, 'dropout': 0.4, 'learning_rate': 0.007095735818770592}. Best is trial 19 with value: 0.8476404422164436.\n"
     ]
    },
    {
     "name": "stdout",
     "output_type": "stream",
     "text": [
      "Epochs: 9 | epoch avg. loss: 0.88 | validation avg. loss: 0.86\n",
      "Epochs: 0 | epoch avg. loss: 2.05 | validation avg. loss: 1.33\n",
      "Epochs: 1 | epoch avg. loss: 0.98 | validation avg. loss: 0.93\n",
      "Epochs: 2 | epoch avg. loss: 0.88 | validation avg. loss: 0.86\n",
      "Epochs: 3 | epoch avg. loss: 0.88 | validation avg. loss: 0.88\n",
      "Epochs: 4 | epoch avg. loss: 0.88 | validation avg. loss: 0.86\n",
      "Epochs: 5 | epoch avg. loss: 0.87 | validation avg. loss: 0.99\n",
      "Epochs: 6 | epoch avg. loss: 0.87 | validation avg. loss: 0.93\n",
      "Epochs: 7 | epoch avg. loss: 0.87 | validation avg. loss: 0.85\n",
      "Epochs: 8 | epoch avg. loss: 0.87 | validation avg. loss: 0.88\n"
     ]
    },
    {
     "name": "stderr",
     "output_type": "stream",
     "text": [
      "[I 2024-09-06 16:03:46,902] Trial 31 finished with value: 0.9044372282819771 and parameters: {'hidden_dim': 32, 'num_heads': 2, 'num_layers': 4, 'fc_out_channels': 96, 'dropout': 0.30000000000000004, 'learning_rate': 0.0015630856524398238}. Best is trial 19 with value: 0.8476404422164436.\n"
     ]
    },
    {
     "name": "stdout",
     "output_type": "stream",
     "text": [
      "Epochs: 9 | epoch avg. loss: 0.87 | validation avg. loss: 0.90\n",
      "Epochs: 0 | epoch avg. loss: 1.94 | validation avg. loss: 1.30\n",
      "Epochs: 1 | epoch avg. loss: 0.94 | validation avg. loss: 0.93\n",
      "Epochs: 2 | epoch avg. loss: 0.88 | validation avg. loss: 0.87\n",
      "Epochs: 3 | epoch avg. loss: 0.88 | validation avg. loss: 0.97\n",
      "Epochs: 4 | epoch avg. loss: 0.88 | validation avg. loss: 0.86\n",
      "Epochs: 5 | epoch avg. loss: 0.87 | validation avg. loss: 0.85\n",
      "Epochs: 6 | epoch avg. loss: 0.87 | validation avg. loss: 0.87\n",
      "Epochs: 7 | epoch avg. loss: 0.87 | validation avg. loss: 1.02\n",
      "Epochs: 8 | epoch avg. loss: 0.87 | validation avg. loss: 0.85\n"
     ]
    },
    {
     "name": "stderr",
     "output_type": "stream",
     "text": [
      "[I 2024-09-06 16:12:18,726] Trial 32 finished with value: 0.8501853312429943 and parameters: {'hidden_dim': 32, 'num_heads': 2, 'num_layers': 4, 'fc_out_channels': 64, 'dropout': 0.1, 'learning_rate': 0.002404844703192572}. Best is trial 19 with value: 0.8476404422164436.\n"
     ]
    },
    {
     "name": "stdout",
     "output_type": "stream",
     "text": [
      "Epochs: 9 | epoch avg. loss: 0.87 | validation avg. loss: 0.85\n",
      "Epochs: 0 | epoch avg. loss: 1.75 | validation avg. loss: 0.87\n",
      "Epochs: 1 | epoch avg. loss: 0.90 | validation avg. loss: 0.86\n",
      "Epochs: 2 | epoch avg. loss: 0.89 | validation avg. loss: 0.88\n",
      "Epochs: 3 | epoch avg. loss: 0.89 | validation avg. loss: 0.86\n",
      "Epochs: 4 | epoch avg. loss: 0.88 | validation avg. loss: 0.85\n",
      "Epochs: 5 | epoch avg. loss: 0.88 | validation avg. loss: 0.86\n",
      "Epochs: 6 | epoch avg. loss: 0.88 | validation avg. loss: 0.85\n",
      "Epochs: 7 | epoch avg. loss: 0.88 | validation avg. loss: 0.93\n",
      "Epochs: 8 | epoch avg. loss: 0.88 | validation avg. loss: 0.85\n"
     ]
    },
    {
     "name": "stderr",
     "output_type": "stream",
     "text": [
      "[I 2024-09-06 16:20:50,788] Trial 33 finished with value: 0.8948074795512785 and parameters: {'hidden_dim': 32, 'num_heads': 2, 'num_layers': 4, 'fc_out_channels': 64, 'dropout': 0.1, 'learning_rate': 0.004733410082696895}. Best is trial 19 with value: 0.8476404422164436.\n"
     ]
    },
    {
     "name": "stdout",
     "output_type": "stream",
     "text": [
      "Epochs: 9 | epoch avg. loss: 0.88 | validation avg. loss: 0.89\n",
      "Epochs: 0 | epoch avg. loss: 1.99 | validation avg. loss: 2.27\n",
      "Epochs: 1 | epoch avg. loss: 1.13 | validation avg. loss: 0.88\n",
      "Epochs: 2 | epoch avg. loss: 0.91 | validation avg. loss: 0.96\n",
      "Epochs: 3 | epoch avg. loss: 0.90 | validation avg. loss: 0.91\n",
      "Epochs: 4 | epoch avg. loss: 0.89 | validation avg. loss: 0.93\n",
      "Epochs: 5 | epoch avg. loss: 0.89 | validation avg. loss: 0.90\n",
      "Epochs: 6 | epoch avg. loss: 0.89 | validation avg. loss: 0.86\n",
      "Epochs: 7 | epoch avg. loss: 0.88 | validation avg. loss: 0.88\n",
      "Epochs: 8 | epoch avg. loss: 0.88 | validation avg. loss: 0.86\n"
     ]
    },
    {
     "name": "stderr",
     "output_type": "stream",
     "text": [
      "[I 2024-09-06 16:29:22,464] Trial 34 finished with value: 0.854172080565375 and parameters: {'hidden_dim': 128, 'num_heads': 2, 'num_layers': 4, 'fc_out_channels': 64, 'dropout': 0.2, 'learning_rate': 0.0026062050209295444}. Best is trial 19 with value: 0.8476404422164436.\n"
     ]
    },
    {
     "name": "stdout",
     "output_type": "stream",
     "text": [
      "Epochs: 9 | epoch avg. loss: 0.87 | validation avg. loss: 0.85\n",
      "Epochs: 0 | epoch avg. loss: 2.05 | validation avg. loss: 1.25\n",
      "Epochs: 1 | epoch avg. loss: 0.98 | validation avg. loss: 0.87\n",
      "Epochs: 2 | epoch avg. loss: 0.89 | validation avg. loss: 0.88\n",
      "Epochs: 3 | epoch avg. loss: 0.88 | validation avg. loss: 0.90\n",
      "Epochs: 4 | epoch avg. loss: 0.88 | validation avg. loss: 0.88\n",
      "Epochs: 5 | epoch avg. loss: 0.88 | validation avg. loss: 0.87\n",
      "Epochs: 6 | epoch avg. loss: 0.88 | validation avg. loss: 0.90\n",
      "Epochs: 7 | epoch avg. loss: 0.87 | validation avg. loss: 0.86\n",
      "Epochs: 8 | epoch avg. loss: 0.87 | validation avg. loss: 0.85\n"
     ]
    },
    {
     "name": "stderr",
     "output_type": "stream",
     "text": [
      "[I 2024-09-06 16:37:54,164] Trial 35 finished with value: 0.8518868724501438 and parameters: {'hidden_dim': 32, 'num_heads': 2, 'num_layers': 4, 'fc_out_channels': 96, 'dropout': 0.1, 'learning_rate': 0.0019392562917593416}. Best is trial 19 with value: 0.8476404422164436.\n"
     ]
    },
    {
     "name": "stdout",
     "output_type": "stream",
     "text": [
      "Epochs: 9 | epoch avg. loss: 0.86 | validation avg. loss: 0.85\n",
      "Epochs: 0 | epoch avg. loss: 2.88 | validation avg. loss: 2.24\n",
      "Epochs: 1 | epoch avg. loss: 1.88 | validation avg. loss: 2.15\n",
      "Epochs: 2 | epoch avg. loss: 1.75 | validation avg. loss: 1.97\n",
      "Epochs: 3 | epoch avg. loss: 1.56 | validation avg. loss: 1.67\n",
      "Epochs: 4 | epoch avg. loss: 1.29 | validation avg. loss: 1.13\n",
      "Epochs: 5 | epoch avg. loss: 1.02 | validation avg. loss: 0.93\n",
      "Epochs: 6 | epoch avg. loss: 0.89 | validation avg. loss: 0.87\n",
      "Epochs: 7 | epoch avg. loss: 0.88 | validation avg. loss: 0.87\n",
      "Epochs: 8 | epoch avg. loss: 0.87 | validation avg. loss: 0.86\n"
     ]
    },
    {
     "name": "stderr",
     "output_type": "stream",
     "text": [
      "[I 2024-09-06 16:46:24,331] Trial 36 finished with value: 0.8605151685824433 and parameters: {'hidden_dim': 64, 'num_heads': 2, 'num_layers': 4, 'fc_out_channels': 64, 'dropout': 0.2, 'learning_rate': 0.0003766436686885401}. Best is trial 19 with value: 0.8476404422164436.\n"
     ]
    },
    {
     "name": "stdout",
     "output_type": "stream",
     "text": [
      "Epochs: 9 | epoch avg. loss: 0.87 | validation avg. loss: 0.86\n",
      "Epochs: 0 | epoch avg. loss: 2.56 | validation avg. loss: 1.76\n",
      "Epochs: 1 | epoch avg. loss: 1.55 | validation avg. loss: 1.20\n",
      "Epochs: 2 | epoch avg. loss: 1.00 | validation avg. loss: 0.89\n",
      "Epochs: 3 | epoch avg. loss: 0.88 | validation avg. loss: 0.89\n",
      "Epochs: 4 | epoch avg. loss: 0.88 | validation avg. loss: 0.86\n",
      "Epochs: 5 | epoch avg. loss: 0.87 | validation avg. loss: 0.86\n",
      "Epochs: 6 | epoch avg. loss: 0.87 | validation avg. loss: 0.87\n",
      "Epochs: 7 | epoch avg. loss: 0.87 | validation avg. loss: 0.88\n",
      "Epochs: 8 | epoch avg. loss: 0.87 | validation avg. loss: 0.86\n"
     ]
    },
    {
     "name": "stderr",
     "output_type": "stream",
     "text": [
      "[I 2024-09-06 16:53:46,218] Trial 37 finished with value: 0.8635042391482862 and parameters: {'hidden_dim': 32, 'num_heads': 2, 'num_layers': 3, 'fc_out_channels': 32, 'dropout': 0.1, 'learning_rate': 0.001217095155417364}. Best is trial 19 with value: 0.8476404422164436.\n"
     ]
    },
    {
     "name": "stdout",
     "output_type": "stream",
     "text": [
      "Epochs: 9 | epoch avg. loss: 0.87 | validation avg. loss: 0.86\n",
      "Epochs: 0 | epoch avg. loss: 2.35 | validation avg. loss: 1.91\n",
      "Epochs: 1 | epoch avg. loss: 1.61 | validation avg. loss: 1.51\n",
      "Epochs: 2 | epoch avg. loss: 1.03 | validation avg. loss: 0.87\n",
      "Epochs: 3 | epoch avg. loss: 0.89 | validation avg. loss: 0.87\n",
      "Epochs: 4 | epoch avg. loss: 0.88 | validation avg. loss: 0.88\n",
      "Epochs: 5 | epoch avg. loss: 0.87 | validation avg. loss: 0.86\n",
      "Epochs: 6 | epoch avg. loss: 0.87 | validation avg. loss: 0.87\n",
      "Epochs: 7 | epoch avg. loss: 0.87 | validation avg. loss: 0.87\n",
      "Epochs: 8 | epoch avg. loss: 0.87 | validation avg. loss: 0.86\n"
     ]
    },
    {
     "name": "stderr",
     "output_type": "stream",
     "text": [
      "[I 2024-09-06 17:02:18,302] Trial 38 finished with value: 0.933215367057715 and parameters: {'hidden_dim': 64, 'num_heads': 2, 'num_layers': 4, 'fc_out_channels': 96, 'dropout': 0.2, 'learning_rate': 0.0008336014784324377}. Best is trial 19 with value: 0.8476404422164436.\n"
     ]
    },
    {
     "name": "stdout",
     "output_type": "stream",
     "text": [
      "Epochs: 9 | epoch avg. loss: 0.87 | validation avg. loss: 0.93\n",
      "Epochs: 0 | epoch avg. loss: 1.91 | validation avg. loss: 3.89\n",
      "Epochs: 1 | epoch avg. loss: 1.03 | validation avg. loss: 0.90\n",
      "Epochs: 2 | epoch avg. loss: 0.90 | validation avg. loss: 0.86\n",
      "Epochs: 3 | epoch avg. loss: 0.90 | validation avg. loss: 0.87\n",
      "Epochs: 4 | epoch avg. loss: 0.89 | validation avg. loss: 0.86\n",
      "Epochs: 5 | epoch avg. loss: 0.88 | validation avg. loss: 0.86\n",
      "Epochs: 6 | epoch avg. loss: 0.88 | validation avg. loss: 0.86\n",
      "Epochs: 7 | epoch avg. loss: 0.88 | validation avg. loss: 0.89\n",
      "Epochs: 8 | epoch avg. loss: 0.87 | validation avg. loss: 0.86\n"
     ]
    },
    {
     "name": "stderr",
     "output_type": "stream",
     "text": [
      "[I 2024-09-06 17:10:51,960] Trial 39 finished with value: 0.8487666092820582 and parameters: {'hidden_dim': 128, 'num_heads': 8, 'num_layers': 4, 'fc_out_channels': 32, 'dropout': 0.2, 'learning_rate': 0.0036488587064766914}. Best is trial 19 with value: 0.8476404422164436.\n"
     ]
    },
    {
     "name": "stdout",
     "output_type": "stream",
     "text": [
      "Epochs: 9 | epoch avg. loss: 0.87 | validation avg. loss: 0.85\n",
      "Epochs: 0 | epoch avg. loss: 2.01 | validation avg. loss: 2.87\n",
      "Epochs: 1 | epoch avg. loss: 1.28 | validation avg. loss: 2.01\n",
      "Epochs: 2 | epoch avg. loss: 0.92 | validation avg. loss: 0.92\n",
      "Epochs: 3 | epoch avg. loss: 0.89 | validation avg. loss: 1.05\n",
      "Epochs: 4 | epoch avg. loss: 0.89 | validation avg. loss: 0.92\n",
      "Epochs: 5 | epoch avg. loss: 0.89 | validation avg. loss: 0.92\n",
      "Epochs: 6 | epoch avg. loss: 0.89 | validation avg. loss: 0.98\n",
      "Epochs: 7 | epoch avg. loss: 0.88 | validation avg. loss: 0.87\n",
      "Epochs: 8 | epoch avg. loss: 0.88 | validation avg. loss: 0.87\n"
     ]
    },
    {
     "name": "stderr",
     "output_type": "stream",
     "text": [
      "[I 2024-09-06 17:19:23,358] Trial 40 finished with value: 0.8712157805137011 and parameters: {'hidden_dim': 128, 'num_heads': 8, 'num_layers': 4, 'fc_out_channels': 32, 'dropout': 0.2, 'learning_rate': 0.0038387905862147832}. Best is trial 19 with value: 0.8476404422164436.\n"
     ]
    },
    {
     "name": "stdout",
     "output_type": "stream",
     "text": [
      "Epochs: 9 | epoch avg. loss: 0.88 | validation avg. loss: 0.87\n",
      "Epochs: 0 | epoch avg. loss: 1.85 | validation avg. loss: 8.65\n",
      "Epochs: 1 | epoch avg. loss: 0.99 | validation avg. loss: 8.44\n",
      "Epochs: 2 | epoch avg. loss: 0.94 | validation avg. loss: 4.25\n",
      "Epochs: 3 | epoch avg. loss: 0.93 | validation avg. loss: 4.14\n",
      "Epochs: 4 | epoch avg. loss: 0.91 | validation avg. loss: 1.01\n",
      "Epochs: 5 | epoch avg. loss: 0.91 | validation avg. loss: 0.96\n",
      "Epochs: 6 | epoch avg. loss: 0.90 | validation avg. loss: 0.86\n",
      "Epochs: 7 | epoch avg. loss: 0.89 | validation avg. loss: 0.90\n",
      "Epochs: 8 | epoch avg. loss: 0.89 | validation avg. loss: 0.87\n"
     ]
    },
    {
     "name": "stderr",
     "output_type": "stream",
     "text": [
      "[I 2024-09-06 17:26:46,086] Trial 41 finished with value: 0.8943140041177683 and parameters: {'hidden_dim': 128, 'num_heads': 8, 'num_layers': 3, 'fc_out_channels': 32, 'dropout': 0.30000000000000004, 'learning_rate': 0.006913305829420843}. Best is trial 19 with value: 0.8476404422164436.\n"
     ]
    },
    {
     "name": "stdout",
     "output_type": "stream",
     "text": [
      "Epochs: 9 | epoch avg. loss: 0.89 | validation avg. loss: 0.89\n",
      "Epochs: 0 | epoch avg. loss: 1.97 | validation avg. loss: 2.55\n",
      "Epochs: 1 | epoch avg. loss: 1.20 | validation avg. loss: 1.38\n",
      "Epochs: 2 | epoch avg. loss: 0.90 | validation avg. loss: 1.02\n",
      "Epochs: 3 | epoch avg. loss: 0.89 | validation avg. loss: 0.86\n",
      "Epochs: 4 | epoch avg. loss: 0.89 | validation avg. loss: 0.96\n",
      "Epochs: 5 | epoch avg. loss: 0.88 | validation avg. loss: 0.93\n",
      "Epochs: 6 | epoch avg. loss: 0.88 | validation avg. loss: 0.93\n",
      "Epochs: 7 | epoch avg. loss: 0.87 | validation avg. loss: 1.05\n",
      "Epochs: 8 | epoch avg. loss: 0.87 | validation avg. loss: 0.93\n"
     ]
    },
    {
     "name": "stderr",
     "output_type": "stream",
     "text": [
      "[I 2024-09-06 17:35:19,948] Trial 42 finished with value: 0.9007494313357423 and parameters: {'hidden_dim': 128, 'num_heads': 8, 'num_layers': 4, 'fc_out_channels': 32, 'dropout': 0.2, 'learning_rate': 0.0028770716498674885}. Best is trial 19 with value: 0.8476404422164436.\n"
     ]
    },
    {
     "name": "stdout",
     "output_type": "stream",
     "text": [
      "Epochs: 9 | epoch avg. loss: 0.87 | validation avg. loss: 0.90\n",
      "Epochs: 0 | epoch avg. loss: 1.72 | validation avg. loss: 0.87\n",
      "Epochs: 1 | epoch avg. loss: 0.89 | validation avg. loss: 0.87\n",
      "Epochs: 2 | epoch avg. loss: 0.89 | validation avg. loss: 0.88\n",
      "Epochs: 3 | epoch avg. loss: 0.89 | validation avg. loss: 0.86\n",
      "Epochs: 4 | epoch avg. loss: 0.89 | validation avg. loss: 0.92\n",
      "Epochs: 5 | epoch avg. loss: 0.89 | validation avg. loss: 0.86\n",
      "Epochs: 6 | epoch avg. loss: 0.88 | validation avg. loss: 0.85\n",
      "Epochs: 7 | epoch avg. loss: 0.88 | validation avg. loss: 0.86\n",
      "Epochs: 8 | epoch avg. loss: 0.87 | validation avg. loss: 0.85\n"
     ]
    },
    {
     "name": "stderr",
     "output_type": "stream",
     "text": [
      "[I 2024-09-06 17:43:54,238] Trial 43 finished with value: 0.9166953377683631 and parameters: {'hidden_dim': 32, 'num_heads': 8, 'num_layers': 4, 'fc_out_channels': 64, 'dropout': 0.1, 'learning_rate': 0.004674981689080911}. Best is trial 19 with value: 0.8476404422164436.\n"
     ]
    },
    {
     "name": "stdout",
     "output_type": "stream",
     "text": [
      "Epochs: 9 | epoch avg. loss: 0.88 | validation avg. loss: 0.92\n",
      "Epochs: 0 | epoch avg. loss: 1.98 | validation avg. loss: 15.88\n",
      "Epochs: 1 | epoch avg. loss: 1.36 | validation avg. loss: 6.04\n",
      "Epochs: 2 | epoch avg. loss: 0.94 | validation avg. loss: 7.67\n",
      "Epochs: 3 | epoch avg. loss: 0.91 | validation avg. loss: 7.96\n",
      "Epochs: 4 | epoch avg. loss: 0.91 | validation avg. loss: 3.23\n",
      "Epochs: 5 | epoch avg. loss: 0.90 | validation avg. loss: 1.04\n",
      "Epochs: 6 | epoch avg. loss: 0.89 | validation avg. loss: 0.86\n",
      "Epochs: 7 | epoch avg. loss: 0.88 | validation avg. loss: 0.88\n",
      "Epochs: 8 | epoch avg. loss: 0.88 | validation avg. loss: 0.86\n"
     ]
    },
    {
     "name": "stderr",
     "output_type": "stream",
     "text": [
      "[I 2024-09-06 17:52:28,292] Trial 44 finished with value: 0.8659694806524133 and parameters: {'hidden_dim': 96, 'num_heads': 8, 'num_layers': 4, 'fc_out_channels': 32, 'dropout': 0.5, 'learning_rate': 0.0018747701794330622}. Best is trial 19 with value: 0.8476404422164436.\n"
     ]
    },
    {
     "name": "stdout",
     "output_type": "stream",
     "text": [
      "Epochs: 9 | epoch avg. loss: 0.88 | validation avg. loss: 0.87\n",
      "Epochs: 0 | epoch avg. loss: 2.09 | validation avg. loss: 1.69\n",
      "Epochs: 1 | epoch avg. loss: 1.14 | validation avg. loss: 0.87\n",
      "Epochs: 2 | epoch avg. loss: 0.89 | validation avg. loss: 0.91\n",
      "Epochs: 3 | epoch avg. loss: 0.88 | validation avg. loss: 0.91\n",
      "Epochs: 4 | epoch avg. loss: 0.88 | validation avg. loss: 0.89\n",
      "Epochs: 5 | epoch avg. loss: 0.88 | validation avg. loss: 0.86\n",
      "Epochs: 6 | epoch avg. loss: 0.88 | validation avg. loss: 0.89\n",
      "Epochs: 7 | epoch avg. loss: 0.88 | validation avg. loss: 0.92\n",
      "Epochs: 8 | epoch avg. loss: 0.87 | validation avg. loss: 0.86\n"
     ]
    },
    {
     "name": "stderr",
     "output_type": "stream",
     "text": [
      "[I 2024-09-06 18:01:03,317] Trial 45 finished with value: 0.867252544621089 and parameters: {'hidden_dim': 64, 'num_heads': 2, 'num_layers': 4, 'fc_out_channels': 128, 'dropout': 0.2, 'learning_rate': 0.0012051865550634882}. Best is trial 19 with value: 0.8476404422164436.\n"
     ]
    },
    {
     "name": "stdout",
     "output_type": "stream",
     "text": [
      "Epochs: 9 | epoch avg. loss: 0.87 | validation avg. loss: 0.87\n",
      "Epochs: 0 | epoch avg. loss: 2.12 | validation avg. loss: 1.76\n",
      "Epochs: 1 | epoch avg. loss: 1.16 | validation avg. loss: 0.89\n",
      "Epochs: 2 | epoch avg. loss: 0.89 | validation avg. loss: 0.88\n",
      "Epochs: 3 | epoch avg. loss: 0.88 | validation avg. loss: 0.92\n",
      "Epochs: 4 | epoch avg. loss: 0.88 | validation avg. loss: 0.91\n",
      "Epochs: 5 | epoch avg. loss: 0.88 | validation avg. loss: 0.89\n",
      "Epochs: 6 | epoch avg. loss: 0.88 | validation avg. loss: 0.87\n",
      "Epochs: 7 | epoch avg. loss: 0.88 | validation avg. loss: 0.86\n",
      "Epochs: 8 | epoch avg. loss: 0.87 | validation avg. loss: 0.86\n"
     ]
    },
    {
     "name": "stderr",
     "output_type": "stream",
     "text": [
      "[I 2024-09-06 18:09:35,900] Trial 46 finished with value: 0.8682808337609157 and parameters: {'hidden_dim': 32, 'num_heads': 2, 'num_layers': 4, 'fc_out_channels': 96, 'dropout': 0.30000000000000004, 'learning_rate': 0.0009726803581100975}. Best is trial 19 with value: 0.8476404422164436.\n"
     ]
    },
    {
     "name": "stdout",
     "output_type": "stream",
     "text": [
      "Epochs: 9 | epoch avg. loss: 0.87 | validation avg. loss: 0.87\n",
      "Epochs: 0 | epoch avg. loss: 1.62 | validation avg. loss: 3.37\n",
      "Epochs: 1 | epoch avg. loss: 0.94 | validation avg. loss: 0.86\n",
      "Epochs: 2 | epoch avg. loss: 0.91 | validation avg. loss: 0.89\n",
      "Epochs: 3 | epoch avg. loss: 0.91 | validation avg. loss: 0.96\n",
      "Epochs: 4 | epoch avg. loss: 0.90 | validation avg. loss: 0.85\n",
      "Epochs: 5 | epoch avg. loss: 0.90 | validation avg. loss: 0.87\n",
      "Epochs: 6 | epoch avg. loss: 0.89 | validation avg. loss: 1.09\n",
      "Epochs: 7 | epoch avg. loss: 0.90 | validation avg. loss: 0.87\n",
      "Epochs: 8 | epoch avg. loss: 0.89 | validation avg. loss: 1.59\n"
     ]
    },
    {
     "name": "stderr",
     "output_type": "stream",
     "text": [
      "[I 2024-09-06 18:18:07,730] Trial 47 finished with value: 0.8570796706627836 and parameters: {'hidden_dim': 64, 'num_heads': 8, 'num_layers': 4, 'fc_out_channels': 64, 'dropout': 0.4, 'learning_rate': 0.009997671961443064}. Best is trial 19 with value: 0.8476404422164436.\n"
     ]
    },
    {
     "name": "stdout",
     "output_type": "stream",
     "text": [
      "Epochs: 9 | epoch avg. loss: 0.89 | validation avg. loss: 0.86\n",
      "Epochs: 0 | epoch avg. loss: 2.68 | validation avg. loss: 2.15\n",
      "Epochs: 1 | epoch avg. loss: 1.91 | validation avg. loss: 2.05\n",
      "Epochs: 2 | epoch avg. loss: 1.83 | validation avg. loss: 1.77\n",
      "Epochs: 3 | epoch avg. loss: 1.69 | validation avg. loss: 1.67\n",
      "Epochs: 4 | epoch avg. loss: 1.50 | validation avg. loss: 1.39\n",
      "Epochs: 5 | epoch avg. loss: 1.28 | validation avg. loss: 1.14\n",
      "Epochs: 6 | epoch avg. loss: 1.06 | validation avg. loss: 0.98\n",
      "Epochs: 7 | epoch avg. loss: 0.93 | validation avg. loss: 0.89\n",
      "Epochs: 8 | epoch avg. loss: 0.89 | validation avg. loss: 0.88\n"
     ]
    },
    {
     "name": "stderr",
     "output_type": "stream",
     "text": [
      "[I 2024-09-06 18:25:29,233] Trial 48 finished with value: 0.8782497815792607 and parameters: {'hidden_dim': 96, 'num_heads': 2, 'num_layers': 3, 'fc_out_channels': 96, 'dropout': 0.1, 'learning_rate': 0.00022294737902898065}. Best is trial 19 with value: 0.8476404422164436.\n"
     ]
    },
    {
     "name": "stdout",
     "output_type": "stream",
     "text": [
      "Epochs: 9 | epoch avg. loss: 0.88 | validation avg. loss: 0.88\n",
      "Epochs: 0 | epoch avg. loss: 2.15 | validation avg. loss: 1.31\n",
      "Epochs: 1 | epoch avg. loss: 1.00 | validation avg. loss: 0.86\n",
      "Epochs: 2 | epoch avg. loss: 0.88 | validation avg. loss: 0.88\n",
      "Epochs: 3 | epoch avg. loss: 0.88 | validation avg. loss: 0.99\n",
      "Epochs: 4 | epoch avg. loss: 0.88 | validation avg. loss: 0.88\n",
      "Epochs: 5 | epoch avg. loss: 0.88 | validation avg. loss: 0.89\n",
      "Epochs: 6 | epoch avg. loss: 0.88 | validation avg. loss: 0.86\n",
      "Epochs: 7 | epoch avg. loss: 0.88 | validation avg. loss: 0.89\n",
      "Epochs: 8 | epoch avg. loss: 0.88 | validation avg. loss: 0.87\n"
     ]
    },
    {
     "name": "stderr",
     "output_type": "stream",
     "text": [
      "[I 2024-09-06 18:34:00,687] Trial 49 finished with value: 0.9240564880427447 and parameters: {'hidden_dim': 32, 'num_heads': 4, 'num_layers': 4, 'fc_out_channels': 32, 'dropout': 0.2, 'learning_rate': 0.003594399204760471}. Best is trial 19 with value: 0.8476404422164436.\n"
     ]
    },
    {
     "name": "stdout",
     "output_type": "stream",
     "text": [
      "Epochs: 9 | epoch avg. loss: 0.88 | validation avg. loss: 0.92\n",
      "Epochs: 0 | epoch avg. loss: 1.64 | validation avg. loss: 1.91\n",
      "Epochs: 1 | epoch avg. loss: 0.94 | validation avg. loss: 1.32\n",
      "Epochs: 2 | epoch avg. loss: 0.92 | validation avg. loss: 0.94\n",
      "Epochs: 3 | epoch avg. loss: 0.91 | validation avg. loss: 0.90\n",
      "Epochs: 4 | epoch avg. loss: 0.90 | validation avg. loss: 0.88\n",
      "Epochs: 5 | epoch avg. loss: 0.89 | validation avg. loss: 0.85\n",
      "Epochs: 6 | epoch avg. loss: 0.89 | validation avg. loss: 1.03\n",
      "Epochs: 7 | epoch avg. loss: 0.88 | validation avg. loss: 0.86\n",
      "Epochs: 8 | epoch avg. loss: 0.88 | validation avg. loss: 1.62\n"
     ]
    },
    {
     "name": "stderr",
     "output_type": "stream",
     "text": [
      "[I 2024-09-06 18:41:20,881] Trial 50 finished with value: 0.869151120524406 and parameters: {'hidden_dim': 64, 'num_heads': 2, 'num_layers': 3, 'fc_out_channels': 64, 'dropout': 0.30000000000000004, 'learning_rate': 0.0061803852840508575}. Best is trial 19 with value: 0.8476404422164436.\n"
     ]
    },
    {
     "name": "stdout",
     "output_type": "stream",
     "text": [
      "Epochs: 9 | epoch avg. loss: 0.88 | validation avg. loss: 0.87\n",
      "Epochs: 0 | epoch avg. loss: 1.83 | validation avg. loss: 0.93\n",
      "Epochs: 1 | epoch avg. loss: 0.90 | validation avg. loss: 0.86\n",
      "Epochs: 2 | epoch avg. loss: 0.89 | validation avg. loss: 0.86\n",
      "Epochs: 3 | epoch avg. loss: 0.89 | validation avg. loss: 0.91\n",
      "Epochs: 4 | epoch avg. loss: 0.89 | validation avg. loss: 0.86\n",
      "Epochs: 5 | epoch avg. loss: 0.88 | validation avg. loss: 0.86\n",
      "Epochs: 6 | epoch avg. loss: 0.88 | validation avg. loss: 0.94\n",
      "Epochs: 7 | epoch avg. loss: 0.99 | validation avg. loss: 0.98\n",
      "Epochs: 8 | epoch avg. loss: 0.88 | validation avg. loss: 0.87\n"
     ]
    },
    {
     "name": "stderr",
     "output_type": "stream",
     "text": [
      "[I 2024-09-06 18:49:51,713] Trial 51 finished with value: 0.850075664595987 and parameters: {'hidden_dim': 32, 'num_heads': 8, 'num_layers': 4, 'fc_out_channels': 96, 'dropout': 0.1, 'learning_rate': 0.0033599335163374193}. Best is trial 19 with value: 0.8476404422164436.\n"
     ]
    },
    {
     "name": "stdout",
     "output_type": "stream",
     "text": [
      "Epochs: 9 | epoch avg. loss: 0.87 | validation avg. loss: 0.85\n",
      "Epochs: 0 | epoch avg. loss: 1.90 | validation avg. loss: 1.01\n",
      "Epochs: 1 | epoch avg. loss: 0.92 | validation avg. loss: 0.86\n",
      "Epochs: 2 | epoch avg. loss: 0.89 | validation avg. loss: 0.88\n",
      "Epochs: 3 | epoch avg. loss: 0.88 | validation avg. loss: 0.87\n",
      "Epochs: 4 | epoch avg. loss: 0.88 | validation avg. loss: 0.89\n",
      "Epochs: 5 | epoch avg. loss: 0.88 | validation avg. loss: 0.87\n",
      "Epochs: 6 | epoch avg. loss: 0.88 | validation avg. loss: 0.89\n",
      "Epochs: 7 | epoch avg. loss: 0.87 | validation avg. loss: 0.91\n",
      "Epochs: 8 | epoch avg. loss: 0.87 | validation avg. loss: 0.89\n"
     ]
    },
    {
     "name": "stderr",
     "output_type": "stream",
     "text": [
      "[I 2024-09-06 18:58:22,648] Trial 52 finished with value: 0.858745503542265 and parameters: {'hidden_dim': 32, 'num_heads': 8, 'num_layers': 4, 'fc_out_channels': 96, 'dropout': 0.1, 'learning_rate': 0.002321907146382171}. Best is trial 19 with value: 0.8476404422164436.\n"
     ]
    },
    {
     "name": "stdout",
     "output_type": "stream",
     "text": [
      "Epochs: 9 | epoch avg. loss: 0.87 | validation avg. loss: 0.86\n",
      "Epochs: 0 | epoch avg. loss: 1.64 | validation avg. loss: 0.91\n",
      "Epochs: 1 | epoch avg. loss: 0.90 | validation avg. loss: 0.86\n",
      "Epochs: 2 | epoch avg. loss: 0.89 | validation avg. loss: 0.87\n",
      "Epochs: 3 | epoch avg. loss: 0.89 | validation avg. loss: 0.87\n",
      "Epochs: 4 | epoch avg. loss: 0.88 | validation avg. loss: 0.88\n",
      "Epochs: 5 | epoch avg. loss: 0.88 | validation avg. loss: 0.86\n",
      "Epochs: 6 | epoch avg. loss: 0.87 | validation avg. loss: 0.97\n",
      "Epochs: 7 | epoch avg. loss: 0.87 | validation avg. loss: 0.97\n",
      "Epochs: 8 | epoch avg. loss: 0.87 | validation avg. loss: 0.87\n"
     ]
    },
    {
     "name": "stderr",
     "output_type": "stream",
     "text": [
      "[I 2024-09-06 19:06:54,981] Trial 53 finished with value: 0.8465700921738493 and parameters: {'hidden_dim': 32, 'num_heads': 8, 'num_layers': 4, 'fc_out_channels': 96, 'dropout': 0.1, 'learning_rate': 0.003769923120618825}. Best is trial 53 with value: 0.8465700921738493.\n"
     ]
    },
    {
     "name": "stdout",
     "output_type": "stream",
     "text": [
      "Epochs: 9 | epoch avg. loss: 0.87 | validation avg. loss: 0.85\n",
      "Epochs: 0 | epoch avg. loss: 1.65 | validation avg. loss: 0.98\n",
      "Epochs: 1 | epoch avg. loss: 0.91 | validation avg. loss: 0.98\n",
      "Epochs: 2 | epoch avg. loss: 0.89 | validation avg. loss: 0.86\n",
      "Epochs: 3 | epoch avg. loss: 0.89 | validation avg. loss: 0.87\n",
      "Epochs: 4 | epoch avg. loss: 0.89 | validation avg. loss: 0.87\n",
      "Epochs: 5 | epoch avg. loss: 0.89 | validation avg. loss: 0.87\n",
      "Epochs: 6 | epoch avg. loss: 0.88 | validation avg. loss: 0.98\n",
      "Epochs: 7 | epoch avg. loss: 0.88 | validation avg. loss: 0.85\n",
      "Epochs: 8 | epoch avg. loss: 0.87 | validation avg. loss: 0.88\n"
     ]
    },
    {
     "name": "stderr",
     "output_type": "stream",
     "text": [
      "[I 2024-09-06 19:15:27,217] Trial 54 finished with value: 0.8680535070718507 and parameters: {'hidden_dim': 32, 'num_heads': 8, 'num_layers': 4, 'fc_out_channels': 96, 'dropout': 0.1, 'learning_rate': 0.005438341427446865}. Best is trial 53 with value: 0.8465700921738493.\n"
     ]
    },
    {
     "name": "stdout",
     "output_type": "stream",
     "text": [
      "Epochs: 9 | epoch avg. loss: 0.87 | validation avg. loss: 0.87\n",
      "Epochs: 0 | epoch avg. loss: 1.61 | validation avg. loss: 0.86\n",
      "Epochs: 1 | epoch avg. loss: 0.91 | validation avg. loss: 0.89\n",
      "Epochs: 2 | epoch avg. loss: 0.89 | validation avg. loss: 0.93\n",
      "Epochs: 3 | epoch avg. loss: 0.89 | validation avg. loss: 0.86\n",
      "Epochs: 4 | epoch avg. loss: 0.88 | validation avg. loss: 0.95\n",
      "Epochs: 5 | epoch avg. loss: 0.88 | validation avg. loss: 0.92\n",
      "Epochs: 6 | epoch avg. loss: 0.88 | validation avg. loss: 0.87\n",
      "Epochs: 7 | epoch avg. loss: 0.88 | validation avg. loss: 0.85\n",
      "Epochs: 8 | epoch avg. loss: 0.87 | validation avg. loss: 0.91\n"
     ]
    },
    {
     "name": "stderr",
     "output_type": "stream",
     "text": [
      "[I 2024-09-06 19:23:58,996] Trial 55 finished with value: 0.9275956632423771 and parameters: {'hidden_dim': 32, 'num_heads': 8, 'num_layers': 4, 'fc_out_channels': 128, 'dropout': 0.2, 'learning_rate': 0.0041802739740637454}. Best is trial 53 with value: 0.8465700921738493.\n"
     ]
    },
    {
     "name": "stdout",
     "output_type": "stream",
     "text": [
      "Epochs: 9 | epoch avg. loss: 0.88 | validation avg. loss: 0.93\n",
      "Epochs: 0 | epoch avg. loss: 1.48 | validation avg. loss: 0.95\n",
      "Epochs: 1 | epoch avg. loss: 0.91 | validation avg. loss: 0.87\n",
      "Epochs: 2 | epoch avg. loss: 0.90 | validation avg. loss: 0.90\n",
      "Epochs: 3 | epoch avg. loss: 0.90 | validation avg. loss: 0.86\n",
      "Epochs: 4 | epoch avg. loss: 0.89 | validation avg. loss: 0.88\n",
      "Epochs: 5 | epoch avg. loss: 0.89 | validation avg. loss: 0.90\n",
      "Epochs: 6 | epoch avg. loss: 0.89 | validation avg. loss: 0.85\n",
      "Epochs: 7 | epoch avg. loss: 0.89 | validation avg. loss: 0.93\n",
      "Epochs: 8 | epoch avg. loss: 0.88 | validation avg. loss: 0.96\n"
     ]
    },
    {
     "name": "stderr",
     "output_type": "stream",
     "text": [
      "[I 2024-09-06 19:32:31,118] Trial 56 finished with value: 0.9114298845589981 and parameters: {'hidden_dim': 32, 'num_heads': 4, 'num_layers': 4, 'fc_out_channels': 96, 'dropout': 0.1, 'learning_rate': 0.007572923550430907}. Best is trial 53 with value: 0.8465700921738493.\n"
     ]
    },
    {
     "name": "stdout",
     "output_type": "stream",
     "text": [
      "Epochs: 9 | epoch avg. loss: 0.88 | validation avg. loss: 0.91\n",
      "Epochs: 0 | epoch avg. loss: 1.79 | validation avg. loss: 3.31\n",
      "Epochs: 1 | epoch avg. loss: 0.93 | validation avg. loss: 0.93\n",
      "Epochs: 2 | epoch avg. loss: 0.89 | validation avg. loss: 0.89\n",
      "Epochs: 3 | epoch avg. loss: 0.89 | validation avg. loss: 0.86\n",
      "Epochs: 4 | epoch avg. loss: 0.89 | validation avg. loss: 0.88\n",
      "Epochs: 5 | epoch avg. loss: 0.88 | validation avg. loss: 0.87\n",
      "Epochs: 6 | epoch avg. loss: 0.88 | validation avg. loss: 0.88\n",
      "Epochs: 7 | epoch avg. loss: 0.88 | validation avg. loss: 0.85\n",
      "Epochs: 8 | epoch avg. loss: 0.87 | validation avg. loss: 0.89\n"
     ]
    },
    {
     "name": "stderr",
     "output_type": "stream",
     "text": [
      "[I 2024-09-06 19:41:03,021] Trial 57 finished with value: 0.8499920514578436 and parameters: {'hidden_dim': 64, 'num_heads': 8, 'num_layers': 4, 'fc_out_channels': 96, 'dropout': 0.4, 'learning_rate': 0.0032154960652559217}. Best is trial 53 with value: 0.8465700921738493.\n"
     ]
    },
    {
     "name": "stdout",
     "output_type": "stream",
     "text": [
      "Epochs: 9 | epoch avg. loss: 0.87 | validation avg. loss: 0.85\n",
      "Epochs: 0 | epoch avg. loss: 2.04 | validation avg. loss: 2.62\n",
      "Epochs: 1 | epoch avg. loss: 1.07 | validation avg. loss: 1.10\n",
      "Epochs: 2 | epoch avg. loss: 0.89 | validation avg. loss: 0.90\n",
      "Epochs: 3 | epoch avg. loss: 0.89 | validation avg. loss: 0.88\n",
      "Epochs: 4 | epoch avg. loss: 0.89 | validation avg. loss: 0.88\n",
      "Epochs: 5 | epoch avg. loss: 0.88 | validation avg. loss: 0.88\n",
      "Epochs: 6 | epoch avg. loss: 0.88 | validation avg. loss: 0.86\n",
      "Epochs: 7 | epoch avg. loss: 0.88 | validation avg. loss: 0.89\n",
      "Epochs: 8 | epoch avg. loss: 0.87 | validation avg. loss: 0.88\n"
     ]
    },
    {
     "name": "stderr",
     "output_type": "stream",
     "text": [
      "[I 2024-09-06 19:47:16,607] Trial 58 finished with value: 0.8644001293948412 and parameters: {'hidden_dim': 96, 'num_heads': 2, 'num_layers': 2, 'fc_out_channels': 64, 'dropout': 0.2, 'learning_rate': 0.0026581567769364003}. Best is trial 53 with value: 0.8465700921738493.\n"
     ]
    },
    {
     "name": "stdout",
     "output_type": "stream",
     "text": [
      "Epochs: 9 | epoch avg. loss: 0.88 | validation avg. loss: 0.86\n",
      "Epochs: 0 | epoch avg. loss: 3.97 | validation avg. loss: 6.02\n",
      "Epochs: 1 | epoch avg. loss: 1.93 | validation avg. loss: 5.21\n",
      "Epochs: 2 | epoch avg. loss: 1.88 | validation avg. loss: 5.27\n",
      "Epochs: 3 | epoch avg. loss: 1.82 | validation avg. loss: 5.22\n",
      "Epochs: 4 | epoch avg. loss: 1.74 | validation avg. loss: 4.82\n",
      "Epochs: 5 | epoch avg. loss: 1.65 | validation avg. loss: 4.85\n",
      "Epochs: 6 | epoch avg. loss: 1.53 | validation avg. loss: 4.31\n",
      "Epochs: 7 | epoch avg. loss: 1.40 | validation avg. loss: 4.68\n",
      "Epochs: 8 | epoch avg. loss: 1.26 | validation avg. loss: 3.34\n"
     ]
    },
    {
     "name": "stderr",
     "output_type": "stream",
     "text": [
      "[I 2024-09-06 19:55:52,032] Trial 59 finished with value: 2.7015206818875157 and parameters: {'hidden_dim': 64, 'num_heads': 2, 'num_layers': 4, 'fc_out_channels': 96, 'dropout': 0.5, 'learning_rate': 0.00011376587598823467}. Best is trial 53 with value: 0.8465700921738493.\n"
     ]
    },
    {
     "name": "stdout",
     "output_type": "stream",
     "text": [
      "Epochs: 9 | epoch avg. loss: 1.13 | validation avg. loss: 2.70\n",
      "Epochs: 0 | epoch avg. loss: 1.56 | validation avg. loss: 0.87\n",
      "Epochs: 1 | epoch avg. loss: 0.90 | validation avg. loss: 0.86\n",
      "Epochs: 2 | epoch avg. loss: 0.90 | validation avg. loss: 0.90\n",
      "Epochs: 3 | epoch avg. loss: 0.89 | validation avg. loss: 0.86\n",
      "Epochs: 4 | epoch avg. loss: 0.89 | validation avg. loss: 0.85\n",
      "Epochs: 5 | epoch avg. loss: 0.88 | validation avg. loss: 0.87\n",
      "Epochs: 6 | epoch avg. loss: 0.88 | validation avg. loss: 0.86\n",
      "Epochs: 7 | epoch avg. loss: 0.87 | validation avg. loss: 0.86\n",
      "Epochs: 8 | epoch avg. loss: 0.88 | validation avg. loss: 0.92\n"
     ]
    },
    {
     "name": "stderr",
     "output_type": "stream",
     "text": [
      "[I 2024-09-06 20:04:23,872] Trial 60 finished with value: 0.8542258106168645 and parameters: {'hidden_dim': 32, 'num_heads': 8, 'num_layers': 4, 'fc_out_channels': 64, 'dropout': 0.1, 'learning_rate': 0.005247918077089639}. Best is trial 53 with value: 0.8465700921738493.\n"
     ]
    },
    {
     "name": "stdout",
     "output_type": "stream",
     "text": [
      "Epochs: 9 | epoch avg. loss: 0.87 | validation avg. loss: 0.85\n",
      "Epochs: 0 | epoch avg. loss: 2.04 | validation avg. loss: 2.15\n",
      "Epochs: 1 | epoch avg. loss: 1.08 | validation avg. loss: 0.90\n",
      "Epochs: 2 | epoch avg. loss: 0.89 | validation avg. loss: 0.86\n",
      "Epochs: 3 | epoch avg. loss: 0.88 | validation avg. loss: 0.86\n",
      "Epochs: 4 | epoch avg. loss: 0.88 | validation avg. loss: 0.86\n",
      "Epochs: 5 | epoch avg. loss: 0.88 | validation avg. loss: 0.86\n",
      "Epochs: 6 | epoch avg. loss: 0.88 | validation avg. loss: 0.86\n",
      "Epochs: 7 | epoch avg. loss: 0.87 | validation avg. loss: 0.86\n",
      "Epochs: 8 | epoch avg. loss: 0.87 | validation avg. loss: 0.87\n"
     ]
    },
    {
     "name": "stderr",
     "output_type": "stream",
     "text": [
      "[I 2024-09-06 20:12:53,093] Trial 61 finished with value: 0.861501426228349 and parameters: {'hidden_dim': 64, 'num_heads': 2, 'num_layers': 4, 'fc_out_channels': 96, 'dropout': 0.30000000000000004, 'learning_rate': 0.0017167193511704356}. Best is trial 53 with value: 0.8465700921738493.\n"
     ]
    },
    {
     "name": "stdout",
     "output_type": "stream",
     "text": [
      "Epochs: 9 | epoch avg. loss: 0.87 | validation avg. loss: 0.86\n",
      "Epochs: 0 | epoch avg. loss: 1.89 | validation avg. loss: 1.98\n",
      "Epochs: 1 | epoch avg. loss: 0.93 | validation avg. loss: 0.91\n",
      "Epochs: 2 | epoch avg. loss: 0.89 | validation avg. loss: 0.94\n",
      "Epochs: 3 | epoch avg. loss: 0.89 | validation avg. loss: 0.90\n",
      "Epochs: 4 | epoch avg. loss: 0.88 | validation avg. loss: 0.86\n",
      "Epochs: 5 | epoch avg. loss: 0.88 | validation avg. loss: 0.86\n",
      "Epochs: 6 | epoch avg. loss: 0.88 | validation avg. loss: 0.85\n",
      "Epochs: 7 | epoch avg. loss: 0.87 | validation avg. loss: 0.87\n",
      "Epochs: 8 | epoch avg. loss: 0.87 | validation avg. loss: 0.88\n"
     ]
    },
    {
     "name": "stderr",
     "output_type": "stream",
     "text": [
      "[I 2024-09-06 20:21:24,209] Trial 62 finished with value: 0.8522218882613825 and parameters: {'hidden_dim': 64, 'num_heads': 8, 'num_layers': 4, 'fc_out_channels': 96, 'dropout': 0.4, 'learning_rate': 0.00297034335574549}. Best is trial 53 with value: 0.8465700921738493.\n"
     ]
    },
    {
     "name": "stdout",
     "output_type": "stream",
     "text": [
      "Epochs: 9 | epoch avg. loss: 0.87 | validation avg. loss: 0.85\n",
      "Epochs: 0 | epoch avg. loss: 1.80 | validation avg. loss: 1.13\n",
      "Epochs: 1 | epoch avg. loss: 0.91 | validation avg. loss: 0.86\n",
      "Epochs: 2 | epoch avg. loss: 0.90 | validation avg. loss: 0.88\n",
      "Epochs: 3 | epoch avg. loss: 0.89 | validation avg. loss: 0.88\n",
      "Epochs: 4 | epoch avg. loss: 0.89 | validation avg. loss: 1.04\n",
      "Epochs: 5 | epoch avg. loss: 0.89 | validation avg. loss: 0.86\n",
      "Epochs: 6 | epoch avg. loss: 0.88 | validation avg. loss: 0.85\n",
      "Epochs: 7 | epoch avg. loss: 0.88 | validation avg. loss: 0.85\n",
      "Epochs: 8 | epoch avg. loss: 0.88 | validation avg. loss: 0.87\n"
     ]
    },
    {
     "name": "stderr",
     "output_type": "stream",
     "text": [
      "[I 2024-09-06 20:29:55,118] Trial 63 finished with value: 0.8728750734467463 and parameters: {'hidden_dim': 64, 'num_heads': 8, 'num_layers': 4, 'fc_out_channels': 96, 'dropout': 0.4, 'learning_rate': 0.0037868590324350946}. Best is trial 53 with value: 0.8465700921738493.\n"
     ]
    },
    {
     "name": "stdout",
     "output_type": "stream",
     "text": [
      "Epochs: 9 | epoch avg. loss: 0.88 | validation avg. loss: 0.87\n",
      "Epochs: 0 | epoch avg. loss: 2.05 | validation avg. loss: 2.88\n",
      "Epochs: 1 | epoch avg. loss: 0.99 | validation avg. loss: 0.88\n",
      "Epochs: 2 | epoch avg. loss: 0.89 | validation avg. loss: 0.92\n",
      "Epochs: 3 | epoch avg. loss: 0.89 | validation avg. loss: 0.94\n",
      "Epochs: 4 | epoch avg. loss: 0.89 | validation avg. loss: 0.88\n",
      "Epochs: 5 | epoch avg. loss: 0.88 | validation avg. loss: 0.86\n",
      "Epochs: 6 | epoch avg. loss: 0.88 | validation avg. loss: 0.89\n",
      "Epochs: 7 | epoch avg. loss: 0.88 | validation avg. loss: 0.89\n",
      "Epochs: 8 | epoch avg. loss: 0.87 | validation avg. loss: 0.85\n"
     ]
    },
    {
     "name": "stderr",
     "output_type": "stream",
     "text": [
      "[I 2024-09-06 20:38:25,117] Trial 64 finished with value: 0.8733964209829096 and parameters: {'hidden_dim': 64, 'num_heads': 8, 'num_layers': 4, 'fc_out_channels': 96, 'dropout': 0.4, 'learning_rate': 0.002162533805790393}. Best is trial 53 with value: 0.8465700921738493.\n"
     ]
    },
    {
     "name": "stdout",
     "output_type": "stream",
     "text": [
      "Epochs: 9 | epoch avg. loss: 0.87 | validation avg. loss: 0.87\n",
      "Epochs: 0 | epoch avg. loss: 2.42 | validation avg. loss: 1.75\n",
      "Epochs: 1 | epoch avg. loss: 1.17 | validation avg. loss: 0.98\n",
      "Epochs: 2 | epoch avg. loss: 0.90 | validation avg. loss: 0.87\n",
      "Epochs: 3 | epoch avg. loss: 0.88 | validation avg. loss: 0.86\n",
      "Epochs: 4 | epoch avg. loss: 0.88 | validation avg. loss: 0.86\n",
      "Epochs: 5 | epoch avg. loss: 0.87 | validation avg. loss: 0.86\n",
      "Epochs: 6 | epoch avg. loss: 0.87 | validation avg. loss: 0.87\n",
      "Epochs: 7 | epoch avg. loss: 0.87 | validation avg. loss: 0.88\n",
      "Epochs: 8 | epoch avg. loss: 0.87 | validation avg. loss: 0.89\n"
     ]
    },
    {
     "name": "stderr",
     "output_type": "stream",
     "text": [
      "[I 2024-09-06 20:46:55,764] Trial 65 finished with value: 0.8539151539598715 and parameters: {'hidden_dim': 32, 'num_heads': 8, 'num_layers': 4, 'fc_out_channels': 96, 'dropout': 0.4, 'learning_rate': 0.0014079609691543468}. Best is trial 53 with value: 0.8465700921738493.\n"
     ]
    },
    {
     "name": "stdout",
     "output_type": "stream",
     "text": [
      "Epochs: 9 | epoch avg. loss: 0.87 | validation avg. loss: 0.85\n",
      "Epochs: 0 | epoch avg. loss: 1.79 | validation avg. loss: 4.14\n",
      "Epochs: 1 | epoch avg. loss: 0.94 | validation avg. loss: 1.25\n",
      "Epochs: 2 | epoch avg. loss: 0.90 | validation avg. loss: 0.87\n",
      "Epochs: 3 | epoch avg. loss: 0.89 | validation avg. loss: 0.90\n",
      "Epochs: 4 | epoch avg. loss: 0.89 | validation avg. loss: 0.86\n",
      "Epochs: 5 | epoch avg. loss: 0.88 | validation avg. loss: 0.89\n",
      "Epochs: 6 | epoch avg. loss: 0.88 | validation avg. loss: 0.85\n",
      "Epochs: 7 | epoch avg. loss: 0.87 | validation avg. loss: 0.90\n",
      "Epochs: 8 | epoch avg. loss: 0.88 | validation avg. loss: 0.85\n"
     ]
    },
    {
     "name": "stderr",
     "output_type": "stream",
     "text": [
      "[I 2024-09-06 20:55:26,496] Trial 66 finished with value: 0.8555340666088984 and parameters: {'hidden_dim': 64, 'num_heads': 4, 'num_layers': 4, 'fc_out_channels': 96, 'dropout': 0.5, 'learning_rate': 0.0032558840844930425}. Best is trial 53 with value: 0.8465700921738493.\n"
     ]
    },
    {
     "name": "stdout",
     "output_type": "stream",
     "text": [
      "Epochs: 9 | epoch avg. loss: 0.88 | validation avg. loss: 0.86\n",
      "Epochs: 0 | epoch avg. loss: 1.83 | validation avg. loss: 1.83\n",
      "Epochs: 1 | epoch avg. loss: 0.95 | validation avg. loss: 0.87\n",
      "Epochs: 2 | epoch avg. loss: 0.92 | validation avg. loss: 0.97\n",
      "Epochs: 3 | epoch avg. loss: 0.90 | validation avg. loss: 0.91\n",
      "Epochs: 4 | epoch avg. loss: 0.89 | validation avg. loss: 0.87\n",
      "Epochs: 5 | epoch avg. loss: 0.89 | validation avg. loss: 0.85\n",
      "Epochs: 6 | epoch avg. loss: 0.88 | validation avg. loss: 0.87\n",
      "Epochs: 7 | epoch avg. loss: 0.88 | validation avg. loss: 0.89\n",
      "Epochs: 8 | epoch avg. loss: 0.88 | validation avg. loss: 0.99\n"
     ]
    },
    {
     "name": "stderr",
     "output_type": "stream",
     "text": [
      "[I 2024-09-06 21:03:57,346] Trial 67 finished with value: 1.0964547294558233 and parameters: {'hidden_dim': 96, 'num_heads': 2, 'num_layers': 4, 'fc_out_channels': 128, 'dropout': 0.30000000000000004, 'learning_rate': 0.00458606269108654}. Best is trial 53 with value: 0.8465700921738493.\n"
     ]
    },
    {
     "name": "stdout",
     "output_type": "stream",
     "text": [
      "Epochs: 9 | epoch avg. loss: 0.88 | validation avg. loss: 1.10\n",
      "Epochs: 0 | epoch avg. loss: 1.54 | validation avg. loss: 0.95\n",
      "Epochs: 1 | epoch avg. loss: 0.90 | validation avg. loss: 0.87\n",
      "Epochs: 2 | epoch avg. loss: 0.90 | validation avg. loss: 0.89\n",
      "Epochs: 3 | epoch avg. loss: 0.90 | validation avg. loss: 0.91\n",
      "Epochs: 4 | epoch avg. loss: 0.93 | validation avg. loss: 0.88\n",
      "Epochs: 5 | epoch avg. loss: 0.89 | validation avg. loss: 0.93\n",
      "Epochs: 6 | epoch avg. loss: 0.89 | validation avg. loss: 0.87\n",
      "Epochs: 7 | epoch avg. loss: 0.88 | validation avg. loss: 0.86\n",
      "Epochs: 8 | epoch avg. loss: 0.88 | validation avg. loss: 0.85\n"
     ]
    },
    {
     "name": "stderr",
     "output_type": "stream",
     "text": [
      "[I 2024-09-06 21:12:28,818] Trial 68 finished with value: 0.8481236159245664 and parameters: {'hidden_dim': 32, 'num_heads': 8, 'num_layers': 4, 'fc_out_channels': 64, 'dropout': 0.4, 'learning_rate': 0.0062238882575289065}. Best is trial 53 with value: 0.8465700921738493.\n"
     ]
    },
    {
     "name": "stdout",
     "output_type": "stream",
     "text": [
      "Epochs: 9 | epoch avg. loss: 0.88 | validation avg. loss: 0.85\n",
      "Epochs: 0 | epoch avg. loss: 1.57 | validation avg. loss: 0.89\n",
      "Epochs: 1 | epoch avg. loss: 0.91 | validation avg. loss: 0.90\n",
      "Epochs: 2 | epoch avg. loss: 0.90 | validation avg. loss: 0.86\n",
      "Epochs: 3 | epoch avg. loss: 0.91 | validation avg. loss: 0.85\n",
      "Epochs: 4 | epoch avg. loss: 0.89 | validation avg. loss: 0.90\n",
      "Epochs: 5 | epoch avg. loss: 0.89 | validation avg. loss: 0.97\n",
      "Epochs: 6 | epoch avg. loss: 0.89 | validation avg. loss: 0.98\n",
      "Epochs: 7 | epoch avg. loss: 0.89 | validation avg. loss: 0.86\n",
      "Epochs: 8 | epoch avg. loss: 0.89 | validation avg. loss: 0.85\n"
     ]
    },
    {
     "name": "stderr",
     "output_type": "stream",
     "text": [
      "[I 2024-09-06 21:21:00,669] Trial 69 finished with value: 0.8501315016945075 and parameters: {'hidden_dim': 32, 'num_heads': 2, 'num_layers': 4, 'fc_out_channels': 64, 'dropout': 0.2, 'learning_rate': 0.007772423084549749}. Best is trial 53 with value: 0.8465700921738493.\n"
     ]
    },
    {
     "name": "stdout",
     "output_type": "stream",
     "text": [
      "Epochs: 9 | epoch avg. loss: 0.89 | validation avg. loss: 0.85\n",
      "Epochs: 0 | epoch avg. loss: 1.51 | validation avg. loss: 0.89\n",
      "Epochs: 1 | epoch avg. loss: 0.90 | validation avg. loss: 0.87\n",
      "Epochs: 2 | epoch avg. loss: 0.90 | validation avg. loss: 0.97\n",
      "Epochs: 3 | epoch avg. loss: 0.90 | validation avg. loss: 0.97\n",
      "Epochs: 4 | epoch avg. loss: 0.90 | validation avg. loss: 0.86\n",
      "Epochs: 5 | epoch avg. loss: 0.89 | validation avg. loss: 0.85\n",
      "Epochs: 6 | epoch avg. loss: 0.88 | validation avg. loss: 0.91\n",
      "Epochs: 7 | epoch avg. loss: 0.88 | validation avg. loss: 0.88\n",
      "Epochs: 8 | epoch avg. loss: 0.88 | validation avg. loss: 0.86\n"
     ]
    },
    {
     "name": "stderr",
     "output_type": "stream",
     "text": [
      "[I 2024-09-06 21:29:32,433] Trial 70 finished with value: 0.8646216638177817 and parameters: {'hidden_dim': 32, 'num_heads': 2, 'num_layers': 4, 'fc_out_channels': 64, 'dropout': 0.1, 'learning_rate': 0.006742606768112189}. Best is trial 53 with value: 0.8465700921738493.\n"
     ]
    },
    {
     "name": "stdout",
     "output_type": "stream",
     "text": [
      "Epochs: 9 | epoch avg. loss: 0.88 | validation avg. loss: 0.86\n",
      "Epochs: 0 | epoch avg. loss: 1.76 | validation avg. loss: 0.99\n",
      "Epochs: 1 | epoch avg. loss: 0.91 | validation avg. loss: 0.86\n",
      "Epochs: 2 | epoch avg. loss: 0.89 | validation avg. loss: 0.88\n",
      "Epochs: 3 | epoch avg. loss: 0.89 | validation avg. loss: 0.87\n",
      "Epochs: 4 | epoch avg. loss: 0.88 | validation avg. loss: 0.88\n",
      "Epochs: 5 | epoch avg. loss: 0.88 | validation avg. loss: 0.86\n",
      "Epochs: 6 | epoch avg. loss: 0.88 | validation avg. loss: 0.88\n",
      "Epochs: 7 | epoch avg. loss: 0.87 | validation avg. loss: 0.90\n",
      "Epochs: 8 | epoch avg. loss: 0.87 | validation avg. loss: 0.85\n"
     ]
    },
    {
     "name": "stderr",
     "output_type": "stream",
     "text": [
      "[I 2024-09-06 21:36:54,189] Trial 71 finished with value: 0.858009550404366 and parameters: {'hidden_dim': 32, 'num_heads': 8, 'num_layers': 3, 'fc_out_channels': 64, 'dropout': 0.2, 'learning_rate': 0.004046571765505342}. Best is trial 53 with value: 0.8465700921738493.\n"
     ]
    },
    {
     "name": "stdout",
     "output_type": "stream",
     "text": [
      "Epochs: 9 | epoch avg. loss: 0.87 | validation avg. loss: 0.86\n",
      "Epochs: 0 | epoch avg. loss: 1.56 | validation avg. loss: 1.13\n",
      "Epochs: 1 | epoch avg. loss: 0.90 | validation avg. loss: 0.89\n",
      "Epochs: 2 | epoch avg. loss: 0.90 | validation avg. loss: 0.87\n",
      "Epochs: 3 | epoch avg. loss: 0.90 | validation avg. loss: 0.87\n",
      "Epochs: 4 | epoch avg. loss: 0.89 | validation avg. loss: 0.86\n",
      "Epochs: 5 | epoch avg. loss: 0.88 | validation avg. loss: 0.87\n",
      "Epochs: 6 | epoch avg. loss: 0.88 | validation avg. loss: 1.00\n",
      "Epochs: 7 | epoch avg. loss: 0.88 | validation avg. loss: 0.95\n",
      "Epochs: 8 | epoch avg. loss: 0.88 | validation avg. loss: 0.85\n"
     ]
    },
    {
     "name": "stderr",
     "output_type": "stream",
     "text": [
      "[I 2024-09-06 21:45:26,022] Trial 72 finished with value: 0.869396829591895 and parameters: {'hidden_dim': 32, 'num_heads': 8, 'num_layers': 4, 'fc_out_channels': 64, 'dropout': 0.4, 'learning_rate': 0.006013098894164348}. Best is trial 53 with value: 0.8465700921738493.\n"
     ]
    },
    {
     "name": "stdout",
     "output_type": "stream",
     "text": [
      "Epochs: 9 | epoch avg. loss: 0.87 | validation avg. loss: 0.87\n",
      "Epochs: 0 | epoch avg. loss: 1.53 | validation avg. loss: 0.91\n",
      "Epochs: 1 | epoch avg. loss: 0.90 | validation avg. loss: 1.02\n",
      "Epochs: 2 | epoch avg. loss: 0.90 | validation avg. loss: 0.93\n",
      "Epochs: 3 | epoch avg. loss: 0.90 | validation avg. loss: 0.87\n",
      "Epochs: 4 | epoch avg. loss: 0.89 | validation avg. loss: 0.85\n",
      "Epochs: 5 | epoch avg. loss: 0.89 | validation avg. loss: 0.97\n",
      "Epochs: 6 | epoch avg. loss: 0.88 | validation avg. loss: 0.88\n",
      "Epochs: 7 | epoch avg. loss: 0.88 | validation avg. loss: 0.88\n",
      "Epochs: 8 | epoch avg. loss: 0.88 | validation avg. loss: 0.86\n"
     ]
    },
    {
     "name": "stderr",
     "output_type": "stream",
     "text": [
      "[I 2024-09-06 21:53:58,919] Trial 73 finished with value: 0.8577477191251991 and parameters: {'hidden_dim': 32, 'num_heads': 8, 'num_layers': 4, 'fc_out_channels': 96, 'dropout': 0.4, 'learning_rate': 0.005199075293644275}. Best is trial 53 with value: 0.8465700921738493.\n"
     ]
    },
    {
     "name": "stdout",
     "output_type": "stream",
     "text": [
      "Epochs: 9 | epoch avg. loss: 0.88 | validation avg. loss: 0.86\n",
      "Epochs: 0 | epoch avg. loss: 1.97 | validation avg. loss: 7.49\n",
      "Epochs: 1 | epoch avg. loss: 1.01 | validation avg. loss: 1.71\n",
      "Epochs: 2 | epoch avg. loss: 0.91 | validation avg. loss: 1.01\n",
      "Epochs: 3 | epoch avg. loss: 0.89 | validation avg. loss: 0.94\n",
      "Epochs: 4 | epoch avg. loss: 0.89 | validation avg. loss: 0.86\n",
      "Epochs: 5 | epoch avg. loss: 0.88 | validation avg. loss: 0.86\n",
      "Epochs: 6 | epoch avg. loss: 0.88 | validation avg. loss: 0.86\n",
      "Epochs: 7 | epoch avg. loss: 0.87 | validation avg. loss: 0.85\n",
      "Epochs: 8 | epoch avg. loss: 0.87 | validation avg. loss: 0.85\n"
     ]
    },
    {
     "name": "stderr",
     "output_type": "stream",
     "text": [
      "[I 2024-09-06 22:02:29,911] Trial 74 finished with value: 0.8484011686978583 and parameters: {'hidden_dim': 64, 'num_heads': 8, 'num_layers': 4, 'fc_out_channels': 64, 'dropout': 0.5, 'learning_rate': 0.0024702042445812968}. Best is trial 53 with value: 0.8465700921738493.\n"
     ]
    },
    {
     "name": "stdout",
     "output_type": "stream",
     "text": [
      "Epochs: 9 | epoch avg. loss: 0.87 | validation avg. loss: 0.85\n",
      "Epochs: 0 | epoch avg. loss: 1.98 | validation avg. loss: 22.94\n",
      "Epochs: 1 | epoch avg. loss: 1.15 | validation avg. loss: 8.98\n",
      "Epochs: 2 | epoch avg. loss: 0.94 | validation avg. loss: 13.45\n",
      "Epochs: 3 | epoch avg. loss: 0.93 | validation avg. loss: 11.85\n",
      "Epochs: 4 | epoch avg. loss: 0.93 | validation avg. loss: 8.88\n",
      "Epochs: 5 | epoch avg. loss: 0.92 | validation avg. loss: 4.86\n",
      "Epochs: 6 | epoch avg. loss: 0.91 | validation avg. loss: 2.43\n",
      "Epochs: 7 | epoch avg. loss: 0.90 | validation avg. loss: 0.88\n",
      "Epochs: 8 | epoch avg. loss: 0.88 | validation avg. loss: 1.06\n"
     ]
    },
    {
     "name": "stderr",
     "output_type": "stream",
     "text": [
      "[I 2024-09-06 22:11:01,822] Trial 75 finished with value: 1.0676837631808833 and parameters: {'hidden_dim': 128, 'num_heads': 8, 'num_layers': 4, 'fc_out_channels': 64, 'dropout': 0.5, 'learning_rate': 0.0026471283069799353}. Best is trial 53 with value: 0.8465700921738493.\n"
     ]
    },
    {
     "name": "stdout",
     "output_type": "stream",
     "text": [
      "Epochs: 9 | epoch avg. loss: 0.88 | validation avg. loss: 1.07\n",
      "Epochs: 0 | epoch avg. loss: 2.06 | validation avg. loss: 6.84\n",
      "Epochs: 1 | epoch avg. loss: 1.06 | validation avg. loss: 0.89\n",
      "Epochs: 2 | epoch avg. loss: 0.89 | validation avg. loss: 0.86\n",
      "Epochs: 3 | epoch avg. loss: 0.89 | validation avg. loss: 0.87\n",
      "Epochs: 4 | epoch avg. loss: 0.88 | validation avg. loss: 0.89\n",
      "Epochs: 5 | epoch avg. loss: 0.88 | validation avg. loss: 0.95\n",
      "Epochs: 6 | epoch avg. loss: 0.88 | validation avg. loss: 0.87\n",
      "Epochs: 7 | epoch avg. loss: 0.88 | validation avg. loss: 0.89\n",
      "Epochs: 8 | epoch avg. loss: 0.88 | validation avg. loss: 0.86\n"
     ]
    },
    {
     "name": "stderr",
     "output_type": "stream",
     "text": [
      "[I 2024-09-06 22:19:33,598] Trial 76 finished with value: 0.868060877157836 and parameters: {'hidden_dim': 64, 'num_heads': 8, 'num_layers': 4, 'fc_out_channels': 64, 'dropout': 0.5, 'learning_rate': 0.0022094551540794713}. Best is trial 53 with value: 0.8465700921738493.\n"
     ]
    },
    {
     "name": "stdout",
     "output_type": "stream",
     "text": [
      "Epochs: 9 | epoch avg. loss: 0.87 | validation avg. loss: 0.87\n",
      "Epochs: 0 | epoch avg. loss: 1.75 | validation avg. loss: 2.23\n",
      "Epochs: 1 | epoch avg. loss: 0.91 | validation avg. loss: 1.45\n",
      "Epochs: 2 | epoch avg. loss: 0.90 | validation avg. loss: 0.93\n",
      "Epochs: 3 | epoch avg. loss: 0.89 | validation avg. loss: 1.07\n",
      "Epochs: 4 | epoch avg. loss: 0.89 | validation avg. loss: 0.87\n",
      "Epochs: 5 | epoch avg. loss: 0.88 | validation avg. loss: 0.90\n",
      "Epochs: 6 | epoch avg. loss: 0.88 | validation avg. loss: 0.85\n",
      "Epochs: 7 | epoch avg. loss: 0.87 | validation avg. loss: 0.86\n",
      "Epochs: 8 | epoch avg. loss: 0.87 | validation avg. loss: 0.85\n"
     ]
    },
    {
     "name": "stderr",
     "output_type": "stream",
     "text": [
      "[I 2024-09-06 22:28:06,666] Trial 77 finished with value: 0.849310281919251 and parameters: {'hidden_dim': 32, 'num_heads': 2, 'num_layers': 4, 'fc_out_channels': 64, 'dropout': 0.5, 'learning_rate': 0.004377060933434836}. Best is trial 53 with value: 0.8465700921738493.\n"
     ]
    },
    {
     "name": "stdout",
     "output_type": "stream",
     "text": [
      "Epochs: 9 | epoch avg. loss: 0.88 | validation avg. loss: 0.85\n",
      "Epochs: 0 | epoch avg. loss: 1.45 | validation avg. loss: 0.86\n",
      "Epochs: 1 | epoch avg. loss: 0.91 | validation avg. loss: 0.88\n",
      "Epochs: 2 | epoch avg. loss: 0.91 | validation avg. loss: 1.04\n",
      "Epochs: 3 | epoch avg. loss: 0.90 | validation avg. loss: 0.87\n",
      "Epochs: 4 | epoch avg. loss: 0.89 | validation avg. loss: 0.90\n",
      "Epochs: 5 | epoch avg. loss: 0.89 | validation avg. loss: 0.87\n",
      "Epochs: 6 | epoch avg. loss: 0.89 | validation avg. loss: 0.91\n",
      "Epochs: 7 | epoch avg. loss: 0.89 | validation avg. loss: 0.90\n",
      "Epochs: 8 | epoch avg. loss: 0.88 | validation avg. loss: 0.94\n"
     ]
    },
    {
     "name": "stderr",
     "output_type": "stream",
     "text": [
      "[I 2024-09-06 22:36:38,527] Trial 78 finished with value: 0.8892264032878987 and parameters: {'hidden_dim': 32, 'num_heads': 2, 'num_layers': 4, 'fc_out_channels': 64, 'dropout': 0.2, 'learning_rate': 0.008363090565252949}. Best is trial 53 with value: 0.8465700921738493.\n"
     ]
    },
    {
     "name": "stdout",
     "output_type": "stream",
     "text": [
      "Epochs: 9 | epoch avg. loss: 0.88 | validation avg. loss: 0.89\n",
      "Epochs: 0 | epoch avg. loss: 2.19 | validation avg. loss: 2.65\n",
      "Epochs: 1 | epoch avg. loss: 1.46 | validation avg. loss: 1.32\n",
      "Epochs: 2 | epoch avg. loss: 0.94 | validation avg. loss: 1.06\n",
      "Epochs: 3 | epoch avg. loss: 0.88 | validation avg. loss: 0.89\n",
      "Epochs: 4 | epoch avg. loss: 0.88 | validation avg. loss: 0.89\n",
      "Epochs: 5 | epoch avg. loss: 0.88 | validation avg. loss: 0.86\n",
      "Epochs: 6 | epoch avg. loss: 0.88 | validation avg. loss: 0.89\n",
      "Epochs: 7 | epoch avg. loss: 0.88 | validation avg. loss: 0.86\n",
      "Epochs: 8 | epoch avg. loss: 0.87 | validation avg. loss: 0.87\n"
     ]
    },
    {
     "name": "stderr",
     "output_type": "stream",
     "text": [
      "[I 2024-09-06 22:45:11,700] Trial 79 finished with value: 0.8697900285175793 and parameters: {'hidden_dim': 64, 'num_heads': 8, 'num_layers': 4, 'fc_out_channels': 32, 'dropout': 0.30000000000000004, 'learning_rate': 0.0013677129707573069}. Best is trial 53 with value: 0.8465700921738493.\n"
     ]
    },
    {
     "name": "stdout",
     "output_type": "stream",
     "text": [
      "Epochs: 9 | epoch avg. loss: 0.87 | validation avg. loss: 0.87\n",
      "Best trial:\n",
      "  Value: 0.8465700921738493\n",
      "  Params: \n",
      "    hidden_dim: 32\n",
      "    num_heads: 8\n",
      "    num_layers: 4\n",
      "    fc_out_channels: 96\n",
      "    dropout: 0.1\n",
      "    learning_rate: 0.003769923120618825\n"
     ]
    },
    {
     "name": "stderr",
     "output_type": "stream",
     "text": [
      "/tmp/ipykernel_24/2374322422.py:135: ExperimentalWarning: plot_optimization_history is experimental (supported from v2.2.0). The interface can change in the future.\n",
      "  optuna.visualization.matplotlib.plot_optimization_history(study)\n"
     ]
    },
    {
     "data": {
      "image/png": "[encoded data removed]",
      "text/plain": [
       "<Figure size 640x480 with 1 Axes>"
      ]
     },
     "metadata": {},
     "output_type": "display_data"
    },
    {
     "name": "stderr",
     "output_type": "stream",
     "text": [
      "/tmp/ipykernel_24/2374322422.py:139: ExperimentalWarning: plot_param_importances is experimental (supported from v2.2.0). The interface can change in the future.\n",
      "  optuna.visualization.matplotlib.plot_param_importances(study)\n"
     ]
    },
    {
     "data": {
      "image/png": "[encoded data removed]",
      "text/plain": [
       "<Figure size 640x480 with 1 Axes>"
      ]
     },
     "metadata": {},
     "output_type": "display_data"
    }
   ],
   "source": [
    "import sys\n",
    "import matplotlib.pyplot as plt\n",
    "import numpy as np\n",
    "import torch\n",
    "import torch.nn as nn\n",
    "import torch.nn.functional as F\n",
    "import optuna\n",
    "from torch.utils.data import random_split\n",
    "from torch_geometric.datasets import QM9\n",
    "from torch_geometric.loader import DataLoader\n",
    "from torch_geometric.nn import global_add_pool\n",
    "\n",
    "# 1. 加载 QM9 数据集\n",
    "dset = QM9('.')\n",
    "train_set, valid_set, test_set = random_split(dset, [110000, 10831, 10000])\n",
    "trainloader = DataLoader(train_set, batch_size=32, shuffle=True)\n",
    "validloader = DataLoader(valid_set, batch_size=32, shuffle=True)\n",
    "testloader = DataLoader(test_set, batch_size=32, shuffle=True)\n",
    "qm9_node_feats, qm9_edge_feats = 11, 4\n",
    "target_idx = 1  # index position of the polarizability label\n",
    "device = torch.device(\"cuda:0\" if torch.cuda.is_available() else \"cpu\")\n",
    "\n",
    "# 2. 定义目标函数，用于 Optuna 的超参数搜索\n",
    "def objective(trial):\n",
    "    # 定义超参数的搜索空间\n",
    "    hidden_dim = trial.suggest_int(\"hidden_dim\", 32, 128, step=32)\n",
    "    num_heads = trial.suggest_categorical('num_heads', [2, 4, 8])\n",
    "    num_layers = trial.suggest_int(\"num_layers\", 2, 4)\n",
    "    fc_out_channels = trial.suggest_int(\"fc_out_channels\", 32, 128, step=32)\n",
    "    dropout = trial.suggest_float(\"dropout\", 0.1, 0.5, step=0.1)\n",
    "    learning_rate = trial.suggest_loguniform(\"learning_rate\", 1e-4, 1e-2)\n",
    "    epochs = 10\n",
    "\n",
    "    # 定义 Graph Transformer 模型\n",
    "    class GraphTransformer(nn.Module):\n",
    "        def __init__(self, num_node_features, num_edge_features, hidden_dim, num_heads, num_layers, fc_out_channels, dropout):\n",
    "            super(GraphTransformer, self).__init__()\n",
    "\n",
    "            self.node_encoder = nn.Linear(num_node_features, hidden_dim)\n",
    "            self.edge_encoder = nn.Linear(num_edge_features, hidden_dim)\n",
    "            self.pos_encoder = nn.Linear(1, hidden_dim)  # 用于对节点进行位置编码\n",
    "            self.dropout = nn.Dropout(dropout)\n",
    "\n",
    "            # Transformer encoder layers\n",
    "            encoder_layer = nn.TransformerEncoderLayer(d_model=hidden_dim, nhead=num_heads, dim_feedforward=hidden_dim*2, dropout=dropout)\n",
    "            self.transformer_encoder = nn.TransformerEncoder(encoder_layer, num_layers)\n",
    "\n",
    "            # Pooling and final output layers\n",
    "            self.fc1 = nn.Linear(hidden_dim, fc_out_channels)\n",
    "            self.out = nn.Linear(fc_out_channels, 1)\n",
    "\n",
    "        def forward(self, data):\n",
    "            # 获取图数据的节点特征和边特征\n",
    "            x, edge_index, edge_attr, batch = data.x, data.edge_index, data.edge_attr, data.batch\n",
    "\n",
    "            # 进行节点特征编码\n",
    "            x = self.node_encoder(x)\n",
    "\n",
    "            # 获取节点数\n",
    "            num_nodes = x.size(0)\n",
    "\n",
    "            # 生成位置编码 (我们用节点索引进行简单位置编码)\n",
    "            positions = torch.arange(0, num_nodes, dtype=torch.float32).unsqueeze(1).to(x.device)\n",
    "            position_encoded = self.pos_encoder(positions)\n",
    "\n",
    "            # 将位置编码和节点特征加在一起\n",
    "            x = x + position_encoded\n",
    "            x = self.dropout(x)\n",
    "\n",
    "            # Transformer编码器期望输入的形状为 (seq_len, batch, features)\n",
    "            x = x.unsqueeze(1)  # (num_nodes, 1, hidden_dim)\n",
    "\n",
    "            # Transformer Encoder\n",
    "            x = self.transformer_encoder(x)  # (num_nodes, 1, hidden_dim)\n",
    "            x = x.squeeze(1)  # (num_nodes, hidden_dim)\n",
    "\n",
    "            # 全局池化，将节点特征汇总为图的全局表示\n",
    "            x = global_add_pool(x, batch)\n",
    "\n",
    "            # MLP for prediction\n",
    "            x = F.relu(self.fc1(x))\n",
    "            x = self.out(x)\n",
    "            return x\n",
    "\n",
    "    # 创建模型实例并定义优化器\n",
    "    net = GraphTransformer(qm9_node_feats, qm9_edge_feats, hidden_dim, num_heads, num_layers, fc_out_channels, dropout).to(device)\n",
    "    optimizer = torch.optim.Adam(net.parameters(), lr=learning_rate)\n",
    "\n",
    "    # 训练和验证\n",
    "    for epoch in range(epochs):\n",
    "        net.train()\n",
    "        epoch_loss = 0\n",
    "        total_graphs = 0\n",
    "        for batch in trainloader:\n",
    "            batch.to(device)\n",
    "            optimizer.zero_grad()\n",
    "            output = net(batch)\n",
    "            loss = F.mse_loss(output, batch.y[:, target_idx].unsqueeze(1))\n",
    "            loss.backward()\n",
    "            optimizer.step()\n",
    "            epoch_loss += loss.item()\n",
    "            total_graphs += batch.num_graphs\n",
    "        train_avg_loss = epoch_loss / total_graphs\n",
    "\n",
    "        net.eval()\n",
    "        val_loss = 0\n",
    "        total_graphs = 0\n",
    "        with torch.no_grad():\n",
    "            for batch in validloader:\n",
    "                batch.to(device)\n",
    "                output = net(batch)\n",
    "                loss = F.mse_loss(output, batch.y[:, target_idx].unsqueeze(1))\n",
    "                val_loss += loss.item()\n",
    "                total_graphs += batch.num_graphs\n",
    "        # 计算验证集的平均损失\n",
    "        val_avg_loss = val_loss / total_graphs\n",
    "        \n",
    "        print(f\"Epochs: {epoch} | epoch avg. loss: {train_avg_loss:.2f} | validation avg. loss: {val_avg_loss:.2f}\")\n",
    "    \n",
    "    return val_avg_loss  # Optuna 将最小化这个值\n",
    "\n",
    "# 3. 创建并运行 Optuna 的优化器\n",
    "study = optuna.create_study(direction=\"minimize\")\n",
    "study.optimize(objective, n_trials=80)\n",
    "\n",
    "# 4. 输出最优参数\n",
    "print(\"Best trial:\")\n",
    "trial = study.best_trial\n",
    "print(f\"  Value: {trial.value}\")\n",
    "print(\"  Params: \")\n",
    "for key, value in trial.params.items():\n",
    "    print(f\"    {key}: {value}\")\n",
    "\n",
    "# 绘制优化历史\n",
    "optuna.visualization.matplotlib.plot_optimization_history(study)\n",
    "plt.show()\n",
    "\n",
    "# 绘制超参数的重要性\n",
    "optuna.visualization.matplotlib.plot_param_importances(study)\n",
    "plt.show()\n"
   ]
  }
 ],
 "metadata": {
  "kaggle": {
   "accelerator": "nvidiaTeslaT4",
   "dataSources": [
    {
     "datasetId": 1640734,
     "sourceId": 7876159,
     "sourceType": "datasetVersion"
    }
   ],
   "dockerImageVersionId": 30762,
   "isGpuEnabled": true,
   "isInternetEnabled": true,
   "language": "python",
   "sourceType": "notebook"
  },
  "kernelspec": {
   "display_name": "Python 3 (ipykernel)",
   "language": "python",
   "name": "python3"
  },
  "language_info": {
   "codemirror_mode": {
    "name": "ipython",
    "version": 3
   },
   "file_extension": ".py",
   "mimetype": "text/x-python",
   "name": "python",
   "nbconvert_exporter": "python",
   "pygments_lexer": "ipython3",
   "version": "3.11.7"
  },
  "papermill": {
   "default_parameters": {},
   "duration": 39227.675492,
   "end_time": "2024-09-06T22:45:17.443122",
   "environment_variables": {},
   "exception": null,
   "input_path": "__notebook__.ipynb",
   "output_path": "__notebook__.ipynb",
   "parameters": {},
   "start_time": "2024-09-06T11:51:29.767630",
   "version": "2.6.0"
  }
 },
 "nbformat": 4,
 "nbformat_minor": 5
}
