{
 "cells": [
  {
   "cell_type": "code",
   "execution_count": 1,
   "id": "e66b63cc",
   "metadata": {
    "execution": {
     "iopub.execute_input": "2024-09-06T05:39:02.879264Z",
     "iopub.status.busy": "2024-09-06T05:39:02.878918Z",
     "iopub.status.idle": "2024-09-06T05:39:20.089264Z",
     "shell.execute_reply": "2024-09-06T05:39:20.088194Z"
    },
    "papermill": {
     "duration": 17.21601,
     "end_time": "2024-09-06T05:39:20.091886",
     "exception": false,
     "start_time": "2024-09-06T05:39:02.875876",
     "status": "completed"
    },
    "tags": []
   },
   "outputs": [
    {
     "name": "stdout",
     "output_type": "stream",
     "text": [
      "Collecting torch_geometric\r\n",
      "  Downloading torch_geometric-2.5.3-py3-none-any.whl.metadata (64 kB)\r\n",
      "\u001b[2K     \u001b[90m━━━━━━━━━━━━━━━━━━━━━━━━━━━━━━━━━━━━━━━\u001b[0m \u001b[32m64.2/64.2 kB\u001b[0m \u001b[31m615.3 kB/s\u001b[0m eta \u001b[36m0:00:00\u001b[0m\r\n",
      "\u001b[?25hRequirement already satisfied: tqdm in /opt/conda/lib/python3.10/site-packages (from torch_geometric) (4.66.4)\r\n",
      "Requirement already satisfied: numpy in /opt/conda/lib/python3.10/site-packages (from torch_geometric) (1.26.4)\r\n",
      "Requirement already satisfied: scipy in /opt/conda/lib/python3.10/site-packages (from torch_geometric) (1.14.0)\r\n",
      "Requirement already satisfied: fsspec in /opt/conda/lib/python3.10/site-packages (from torch_geometric) (2024.6.1)\r\n",
      "Requirement already satisfied: jinja2 in /opt/conda/lib/python3.10/site-packages (from torch_geometric) (3.1.4)\r\n",
      "Requirement already satisfied: aiohttp in /opt/conda/lib/python3.10/site-packages (from torch_geometric) (3.9.5)\r\n",
      "Requirement already satisfied: requests in /opt/conda/lib/python3.10/site-packages (from torch_geometric) (2.32.3)\r\n",
      "Requirement already satisfied: pyparsing in /opt/conda/lib/python3.10/site-packages (from torch_geometric) (3.1.2)\r\n",
      "Requirement already satisfied: scikit-learn in /opt/conda/lib/python3.10/site-packages (from torch_geometric) (1.2.2)\r\n",
      "Requirement already satisfied: psutil>=5.8.0 in /opt/conda/lib/python3.10/site-packages (from torch_geometric) (5.9.3)\r\n",
      "Requirement already satisfied: aiosignal>=1.1.2 in /opt/conda/lib/python3.10/site-packages (from aiohttp->torch_geometric) (1.3.1)\r\n",
      "Requirement already satisfied: attrs>=17.3.0 in /opt/conda/lib/python3.10/site-packages (from aiohttp->torch_geometric) (23.2.0)\r\n",
      "Requirement already satisfied: frozenlist>=1.1.1 in /opt/conda/lib/python3.10/site-packages (from aiohttp->torch_geometric) (1.4.1)\r\n",
      "Requirement already satisfied: multidict<7.0,>=4.5 in /opt/conda/lib/python3.10/site-packages (from aiohttp->torch_geometric) (6.0.5)\r\n",
      "Requirement already satisfied: yarl<2.0,>=1.0 in /opt/conda/lib/python3.10/site-packages (from aiohttp->torch_geometric) (1.9.4)\r\n",
      "Requirement already satisfied: async-timeout<5.0,>=4.0 in /opt/conda/lib/python3.10/site-packages (from aiohttp->torch_geometric) (4.0.3)\r\n",
      "Requirement already satisfied: MarkupSafe>=2.0 in /opt/conda/lib/python3.10/site-packages (from jinja2->torch_geometric) (2.1.5)\r\n",
      "Requirement already satisfied: charset-normalizer<4,>=2 in /opt/conda/lib/python3.10/site-packages (from requests->torch_geometric) (3.3.2)\r\n",
      "Requirement already satisfied: idna<4,>=2.5 in /opt/conda/lib/python3.10/site-packages (from requests->torch_geometric) (3.7)\r\n",
      "Requirement already satisfied: urllib3<3,>=1.21.1 in /opt/conda/lib/python3.10/site-packages (from requests->torch_geometric) (1.26.18)\r\n",
      "Requirement already satisfied: certifi>=2017.4.17 in /opt/conda/lib/python3.10/site-packages (from requests->torch_geometric) (2024.7.4)\r\n",
      "Requirement already satisfied: joblib>=1.1.1 in /opt/conda/lib/python3.10/site-packages (from scikit-learn->torch_geometric) (1.4.2)\r\n",
      "Requirement already satisfied: threadpoolctl>=2.0.0 in /opt/conda/lib/python3.10/site-packages (from scikit-learn->torch_geometric) (3.5.0)\r\n",
      "Downloading torch_geometric-2.5.3-py3-none-any.whl (1.1 MB)\r\n",
      "\u001b[2K   \u001b[90m━━━━━━━━━━━━━━━━━━━━━━━━━━━━━━━━━━━━━━━━\u001b[0m \u001b[32m1.1/1.1 MB\u001b[0m \u001b[31m6.5 MB/s\u001b[0m eta \u001b[36m0:00:00\u001b[0m\r\n",
      "\u001b[?25hInstalling collected packages: torch_geometric\r\n",
      "Successfully installed torch_geometric-2.5.3\r\n"
     ]
    }
   ],
   "source": [
    "! pip install torch_geometric"
   ]
  },
  {
   "cell_type": "code",
   "execution_count": 2,
   "id": "ffe9c420",
   "metadata": {
    "_cell_guid": "b1076dfc-b9ad-4769-8c92-a6c4dae69d19",
    "_uuid": "8f2839f25d086af736a60e9eeb907d3b93b6e0e5",
    "execution": {
     "iopub.execute_input": "2024-09-06T05:39:20.100312Z",
     "iopub.status.busy": "2024-09-06T05:39:20.099912Z",
     "iopub.status.idle": "2024-09-06T10:31:00.731173Z",
     "shell.execute_reply": "2024-09-06T10:31:00.730234Z"
    },
    "papermill": {
     "duration": 17500.637863,
     "end_time": "2024-09-06T10:31:00.733238",
     "exception": false,
     "start_time": "2024-09-06T05:39:20.095375",
     "status": "completed"
    },
    "tags": []
   },
   "outputs": [
    {
     "name": "stderr",
     "output_type": "stream",
     "text": [
      "Downloading https://data.pyg.org/datasets/qm9_v3.zip\n",
      "Extracting ./raw/qm9_v3.zip\n",
      "Processing...\n",
      "Using a pre-processed version of the dataset. Please install 'rdkit' to alternatively process the raw data.\n",
      "/opt/conda/lib/python3.10/site-packages/torch_geometric/datasets/qm9.py:215: FutureWarning: You are using `torch.load` with `weights_only=False` (the current default value), which uses the default pickle module implicitly. It is possible to construct malicious pickle data which will execute arbitrary code during unpickling (See https://github.com/pytorch/pytorch/blob/main/SECURITY.md#untrusted-models for more details). In a future release, the default value for `weights_only` will be flipped to `True`. This limits the functions that could be executed during unpickling. Arbitrary objects will no longer be allowed to be loaded via this mode unless they are explicitly allowlisted by the user via `torch.serialization.add_safe_globals`. We recommend you start setting `weights_only=True` for any use case where you don't have full control of the loaded file. Please open an issue on GitHub for any issues related to this experimental feature.\n",
      "  data_list = torch.load(self.raw_paths[0])\n",
      "Done!\n",
      "/opt/conda/lib/python3.10/site-packages/torch_geometric/io/fs.py:215: FutureWarning: You are using `torch.load` with `weights_only=False` (the current default value), which uses the default pickle module implicitly. It is possible to construct malicious pickle data which will execute arbitrary code during unpickling (See https://github.com/pytorch/pytorch/blob/main/SECURITY.md#untrusted-models for more details). In a future release, the default value for `weights_only` will be flipped to `True`. This limits the functions that could be executed during unpickling. Arbitrary objects will no longer be allowed to be loaded via this mode unless they are explicitly allowlisted by the user via `torch.serialization.add_safe_globals`. We recommend you start setting `weights_only=True` for any use case where you don't have full control of the loaded file. Please open an issue on GitHub for any issues related to this experimental feature.\n",
      "  return torch.load(f, map_location)\n",
      "[I 2024-09-06 05:40:05,406] A new study created in memory with name: no-name-186b6288-7999-4812-b43a-10474d9a086d\n",
      "/tmp/ipykernel_23/2145068945.py:31: FutureWarning: suggest_loguniform has been deprecated in v3.0.0. This feature will be removed in v6.0.0. See https://github.com/optuna/optuna/releases/tag/v3.0.0. Use suggest_float(..., log=True) instead.\n",
      "  learning_rate = trial.suggest_loguniform(\"learning_rate\", 1e-4, 1e-2)\n"
     ]
    },
    {
     "name": "stdout",
     "output_type": "stream",
     "text": [
      "Epochs: 0 | epoch avg. loss: 1.19 | validation avg. loss: 0.15\n",
      "Epochs: 1 | epoch avg. loss: 0.16 | validation avg. loss: 0.15\n",
      "Epochs: 2 | epoch avg. loss: 0.13 | validation avg. loss: 0.11\n",
      "Epochs: 3 | epoch avg. loss: 0.10 | validation avg. loss: 0.08\n",
      "Epochs: 4 | epoch avg. loss: 0.10 | validation avg. loss: 0.07\n",
      "Epochs: 5 | epoch avg. loss: 0.09 | validation avg. loss: 0.10\n",
      "Epochs: 6 | epoch avg. loss: 0.08 | validation avg. loss: 0.07\n",
      "Epochs: 7 | epoch avg. loss: 0.08 | validation avg. loss: 0.07\n",
      "Epochs: 8 | epoch avg. loss: 0.08 | validation avg. loss: 0.06\n"
     ]
    },
    {
     "name": "stderr",
     "output_type": "stream",
     "text": [
      "[I 2024-09-06 05:46:27,636] Trial 0 finished with value: 0.11579698472238294 and parameters: {'conv1_out_channels': 48, 'conv2_out_channels': 64, 'num_heads1': 8, 'num_heads2': 4, 'fc_out_channels': 32, 'learning_rate': 0.0007708282458666731}. Best is trial 0 with value: 0.11579698472238294.\n"
     ]
    },
    {
     "name": "stdout",
     "output_type": "stream",
     "text": [
      "Epochs: 9 | epoch avg. loss: 0.07 | validation avg. loss: 0.12\n",
      "Epochs: 0 | epoch avg. loss: 3.11 | validation avg. loss: 0.20\n",
      "Epochs: 1 | epoch avg. loss: 0.20 | validation avg. loss: 0.18\n",
      "Epochs: 2 | epoch avg. loss: 0.18 | validation avg. loss: 0.18\n",
      "Epochs: 3 | epoch avg. loss: 0.16 | validation avg. loss: 0.18\n",
      "Epochs: 4 | epoch avg. loss: 0.15 | validation avg. loss: 0.12\n",
      "Epochs: 5 | epoch avg. loss: 0.14 | validation avg. loss: 0.14\n",
      "Epochs: 6 | epoch avg. loss: 0.13 | validation avg. loss: 0.13\n",
      "Epochs: 7 | epoch avg. loss: 0.12 | validation avg. loss: 0.11\n",
      "Epochs: 8 | epoch avg. loss: 0.11 | validation avg. loss: 0.10\n"
     ]
    },
    {
     "name": "stderr",
     "output_type": "stream",
     "text": [
      "[I 2024-09-06 05:52:18,878] Trial 1 finished with value: 0.09203152849275577 and parameters: {'conv1_out_channels': 32, 'conv2_out_channels': 64, 'num_heads1': 4, 'num_heads2': 4, 'fc_out_channels': 64, 'learning_rate': 0.00025595816503684566}. Best is trial 1 with value: 0.09203152849275577.\n"
     ]
    },
    {
     "name": "stdout",
     "output_type": "stream",
     "text": [
      "Epochs: 9 | epoch avg. loss: 0.11 | validation avg. loss: 0.09\n",
      "Epochs: 0 | epoch avg. loss: 0.48 | validation avg. loss: 0.19\n",
      "Epochs: 1 | epoch avg. loss: 0.19 | validation avg. loss: 0.12\n",
      "Epochs: 2 | epoch avg. loss: 0.14 | validation avg. loss: 0.11\n",
      "Epochs: 3 | epoch avg. loss: 0.12 | validation avg. loss: 0.11\n",
      "Epochs: 4 | epoch avg. loss: 0.11 | validation avg. loss: 0.08\n",
      "Epochs: 5 | epoch avg. loss: 0.10 | validation avg. loss: 0.11\n",
      "Epochs: 6 | epoch avg. loss: 0.10 | validation avg. loss: 0.07\n",
      "Epochs: 7 | epoch avg. loss: 0.09 | validation avg. loss: 0.10\n",
      "Epochs: 8 | epoch avg. loss: 0.09 | validation avg. loss: 0.06\n"
     ]
    },
    {
     "name": "stderr",
     "output_type": "stream",
     "text": [
      "[I 2024-09-06 05:58:07,289] Trial 2 finished with value: 0.10183846706191034 and parameters: {'conv1_out_channels': 32, 'conv2_out_channels': 64, 'num_heads1': 2, 'num_heads2': 6, 'fc_out_channels': 32, 'learning_rate': 0.006098315205171827}. Best is trial 1 with value: 0.09203152849275577.\n"
     ]
    },
    {
     "name": "stdout",
     "output_type": "stream",
     "text": [
      "Epochs: 9 | epoch avg. loss: 0.08 | validation avg. loss: 0.10\n",
      "Epochs: 0 | epoch avg. loss: 0.50 | validation avg. loss: 0.13\n",
      "Epochs: 1 | epoch avg. loss: 0.17 | validation avg. loss: 0.17\n",
      "Epochs: 2 | epoch avg. loss: 0.15 | validation avg. loss: 0.10\n",
      "Epochs: 3 | epoch avg. loss: 0.13 | validation avg. loss: 0.17\n",
      "Epochs: 4 | epoch avg. loss: 0.12 | validation avg. loss: 0.11\n",
      "Epochs: 5 | epoch avg. loss: 0.12 | validation avg. loss: 0.10\n",
      "Epochs: 6 | epoch avg. loss: 0.11 | validation avg. loss: 0.08\n",
      "Epochs: 7 | epoch avg. loss: 0.11 | validation avg. loss: 0.08\n",
      "Epochs: 8 | epoch avg. loss: 0.11 | validation avg. loss: 0.09\n"
     ]
    },
    {
     "name": "stderr",
     "output_type": "stream",
     "text": [
      "[I 2024-09-06 06:03:59,004] Trial 3 finished with value: 0.07862207313596943 and parameters: {'conv1_out_channels': 48, 'conv2_out_channels': 48, 'num_heads1': 2, 'num_heads2': 8, 'fc_out_channels': 48, 'learning_rate': 0.004542342149444116}. Best is trial 3 with value: 0.07862207313596943.\n"
     ]
    },
    {
     "name": "stdout",
     "output_type": "stream",
     "text": [
      "Epochs: 9 | epoch avg. loss: 0.10 | validation avg. loss: 0.08\n",
      "Epochs: 0 | epoch avg. loss: 3.89 | validation avg. loss: 0.23\n",
      "Epochs: 1 | epoch avg. loss: 0.20 | validation avg. loss: 0.17\n",
      "Epochs: 2 | epoch avg. loss: 0.17 | validation avg. loss: 0.15\n",
      "Epochs: 3 | epoch avg. loss: 0.16 | validation avg. loss: 0.14\n",
      "Epochs: 4 | epoch avg. loss: 0.15 | validation avg. loss: 0.13\n",
      "Epochs: 5 | epoch avg. loss: 0.14 | validation avg. loss: 0.13\n",
      "Epochs: 6 | epoch avg. loss: 0.14 | validation avg. loss: 0.15\n",
      "Epochs: 7 | epoch avg. loss: 0.14 | validation avg. loss: 0.12\n",
      "Epochs: 8 | epoch avg. loss: 0.13 | validation avg. loss: 0.12\n"
     ]
    },
    {
     "name": "stderr",
     "output_type": "stream",
     "text": [
      "[I 2024-09-06 06:09:46,568] Trial 4 finished with value: 0.11788148677929122 and parameters: {'conv1_out_channels': 64, 'conv2_out_channels': 32, 'num_heads1': 2, 'num_heads2': 6, 'fc_out_channels': 16, 'learning_rate': 0.00018423580008567635}. Best is trial 3 with value: 0.07862207313596943.\n"
     ]
    },
    {
     "name": "stdout",
     "output_type": "stream",
     "text": [
      "Epochs: 9 | epoch avg. loss: 0.13 | validation avg. loss: 0.12\n",
      "Epochs: 0 | epoch avg. loss: 1.51 | validation avg. loss: 0.20\n",
      "Epochs: 1 | epoch avg. loss: 0.17 | validation avg. loss: 0.16\n",
      "Epochs: 2 | epoch avg. loss: 0.15 | validation avg. loss: 0.12\n",
      "Epochs: 3 | epoch avg. loss: 0.13 | validation avg. loss: 0.13\n",
      "Epochs: 4 | epoch avg. loss: 0.12 | validation avg. loss: 0.11\n",
      "Epochs: 5 | epoch avg. loss: 0.11 | validation avg. loss: 0.11\n",
      "Epochs: 6 | epoch avg. loss: 0.10 | validation avg. loss: 0.07\n",
      "Epochs: 7 | epoch avg. loss: 0.09 | validation avg. loss: 0.07\n",
      "Epochs: 8 | epoch avg. loss: 0.08 | validation avg. loss: 0.10\n"
     ]
    },
    {
     "name": "stderr",
     "output_type": "stream",
     "text": [
      "[I 2024-09-06 06:15:34,091] Trial 5 finished with value: 0.07110356061745413 and parameters: {'conv1_out_channels': 64, 'conv2_out_channels': 32, 'num_heads1': 6, 'num_heads2': 2, 'fc_out_channels': 32, 'learning_rate': 0.000678797715392104}. Best is trial 5 with value: 0.07110356061745413.\n"
     ]
    },
    {
     "name": "stdout",
     "output_type": "stream",
     "text": [
      "Epochs: 9 | epoch avg. loss: 0.08 | validation avg. loss: 0.07\n",
      "Epochs: 0 | epoch avg. loss: 0.44 | validation avg. loss: 0.15\n",
      "Epochs: 1 | epoch avg. loss: 0.17 | validation avg. loss: 0.09\n",
      "Epochs: 2 | epoch avg. loss: 0.13 | validation avg. loss: 0.08\n",
      "Epochs: 3 | epoch avg. loss: 0.11 | validation avg. loss: 0.08\n",
      "Epochs: 4 | epoch avg. loss: 0.10 | validation avg. loss: 0.09\n",
      "Epochs: 5 | epoch avg. loss: 0.10 | validation avg. loss: 0.11\n",
      "Epochs: 6 | epoch avg. loss: 0.10 | validation avg. loss: 0.16\n",
      "Epochs: 7 | epoch avg. loss: 0.09 | validation avg. loss: 0.10\n",
      "Epochs: 8 | epoch avg. loss: 0.09 | validation avg. loss: 0.07\n"
     ]
    },
    {
     "name": "stderr",
     "output_type": "stream",
     "text": [
      "[I 2024-09-06 06:21:20,032] Trial 6 finished with value: 0.06352296630912029 and parameters: {'conv1_out_channels': 32, 'conv2_out_channels': 16, 'num_heads1': 6, 'num_heads2': 8, 'fc_out_channels': 48, 'learning_rate': 0.008277082820079567}. Best is trial 6 with value: 0.06352296630912029.\n"
     ]
    },
    {
     "name": "stdout",
     "output_type": "stream",
     "text": [
      "Epochs: 9 | epoch avg. loss: 0.09 | validation avg. loss: 0.06\n",
      "Epochs: 0 | epoch avg. loss: 1.64 | validation avg. loss: 0.21\n",
      "Epochs: 1 | epoch avg. loss: 0.20 | validation avg. loss: 0.24\n",
      "Epochs: 2 | epoch avg. loss: 0.17 | validation avg. loss: 0.13\n",
      "Epochs: 3 | epoch avg. loss: 0.15 | validation avg. loss: 0.12\n",
      "Epochs: 4 | epoch avg. loss: 0.13 | validation avg. loss: 0.11\n",
      "Epochs: 5 | epoch avg. loss: 0.12 | validation avg. loss: 0.10\n",
      "Epochs: 6 | epoch avg. loss: 0.11 | validation avg. loss: 0.08\n",
      "Epochs: 7 | epoch avg. loss: 0.09 | validation avg. loss: 0.08\n",
      "Epochs: 8 | epoch avg. loss: 0.09 | validation avg. loss: 0.07\n"
     ]
    },
    {
     "name": "stderr",
     "output_type": "stream",
     "text": [
      "[I 2024-09-06 06:27:12,489] Trial 7 finished with value: 0.06789617330543046 and parameters: {'conv1_out_channels': 16, 'conv2_out_channels': 64, 'num_heads1': 8, 'num_heads2': 8, 'fc_out_channels': 64, 'learning_rate': 0.00030554348853805894}. Best is trial 6 with value: 0.06352296630912029.\n"
     ]
    },
    {
     "name": "stdout",
     "output_type": "stream",
     "text": [
      "Epochs: 9 | epoch avg. loss: 0.08 | validation avg. loss: 0.07\n",
      "Epochs: 0 | epoch avg. loss: 1.15 | validation avg. loss: 0.18\n",
      "Epochs: 1 | epoch avg. loss: 0.19 | validation avg. loss: 0.17\n",
      "Epochs: 2 | epoch avg. loss: 0.14 | validation avg. loss: 0.14\n",
      "Epochs: 3 | epoch avg. loss: 0.12 | validation avg. loss: 0.10\n",
      "Epochs: 4 | epoch avg. loss: 0.10 | validation avg. loss: 0.09\n",
      "Epochs: 5 | epoch avg. loss: 0.09 | validation avg. loss: 0.08\n",
      "Epochs: 6 | epoch avg. loss: 0.09 | validation avg. loss: 0.06\n",
      "Epochs: 7 | epoch avg. loss: 0.08 | validation avg. loss: 0.07\n",
      "Epochs: 8 | epoch avg. loss: 0.08 | validation avg. loss: 0.07\n"
     ]
    },
    {
     "name": "stderr",
     "output_type": "stream",
     "text": [
      "[I 2024-09-06 06:32:57,386] Trial 8 finished with value: 0.059272568654666236 and parameters: {'conv1_out_channels': 16, 'conv2_out_channels': 48, 'num_heads1': 2, 'num_heads2': 8, 'fc_out_channels': 48, 'learning_rate': 0.001126474974480462}. Best is trial 8 with value: 0.059272568654666236.\n"
     ]
    },
    {
     "name": "stdout",
     "output_type": "stream",
     "text": [
      "Epochs: 9 | epoch avg. loss: 0.08 | validation avg. loss: 0.06\n",
      "Epochs: 0 | epoch avg. loss: 1.58 | validation avg. loss: 0.16\n",
      "Epochs: 1 | epoch avg. loss: 0.17 | validation avg. loss: 0.13\n",
      "Epochs: 2 | epoch avg. loss: 0.14 | validation avg. loss: 0.13\n",
      "Epochs: 3 | epoch avg. loss: 0.13 | validation avg. loss: 0.14\n",
      "Epochs: 4 | epoch avg. loss: 0.12 | validation avg. loss: 0.10\n",
      "Epochs: 5 | epoch avg. loss: 0.11 | validation avg. loss: 0.09\n",
      "Epochs: 6 | epoch avg. loss: 0.10 | validation avg. loss: 0.10\n",
      "Epochs: 7 | epoch avg. loss: 0.09 | validation avg. loss: 0.08\n",
      "Epochs: 8 | epoch avg. loss: 0.09 | validation avg. loss: 0.08\n"
     ]
    },
    {
     "name": "stderr",
     "output_type": "stream",
     "text": [
      "[I 2024-09-06 06:38:48,602] Trial 9 finished with value: 0.07496786223764554 and parameters: {'conv1_out_channels': 64, 'conv2_out_channels': 48, 'num_heads1': 6, 'num_heads2': 4, 'fc_out_channels': 32, 'learning_rate': 0.00043332663903144873}. Best is trial 8 with value: 0.059272568654666236.\n"
     ]
    },
    {
     "name": "stdout",
     "output_type": "stream",
     "text": [
      "Epochs: 9 | epoch avg. loss: 0.08 | validation avg. loss: 0.07\n",
      "Epochs: 0 | epoch avg. loss: 0.96 | validation avg. loss: 0.27\n",
      "Epochs: 1 | epoch avg. loss: 0.16 | validation avg. loss: 0.12\n",
      "Epochs: 2 | epoch avg. loss: 0.13 | validation avg. loss: 0.25\n",
      "Epochs: 3 | epoch avg. loss: 0.12 | validation avg. loss: 0.08\n",
      "Epochs: 4 | epoch avg. loss: 0.10 | validation avg. loss: 0.08\n",
      "Epochs: 5 | epoch avg. loss: 0.09 | validation avg. loss: 0.08\n",
      "Epochs: 6 | epoch avg. loss: 0.09 | validation avg. loss: 0.06\n",
      "Epochs: 7 | epoch avg. loss: 0.08 | validation avg. loss: 0.06\n",
      "Epochs: 8 | epoch avg. loss: 0.08 | validation avg. loss: 0.07\n"
     ]
    },
    {
     "name": "stderr",
     "output_type": "stream",
     "text": [
      "[I 2024-09-06 06:44:32,567] Trial 10 finished with value: 0.06019725270487465 and parameters: {'conv1_out_channels': 16, 'conv2_out_channels': 16, 'num_heads1': 4, 'num_heads2': 6, 'fc_out_channels': 16, 'learning_rate': 0.00200737518205705}. Best is trial 8 with value: 0.059272568654666236.\n"
     ]
    },
    {
     "name": "stdout",
     "output_type": "stream",
     "text": [
      "Epochs: 9 | epoch avg. loss: 0.08 | validation avg. loss: 0.06\n",
      "Epochs: 0 | epoch avg. loss: 0.90 | validation avg. loss: 0.18\n",
      "Epochs: 1 | epoch avg. loss: 0.17 | validation avg. loss: 0.14\n",
      "Epochs: 2 | epoch avg. loss: 0.15 | validation avg. loss: 0.12\n",
      "Epochs: 3 | epoch avg. loss: 0.13 | validation avg. loss: 0.11\n",
      "Epochs: 4 | epoch avg. loss: 0.11 | validation avg. loss: 0.10\n",
      "Epochs: 5 | epoch avg. loss: 0.10 | validation avg. loss: 0.08\n",
      "Epochs: 6 | epoch avg. loss: 0.09 | validation avg. loss: 0.09\n",
      "Epochs: 7 | epoch avg. loss: 0.09 | validation avg. loss: 0.07\n",
      "Epochs: 8 | epoch avg. loss: 0.09 | validation avg. loss: 0.08\n"
     ]
    },
    {
     "name": "stderr",
     "output_type": "stream",
     "text": [
      "[I 2024-09-06 06:50:16,945] Trial 11 finished with value: 0.06697873230643489 and parameters: {'conv1_out_channels': 16, 'conv2_out_channels': 16, 'num_heads1': 4, 'num_heads2': 6, 'fc_out_channels': 16, 'learning_rate': 0.0021857072526177785}. Best is trial 8 with value: 0.059272568654666236.\n"
     ]
    },
    {
     "name": "stdout",
     "output_type": "stream",
     "text": [
      "Epochs: 9 | epoch avg. loss: 0.08 | validation avg. loss: 0.07\n",
      "Epochs: 0 | epoch avg. loss: 0.89 | validation avg. loss: 0.16\n",
      "Epochs: 1 | epoch avg. loss: 0.17 | validation avg. loss: 0.17\n",
      "Epochs: 2 | epoch avg. loss: 0.14 | validation avg. loss: 0.16\n",
      "Epochs: 3 | epoch avg. loss: 0.12 | validation avg. loss: 0.09\n",
      "Epochs: 4 | epoch avg. loss: 0.10 | validation avg. loss: 0.09\n",
      "Epochs: 5 | epoch avg. loss: 0.09 | validation avg. loss: 0.07\n",
      "Epochs: 6 | epoch avg. loss: 0.08 | validation avg. loss: 0.07\n",
      "Epochs: 7 | epoch avg. loss: 0.08 | validation avg. loss: 0.07\n",
      "Epochs: 8 | epoch avg. loss: 0.08 | validation avg. loss: 0.07\n"
     ]
    },
    {
     "name": "stderr",
     "output_type": "stream",
     "text": [
      "[I 2024-09-06 06:56:03,727] Trial 12 finished with value: 0.056355583668855756 and parameters: {'conv1_out_channels': 16, 'conv2_out_channels': 32, 'num_heads1': 4, 'num_heads2': 8, 'fc_out_channels': 48, 'learning_rate': 0.0017133546641629482}. Best is trial 12 with value: 0.056355583668855756.\n"
     ]
    },
    {
     "name": "stdout",
     "output_type": "stream",
     "text": [
      "Epochs: 9 | epoch avg. loss: 0.08 | validation avg. loss: 0.06\n",
      "Epochs: 0 | epoch avg. loss: 0.81 | validation avg. loss: 0.16\n",
      "Epochs: 1 | epoch avg. loss: 0.17 | validation avg. loss: 0.15\n",
      "Epochs: 2 | epoch avg. loss: 0.14 | validation avg. loss: 0.11\n",
      "Epochs: 3 | epoch avg. loss: 0.13 | validation avg. loss: 0.11\n",
      "Epochs: 4 | epoch avg. loss: 0.11 | validation avg. loss: 0.09\n",
      "Epochs: 5 | epoch avg. loss: 0.10 | validation avg. loss: 0.12\n",
      "Epochs: 6 | epoch avg. loss: 0.09 | validation avg. loss: 0.08\n",
      "Epochs: 7 | epoch avg. loss: 0.09 | validation avg. loss: 0.08\n",
      "Epochs: 8 | epoch avg. loss: 0.08 | validation avg. loss: 0.06\n"
     ]
    },
    {
     "name": "stderr",
     "output_type": "stream",
     "text": [
      "[I 2024-09-06 07:01:49,689] Trial 13 finished with value: 0.06713762120211755 and parameters: {'conv1_out_channels': 16, 'conv2_out_channels': 32, 'num_heads1': 2, 'num_heads2': 8, 'fc_out_channels': 48, 'learning_rate': 0.0020499991423342232}. Best is trial 12 with value: 0.056355583668855756.\n"
     ]
    },
    {
     "name": "stdout",
     "output_type": "stream",
     "text": [
      "Epochs: 9 | epoch avg. loss: 0.08 | validation avg. loss: 0.07\n",
      "Epochs: 0 | epoch avg. loss: 3.24 | validation avg. loss: 0.26\n",
      "Epochs: 1 | epoch avg. loss: 0.23 | validation avg. loss: 0.17\n",
      "Epochs: 2 | epoch avg. loss: 0.17 | validation avg. loss: 0.15\n",
      "Epochs: 3 | epoch avg. loss: 0.15 | validation avg. loss: 0.13\n",
      "Epochs: 4 | epoch avg. loss: 0.14 | validation avg. loss: 0.12\n",
      "Epochs: 5 | epoch avg. loss: 0.13 | validation avg. loss: 0.12\n",
      "Epochs: 6 | epoch avg. loss: 0.13 | validation avg. loss: 0.12\n",
      "Epochs: 7 | epoch avg. loss: 0.12 | validation avg. loss: 0.11\n",
      "Epochs: 8 | epoch avg. loss: 0.12 | validation avg. loss: 0.11\n"
     ]
    },
    {
     "name": "stderr",
     "output_type": "stream",
     "text": [
      "[I 2024-09-06 07:07:38,625] Trial 14 finished with value: 0.12081445092233019 and parameters: {'conv1_out_channels': 32, 'conv2_out_channels': 48, 'num_heads1': 4, 'num_heads2': 8, 'fc_out_channels': 64, 'learning_rate': 0.00010962121407799281}. Best is trial 12 with value: 0.056355583668855756.\n"
     ]
    },
    {
     "name": "stdout",
     "output_type": "stream",
     "text": [
      "Epochs: 9 | epoch avg. loss: 0.12 | validation avg. loss: 0.12\n",
      "Epochs: 0 | epoch avg. loss: 1.47 | validation avg. loss: 0.25\n",
      "Epochs: 1 | epoch avg. loss: 0.19 | validation avg. loss: 0.15\n",
      "Epochs: 2 | epoch avg. loss: 0.16 | validation avg. loss: 0.16\n",
      "Epochs: 3 | epoch avg. loss: 0.15 | validation avg. loss: 0.13\n",
      "Epochs: 4 | epoch avg. loss: 0.14 | validation avg. loss: 0.12\n",
      "Epochs: 5 | epoch avg. loss: 0.14 | validation avg. loss: 0.12\n",
      "Epochs: 6 | epoch avg. loss: 0.13 | validation avg. loss: 0.12\n",
      "Epochs: 7 | epoch avg. loss: 0.13 | validation avg. loss: 0.14\n",
      "Epochs: 8 | epoch avg. loss: 0.12 | validation avg. loss: 0.10\n"
     ]
    },
    {
     "name": "stderr",
     "output_type": "stream",
     "text": [
      "[I 2024-09-06 07:13:21,197] Trial 15 finished with value: 0.10748196842377453 and parameters: {'conv1_out_channels': 16, 'conv2_out_channels': 32, 'num_heads1': 2, 'num_heads2': 2, 'fc_out_channels': 48, 'learning_rate': 0.0010537540225747336}. Best is trial 12 with value: 0.056355583668855756.\n"
     ]
    },
    {
     "name": "stdout",
     "output_type": "stream",
     "text": [
      "Epochs: 9 | epoch avg. loss: 0.12 | validation avg. loss: 0.11\n",
      "Epochs: 0 | epoch avg. loss: 0.64 | validation avg. loss: 0.15\n",
      "Epochs: 1 | epoch avg. loss: 0.17 | validation avg. loss: 0.23\n",
      "Epochs: 2 | epoch avg. loss: 0.14 | validation avg. loss: 0.10\n",
      "Epochs: 3 | epoch avg. loss: 0.12 | validation avg. loss: 0.10\n",
      "Epochs: 4 | epoch avg. loss: 0.10 | validation avg. loss: 0.83\n",
      "Epochs: 5 | epoch avg. loss: 0.09 | validation avg. loss: 0.09\n",
      "Epochs: 6 | epoch avg. loss: 0.09 | validation avg. loss: 0.17\n",
      "Epochs: 7 | epoch avg. loss: 0.08 | validation avg. loss: 0.06\n",
      "Epochs: 8 | epoch avg. loss: 0.08 | validation avg. loss: 0.07\n"
     ]
    },
    {
     "name": "stderr",
     "output_type": "stream",
     "text": [
      "[I 2024-09-06 07:19:04,813] Trial 16 finished with value: 0.05742863127976373 and parameters: {'conv1_out_channels': 16, 'conv2_out_channels': 48, 'num_heads1': 4, 'num_heads2': 8, 'fc_out_channels': 48, 'learning_rate': 0.0014036721824774595}. Best is trial 12 with value: 0.056355583668855756.\n"
     ]
    },
    {
     "name": "stdout",
     "output_type": "stream",
     "text": [
      "Epochs: 9 | epoch avg. loss: 0.07 | validation avg. loss: 0.06\n",
      "Epochs: 0 | epoch avg. loss: 0.49 | validation avg. loss: 0.15\n",
      "Epochs: 1 | epoch avg. loss: 0.18 | validation avg. loss: 0.13\n",
      "Epochs: 2 | epoch avg. loss: 0.14 | validation avg. loss: 0.14\n",
      "Epochs: 3 | epoch avg. loss: 0.11 | validation avg. loss: 0.13\n",
      "Epochs: 4 | epoch avg. loss: 0.10 | validation avg. loss: 0.07\n",
      "Epochs: 5 | epoch avg. loss: 0.09 | validation avg. loss: 0.06\n",
      "Epochs: 6 | epoch avg. loss: 0.09 | validation avg. loss: 0.07\n",
      "Epochs: 7 | epoch avg. loss: 0.08 | validation avg. loss: 0.06\n",
      "Epochs: 8 | epoch avg. loss: 0.08 | validation avg. loss: 0.07\n"
     ]
    },
    {
     "name": "stderr",
     "output_type": "stream",
     "text": [
      "[I 2024-09-06 07:24:51,489] Trial 17 finished with value: 0.08256228919307035 and parameters: {'conv1_out_channels': 48, 'conv2_out_channels': 32, 'num_heads1': 4, 'num_heads2': 6, 'fc_out_channels': 64, 'learning_rate': 0.0035900963460440568}. Best is trial 12 with value: 0.056355583668855756.\n"
     ]
    },
    {
     "name": "stdout",
     "output_type": "stream",
     "text": [
      "Epochs: 9 | epoch avg. loss: 0.07 | validation avg. loss: 0.08\n",
      "Epochs: 0 | epoch avg. loss: 0.76 | validation avg. loss: 0.22\n",
      "Epochs: 1 | epoch avg. loss: 0.17 | validation avg. loss: 0.14\n",
      "Epochs: 2 | epoch avg. loss: 0.13 | validation avg. loss: 0.11\n",
      "Epochs: 3 | epoch avg. loss: 0.10 | validation avg. loss: 0.10\n",
      "Epochs: 4 | epoch avg. loss: 0.09 | validation avg. loss: 0.09\n",
      "Epochs: 5 | epoch avg. loss: 0.08 | validation avg. loss: 0.07\n",
      "Epochs: 6 | epoch avg. loss: 0.08 | validation avg. loss: 0.08\n",
      "Epochs: 7 | epoch avg. loss: 0.08 | validation avg. loss: 0.07\n",
      "Epochs: 8 | epoch avg. loss: 0.07 | validation avg. loss: 0.06\n"
     ]
    },
    {
     "name": "stderr",
     "output_type": "stream",
     "text": [
      "[I 2024-09-06 07:30:43,502] Trial 18 finished with value: 0.05490873161197402 and parameters: {'conv1_out_channels': 32, 'conv2_out_channels': 48, 'num_heads1': 6, 'num_heads2': 8, 'fc_out_channels': 48, 'learning_rate': 0.0014420608725728896}. Best is trial 18 with value: 0.05490873161197402.\n"
     ]
    },
    {
     "name": "stdout",
     "output_type": "stream",
     "text": [
      "Epochs: 9 | epoch avg. loss: 0.07 | validation avg. loss: 0.05\n",
      "Epochs: 0 | epoch avg. loss: 0.52 | validation avg. loss: 0.14\n",
      "Epochs: 1 | epoch avg. loss: 0.16 | validation avg. loss: 0.10\n",
      "Epochs: 2 | epoch avg. loss: 0.11 | validation avg. loss: 0.08\n",
      "Epochs: 3 | epoch avg. loss: 0.10 | validation avg. loss: 0.11\n",
      "Epochs: 4 | epoch avg. loss: 0.09 | validation avg. loss: 0.07\n",
      "Epochs: 5 | epoch avg. loss: 0.08 | validation avg. loss: 0.12\n",
      "Epochs: 6 | epoch avg. loss: 0.08 | validation avg. loss: 0.30\n",
      "Epochs: 7 | epoch avg. loss: 0.08 | validation avg. loss: 0.07\n",
      "Epochs: 8 | epoch avg. loss: 0.08 | validation avg. loss: 0.07\n"
     ]
    },
    {
     "name": "stderr",
     "output_type": "stream",
     "text": [
      "[I 2024-09-06 07:36:30,367] Trial 19 finished with value: 0.055852701977430516 and parameters: {'conv1_out_channels': 32, 'conv2_out_channels': 32, 'num_heads1': 6, 'num_heads2': 6, 'fc_out_channels': 32, 'learning_rate': 0.0028615608199286944}. Best is trial 18 with value: 0.05490873161197402.\n"
     ]
    },
    {
     "name": "stdout",
     "output_type": "stream",
     "text": [
      "Epochs: 9 | epoch avg. loss: 0.07 | validation avg. loss: 0.06\n",
      "Epochs: 0 | epoch avg. loss: 0.60 | validation avg. loss: 0.13\n",
      "Epochs: 1 | epoch avg. loss: 0.16 | validation avg. loss: 0.08\n",
      "Epochs: 2 | epoch avg. loss: 0.12 | validation avg. loss: 0.11\n",
      "Epochs: 3 | epoch avg. loss: 0.10 | validation avg. loss: 0.15\n",
      "Epochs: 4 | epoch avg. loss: 0.10 | validation avg. loss: 0.10\n",
      "Epochs: 5 | epoch avg. loss: 0.09 | validation avg. loss: 0.10\n",
      "Epochs: 6 | epoch avg. loss: 0.08 | validation avg. loss: 0.07\n",
      "Epochs: 7 | epoch avg. loss: 0.08 | validation avg. loss: 0.09\n",
      "Epochs: 8 | epoch avg. loss: 0.08 | validation avg. loss: 0.06\n"
     ]
    },
    {
     "name": "stderr",
     "output_type": "stream",
     "text": [
      "[I 2024-09-06 07:42:21,372] Trial 20 finished with value: 0.061447287192471015 and parameters: {'conv1_out_channels': 32, 'conv2_out_channels': 48, 'num_heads1': 6, 'num_heads2': 6, 'fc_out_channels': 32, 'learning_rate': 0.003178272432029801}. Best is trial 18 with value: 0.05490873161197402.\n"
     ]
    },
    {
     "name": "stdout",
     "output_type": "stream",
     "text": [
      "Epochs: 9 | epoch avg. loss: 0.08 | validation avg. loss: 0.06\n",
      "Epochs: 0 | epoch avg. loss: 0.73 | validation avg. loss: 0.13\n",
      "Epochs: 1 | epoch avg. loss: 0.16 | validation avg. loss: 0.11\n",
      "Epochs: 2 | epoch avg. loss: 0.13 | validation avg. loss: 0.16\n",
      "Epochs: 3 | epoch avg. loss: 0.10 | validation avg. loss: 0.08\n",
      "Epochs: 4 | epoch avg. loss: 0.09 | validation avg. loss: 0.13\n",
      "Epochs: 5 | epoch avg. loss: 0.08 | validation avg. loss: 0.07\n",
      "Epochs: 6 | epoch avg. loss: 0.08 | validation avg. loss: 0.06\n",
      "Epochs: 7 | epoch avg. loss: 0.08 | validation avg. loss: 0.07\n",
      "Epochs: 8 | epoch avg. loss: 0.07 | validation avg. loss: 0.06\n"
     ]
    },
    {
     "name": "stderr",
     "output_type": "stream",
     "text": [
      "[I 2024-09-06 07:48:09,127] Trial 21 finished with value: 0.0625404686096159 and parameters: {'conv1_out_channels': 32, 'conv2_out_channels': 32, 'num_heads1': 6, 'num_heads2': 8, 'fc_out_channels': 48, 'learning_rate': 0.0017734439641990613}. Best is trial 18 with value: 0.05490873161197402.\n"
     ]
    },
    {
     "name": "stdout",
     "output_type": "stream",
     "text": [
      "Epochs: 9 | epoch avg. loss: 0.07 | validation avg. loss: 0.06\n",
      "Epochs: 0 | epoch avg. loss: 0.61 | validation avg. loss: 0.14\n",
      "Epochs: 1 | epoch avg. loss: 0.14 | validation avg. loss: 0.13\n",
      "Epochs: 2 | epoch avg. loss: 0.13 | validation avg. loss: 0.08\n",
      "Epochs: 3 | epoch avg. loss: 0.10 | validation avg. loss: 0.08\n",
      "Epochs: 4 | epoch avg. loss: 0.09 | validation avg. loss: 0.07\n",
      "Epochs: 5 | epoch avg. loss: 0.09 | validation avg. loss: 0.06\n",
      "Epochs: 6 | epoch avg. loss: 0.08 | validation avg. loss: 0.07\n",
      "Epochs: 7 | epoch avg. loss: 0.08 | validation avg. loss: 0.07\n",
      "Epochs: 8 | epoch avg. loss: 0.08 | validation avg. loss: 0.08\n"
     ]
    },
    {
     "name": "stderr",
     "output_type": "stream",
     "text": [
      "[I 2024-09-06 07:53:59,857] Trial 22 finished with value: 0.06110109887551473 and parameters: {'conv1_out_channels': 48, 'conv2_out_channels': 32, 'num_heads1': 8, 'num_heads2': 6, 'fc_out_channels': 32, 'learning_rate': 0.0026430941232835074}. Best is trial 18 with value: 0.05490873161197402.\n"
     ]
    },
    {
     "name": "stdout",
     "output_type": "stream",
     "text": [
      "Epochs: 9 | epoch avg. loss: 0.08 | validation avg. loss: 0.06\n",
      "Epochs: 0 | epoch avg. loss: 1.25 | validation avg. loss: 0.20\n",
      "Epochs: 1 | epoch avg. loss: 0.18 | validation avg. loss: 0.15\n",
      "Epochs: 2 | epoch avg. loss: 0.16 | validation avg. loss: 0.12\n",
      "Epochs: 3 | epoch avg. loss: 0.14 | validation avg. loss: 0.11\n",
      "Epochs: 4 | epoch avg. loss: 0.12 | validation avg. loss: 0.10\n",
      "Epochs: 5 | epoch avg. loss: 0.10 | validation avg. loss: 0.09\n",
      "Epochs: 6 | epoch avg. loss: 0.09 | validation avg. loss: 0.10\n",
      "Epochs: 7 | epoch avg. loss: 0.09 | validation avg. loss: 0.07\n",
      "Epochs: 8 | epoch avg. loss: 0.08 | validation avg. loss: 0.07\n"
     ]
    },
    {
     "name": "stderr",
     "output_type": "stream",
     "text": [
      "[I 2024-09-06 07:59:43,259] Trial 23 finished with value: 0.07741618919170043 and parameters: {'conv1_out_channels': 32, 'conv2_out_channels': 16, 'num_heads1': 6, 'num_heads2': 8, 'fc_out_channels': 48, 'learning_rate': 0.0006426838872950893}. Best is trial 18 with value: 0.05490873161197402.\n"
     ]
    },
    {
     "name": "stdout",
     "output_type": "stream",
     "text": [
      "Epochs: 9 | epoch avg. loss: 0.08 | validation avg. loss: 0.08\n",
      "Epochs: 0 | epoch avg. loss: 0.60 | validation avg. loss: 0.16\n",
      "Epochs: 1 | epoch avg. loss: 0.15 | validation avg. loss: 0.09\n",
      "Epochs: 2 | epoch avg. loss: 0.13 | validation avg. loss: 0.10\n",
      "Epochs: 3 | epoch avg. loss: 0.12 | validation avg. loss: 0.09\n",
      "Epochs: 4 | epoch avg. loss: 0.10 | validation avg. loss: 0.08\n",
      "Epochs: 5 | epoch avg. loss: 0.10 | validation avg. loss: 0.08\n",
      "Epochs: 6 | epoch avg. loss: 0.10 | validation avg. loss: 0.09\n",
      "Epochs: 7 | epoch avg. loss: 0.09 | validation avg. loss: 0.08\n",
      "Epochs: 8 | epoch avg. loss: 0.09 | validation avg. loss: 0.07\n"
     ]
    },
    {
     "name": "stderr",
     "output_type": "stream",
     "text": [
      "[I 2024-09-06 08:05:26,501] Trial 24 finished with value: 0.07676206854789522 and parameters: {'conv1_out_channels': 32, 'conv2_out_channels': 32, 'num_heads1': 6, 'num_heads2': 4, 'fc_out_channels': 32, 'learning_rate': 0.0045035070690143736}. Best is trial 18 with value: 0.05490873161197402.\n"
     ]
    },
    {
     "name": "stdout",
     "output_type": "stream",
     "text": [
      "Epochs: 9 | epoch avg. loss: 0.10 | validation avg. loss: 0.08\n",
      "Epochs: 0 | epoch avg. loss: 0.58 | validation avg. loss: 0.28\n",
      "Epochs: 1 | epoch avg. loss: 0.17 | validation avg. loss: 0.14\n",
      "Epochs: 2 | epoch avg. loss: 0.14 | validation avg. loss: 0.09\n",
      "Epochs: 3 | epoch avg. loss: 0.10 | validation avg. loss: 0.08\n",
      "Epochs: 4 | epoch avg. loss: 0.09 | validation avg. loss: 0.08\n",
      "Epochs: 5 | epoch avg. loss: 0.08 | validation avg. loss: 0.07\n",
      "Epochs: 6 | epoch avg. loss: 0.08 | validation avg. loss: 0.07\n",
      "Epochs: 7 | epoch avg. loss: 0.07 | validation avg. loss: 0.05\n",
      "Epochs: 8 | epoch avg. loss: 0.07 | validation avg. loss: 0.06\n"
     ]
    },
    {
     "name": "stderr",
     "output_type": "stream",
     "text": [
      "[I 2024-09-06 08:11:18,632] Trial 25 finished with value: 0.05618161276187849 and parameters: {'conv1_out_channels': 48, 'conv2_out_channels': 48, 'num_heads1': 8, 'num_heads2': 6, 'fc_out_channels': 48, 'learning_rate': 0.0016311216623320912}. Best is trial 18 with value: 0.05490873161197402.\n"
     ]
    },
    {
     "name": "stdout",
     "output_type": "stream",
     "text": [
      "Epochs: 9 | epoch avg. loss: 0.07 | validation avg. loss: 0.06\n",
      "Epochs: 0 | epoch avg. loss: 0.68 | validation avg. loss: 0.34\n",
      "Epochs: 1 | epoch avg. loss: 0.16 | validation avg. loss: 0.13\n",
      "Epochs: 2 | epoch avg. loss: 0.12 | validation avg. loss: 0.09\n",
      "Epochs: 3 | epoch avg. loss: 0.10 | validation avg. loss: 0.08\n",
      "Epochs: 4 | epoch avg. loss: 0.09 | validation avg. loss: 0.08\n",
      "Epochs: 5 | epoch avg. loss: 0.09 | validation avg. loss: 0.12\n",
      "Epochs: 6 | epoch avg. loss: 0.09 | validation avg. loss: 0.10\n",
      "Epochs: 7 | epoch avg. loss: 0.08 | validation avg. loss: 0.10\n",
      "Epochs: 8 | epoch avg. loss: 0.08 | validation avg. loss: 0.07\n"
     ]
    },
    {
     "name": "stderr",
     "output_type": "stream",
     "text": [
      "[I 2024-09-06 08:17:11,998] Trial 26 finished with value: 0.053825981046186896 and parameters: {'conv1_out_channels': 48, 'conv2_out_channels': 48, 'num_heads1': 8, 'num_heads2': 6, 'fc_out_channels': 64, 'learning_rate': 0.0013232693877591774}. Best is trial 26 with value: 0.053825981046186896.\n"
     ]
    },
    {
     "name": "stdout",
     "output_type": "stream",
     "text": [
      "Epochs: 9 | epoch avg. loss: 0.08 | validation avg. loss: 0.05\n",
      "Epochs: 0 | epoch avg. loss: 0.81 | validation avg. loss: 0.23\n",
      "Epochs: 1 | epoch avg. loss: 0.17 | validation avg. loss: 0.19\n",
      "Epochs: 2 | epoch avg. loss: 0.14 | validation avg. loss: 0.15\n",
      "Epochs: 3 | epoch avg. loss: 0.11 | validation avg. loss: 0.09\n",
      "Epochs: 4 | epoch avg. loss: 0.10 | validation avg. loss: 0.07\n",
      "Epochs: 5 | epoch avg. loss: 0.09 | validation avg. loss: 0.08\n",
      "Epochs: 6 | epoch avg. loss: 0.09 | validation avg. loss: 0.07\n",
      "Epochs: 7 | epoch avg. loss: 0.08 | validation avg. loss: 0.09\n",
      "Epochs: 8 | epoch avg. loss: 0.08 | validation avg. loss: 0.08\n"
     ]
    },
    {
     "name": "stderr",
     "output_type": "stream",
     "text": [
      "[I 2024-09-06 08:23:03,977] Trial 27 finished with value: 0.05618052710545557 and parameters: {'conv1_out_channels': 48, 'conv2_out_channels': 48, 'num_heads1': 8, 'num_heads2': 4, 'fc_out_channels': 64, 'learning_rate': 0.0008510189870221353}. Best is trial 26 with value: 0.053825981046186896.\n"
     ]
    },
    {
     "name": "stdout",
     "output_type": "stream",
     "text": [
      "Epochs: 9 | epoch avg. loss: 0.08 | validation avg. loss: 0.06\n",
      "Epochs: 0 | epoch avg. loss: 0.39 | validation avg. loss: 0.13\n",
      "Epochs: 1 | epoch avg. loss: 0.16 | validation avg. loss: 0.10\n",
      "Epochs: 2 | epoch avg. loss: 0.14 | validation avg. loss: 0.15\n",
      "Epochs: 3 | epoch avg. loss: 0.12 | validation avg. loss: 0.09\n",
      "Epochs: 4 | epoch avg. loss: 0.12 | validation avg. loss: 0.08\n",
      "Epochs: 5 | epoch avg. loss: 0.10 | validation avg. loss: 0.11\n",
      "Epochs: 6 | epoch avg. loss: 0.11 | validation avg. loss: 0.09\n",
      "Epochs: 7 | epoch avg. loss: 0.10 | validation avg. loss: 0.09\n",
      "Epochs: 8 | epoch avg. loss: 0.10 | validation avg. loss: 0.07\n"
     ]
    },
    {
     "name": "stderr",
     "output_type": "stream",
     "text": [
      "[I 2024-09-06 08:28:55,850] Trial 28 finished with value: 0.07535734335456723 and parameters: {'conv1_out_channels': 48, 'conv2_out_channels': 48, 'num_heads1': 8, 'num_heads2': 6, 'fc_out_channels': 64, 'learning_rate': 0.008960463095186603}. Best is trial 26 with value: 0.053825981046186896.\n"
     ]
    },
    {
     "name": "stdout",
     "output_type": "stream",
     "text": [
      "Epochs: 9 | epoch avg. loss: 0.10 | validation avg. loss: 0.08\n",
      "Epochs: 0 | epoch avg. loss: 1.39 | validation avg. loss: 0.20\n",
      "Epochs: 1 | epoch avg. loss: 0.18 | validation avg. loss: 0.13\n",
      "Epochs: 2 | epoch avg. loss: 0.15 | validation avg. loss: 0.12\n",
      "Epochs: 3 | epoch avg. loss: 0.13 | validation avg. loss: 0.10\n",
      "Epochs: 4 | epoch avg. loss: 0.11 | validation avg. loss: 0.10\n",
      "Epochs: 5 | epoch avg. loss: 0.10 | validation avg. loss: 0.08\n",
      "Epochs: 6 | epoch avg. loss: 0.09 | validation avg. loss: 0.09\n",
      "Epochs: 7 | epoch avg. loss: 0.09 | validation avg. loss: 0.09\n",
      "Epochs: 8 | epoch avg. loss: 0.08 | validation avg. loss: 0.06\n"
     ]
    },
    {
     "name": "stderr",
     "output_type": "stream",
     "text": [
      "[I 2024-09-06 08:34:48,460] Trial 29 finished with value: 0.07977649177962112 and parameters: {'conv1_out_channels': 48, 'conv2_out_channels': 64, 'num_heads1': 8, 'num_heads2': 4, 'fc_out_channels': 16, 'learning_rate': 0.0005279303356102695}. Best is trial 26 with value: 0.053825981046186896.\n"
     ]
    },
    {
     "name": "stdout",
     "output_type": "stream",
     "text": [
      "Epochs: 9 | epoch avg. loss: 0.08 | validation avg. loss: 0.08\n",
      "Epochs: 0 | epoch avg. loss: 0.83 | validation avg. loss: 0.17\n",
      "Epochs: 1 | epoch avg. loss: 0.17 | validation avg. loss: 0.12\n",
      "Epochs: 2 | epoch avg. loss: 0.13 | validation avg. loss: 0.13\n",
      "Epochs: 3 | epoch avg. loss: 0.11 | validation avg. loss: 0.08\n",
      "Epochs: 4 | epoch avg. loss: 0.09 | validation avg. loss: 0.12\n",
      "Epochs: 5 | epoch avg. loss: 0.09 | validation avg. loss: 0.07\n",
      "Epochs: 6 | epoch avg. loss: 0.08 | validation avg. loss: 0.06\n",
      "Epochs: 7 | epoch avg. loss: 0.08 | validation avg. loss: 0.07\n",
      "Epochs: 8 | epoch avg. loss: 0.07 | validation avg. loss: 0.06\n"
     ]
    },
    {
     "name": "stderr",
     "output_type": "stream",
     "text": [
      "[I 2024-09-06 08:40:39,937] Trial 30 finished with value: 0.05694845689431571 and parameters: {'conv1_out_channels': 32, 'conv2_out_channels': 64, 'num_heads1': 6, 'num_heads2': 6, 'fc_out_channels': 32, 'learning_rate': 0.001183024841430359}. Best is trial 26 with value: 0.053825981046186896.\n"
     ]
    },
    {
     "name": "stdout",
     "output_type": "stream",
     "text": [
      "Epochs: 9 | epoch avg. loss: 0.07 | validation avg. loss: 0.06\n",
      "Epochs: 0 | epoch avg. loss: 0.84 | validation avg. loss: 0.16\n",
      "Epochs: 1 | epoch avg. loss: 0.17 | validation avg. loss: 0.14\n",
      "Epochs: 2 | epoch avg. loss: 0.14 | validation avg. loss: 0.10\n",
      "Epochs: 3 | epoch avg. loss: 0.11 | validation avg. loss: 0.09\n",
      "Epochs: 4 | epoch avg. loss: 0.09 | validation avg. loss: 0.12\n",
      "Epochs: 5 | epoch avg. loss: 0.09 | validation avg. loss: 0.10\n",
      "Epochs: 6 | epoch avg. loss: 0.08 | validation avg. loss: 0.08\n",
      "Epochs: 7 | epoch avg. loss: 0.08 | validation avg. loss: 0.06\n",
      "Epochs: 8 | epoch avg. loss: 0.08 | validation avg. loss: 0.09\n"
     ]
    },
    {
     "name": "stderr",
     "output_type": "stream",
     "text": [
      "[I 2024-09-06 08:46:30,550] Trial 31 finished with value: 0.06314277960954529 and parameters: {'conv1_out_channels': 48, 'conv2_out_channels': 48, 'num_heads1': 8, 'num_heads2': 4, 'fc_out_channels': 64, 'learning_rate': 0.0009265796954447646}. Best is trial 26 with value: 0.053825981046186896.\n"
     ]
    },
    {
     "name": "stdout",
     "output_type": "stream",
     "text": [
      "Epochs: 9 | epoch avg. loss: 0.08 | validation avg. loss: 0.06\n",
      "Epochs: 0 | epoch avg. loss: 0.91 | validation avg. loss: 0.21\n",
      "Epochs: 1 | epoch avg. loss: 0.16 | validation avg. loss: 0.13\n",
      "Epochs: 2 | epoch avg. loss: 0.14 | validation avg. loss: 0.10\n",
      "Epochs: 3 | epoch avg. loss: 0.11 | validation avg. loss: 0.08\n",
      "Epochs: 4 | epoch avg. loss: 0.09 | validation avg. loss: 0.09\n",
      "Epochs: 5 | epoch avg. loss: 0.08 | validation avg. loss: 0.10\n",
      "Epochs: 6 | epoch avg. loss: 0.08 | validation avg. loss: 0.07\n",
      "Epochs: 7 | epoch avg. loss: 0.08 | validation avg. loss: 0.09\n",
      "Epochs: 8 | epoch avg. loss: 0.08 | validation avg. loss: 0.06\n"
     ]
    },
    {
     "name": "stderr",
     "output_type": "stream",
     "text": [
      "[I 2024-09-06 08:52:21,302] Trial 32 finished with value: 0.07373872674212607 and parameters: {'conv1_out_channels': 48, 'conv2_out_channels': 48, 'num_heads1': 8, 'num_heads2': 4, 'fc_out_channels': 64, 'learning_rate': 0.0008454305535465231}. Best is trial 26 with value: 0.053825981046186896.\n"
     ]
    },
    {
     "name": "stdout",
     "output_type": "stream",
     "text": [
      "Epochs: 9 | epoch avg. loss: 0.07 | validation avg. loss: 0.07\n",
      "Epochs: 0 | epoch avg. loss: 1.71 | validation avg. loss: 0.17\n",
      "Epochs: 1 | epoch avg. loss: 0.18 | validation avg. loss: 0.15\n",
      "Epochs: 2 | epoch avg. loss: 0.15 | validation avg. loss: 0.20\n",
      "Epochs: 3 | epoch avg. loss: 0.14 | validation avg. loss: 0.13\n",
      "Epochs: 4 | epoch avg. loss: 0.12 | validation avg. loss: 0.12\n",
      "Epochs: 5 | epoch avg. loss: 0.11 | validation avg. loss: 0.10\n",
      "Epochs: 6 | epoch avg. loss: 0.11 | validation avg. loss: 0.10\n",
      "Epochs: 7 | epoch avg. loss: 0.10 | validation avg. loss: 0.08\n",
      "Epochs: 8 | epoch avg. loss: 0.09 | validation avg. loss: 0.08\n"
     ]
    },
    {
     "name": "stderr",
     "output_type": "stream",
     "text": [
      "[I 2024-09-06 08:58:06,508] Trial 33 finished with value: 0.08768681656146532 and parameters: {'conv1_out_channels': 48, 'conv2_out_channels': 48, 'num_heads1': 8, 'num_heads2': 2, 'fc_out_channels': 64, 'learning_rate': 0.0004003431818269607}. Best is trial 26 with value: 0.053825981046186896.\n"
     ]
    },
    {
     "name": "stdout",
     "output_type": "stream",
     "text": [
      "Epochs: 9 | epoch avg. loss: 0.09 | validation avg. loss: 0.09\n",
      "Epochs: 0 | epoch avg. loss: 0.76 | validation avg. loss: 0.30\n",
      "Epochs: 1 | epoch avg. loss: 0.17 | validation avg. loss: 0.13\n",
      "Epochs: 2 | epoch avg. loss: 0.14 | validation avg. loss: 0.12\n",
      "Epochs: 3 | epoch avg. loss: 0.11 | validation avg. loss: 0.09\n",
      "Epochs: 4 | epoch avg. loss: 0.10 | validation avg. loss: 0.07\n",
      "Epochs: 5 | epoch avg. loss: 0.09 | validation avg. loss: 0.07\n",
      "Epochs: 6 | epoch avg. loss: 0.08 | validation avg. loss: 0.07\n",
      "Epochs: 7 | epoch avg. loss: 0.08 | validation avg. loss: 0.08\n",
      "Epochs: 8 | epoch avg. loss: 0.08 | validation avg. loss: 0.07\n"
     ]
    },
    {
     "name": "stderr",
     "output_type": "stream",
     "text": [
      "[I 2024-09-06 09:03:54,945] Trial 34 finished with value: 0.05335596916737423 and parameters: {'conv1_out_channels': 32, 'conv2_out_channels': 64, 'num_heads1': 6, 'num_heads2': 4, 'fc_out_channels': 64, 'learning_rate': 0.0012290853037013434}. Best is trial 34 with value: 0.05335596916737423.\n"
     ]
    },
    {
     "name": "stdout",
     "output_type": "stream",
     "text": [
      "Epochs: 9 | epoch avg. loss: 0.07 | validation avg. loss: 0.05\n",
      "Epochs: 0 | epoch avg. loss: 0.72 | validation avg. loss: 0.15\n",
      "Epochs: 1 | epoch avg. loss: 0.17 | validation avg. loss: 0.12\n",
      "Epochs: 2 | epoch avg. loss: 0.14 | validation avg. loss: 0.16\n",
      "Epochs: 3 | epoch avg. loss: 0.11 | validation avg. loss: 0.08\n",
      "Epochs: 4 | epoch avg. loss: 0.10 | validation avg. loss: 0.08\n",
      "Epochs: 5 | epoch avg. loss: 0.09 | validation avg. loss: 0.10\n",
      "Epochs: 6 | epoch avg. loss: 0.09 | validation avg. loss: 0.07\n",
      "Epochs: 7 | epoch avg. loss: 0.09 | validation avg. loss: 0.10\n",
      "Epochs: 8 | epoch avg. loss: 0.08 | validation avg. loss: 0.08\n"
     ]
    },
    {
     "name": "stderr",
     "output_type": "stream",
     "text": [
      "[I 2024-09-06 09:09:42,466] Trial 35 finished with value: 0.07073943708073058 and parameters: {'conv1_out_channels': 32, 'conv2_out_channels': 64, 'num_heads1': 6, 'num_heads2': 4, 'fc_out_channels': 64, 'learning_rate': 0.0013064138931335137}. Best is trial 34 with value: 0.05335596916737423.\n"
     ]
    },
    {
     "name": "stdout",
     "output_type": "stream",
     "text": [
      "Epochs: 9 | epoch avg. loss: 0.08 | validation avg. loss: 0.07\n",
      "Epochs: 0 | epoch avg. loss: 0.44 | validation avg. loss: 0.19\n",
      "Epochs: 1 | epoch avg. loss: 0.16 | validation avg. loss: 0.12\n",
      "Epochs: 2 | epoch avg. loss: 0.12 | validation avg. loss: 0.08\n",
      "Epochs: 3 | epoch avg. loss: 0.10 | validation avg. loss: 0.07\n",
      "Epochs: 4 | epoch avg. loss: 0.09 | validation avg. loss: 0.09\n",
      "Epochs: 5 | epoch avg. loss: 0.09 | validation avg. loss: 0.07\n",
      "Epochs: 6 | epoch avg. loss: 0.09 | validation avg. loss: 0.07\n",
      "Epochs: 7 | epoch avg. loss: 0.08 | validation avg. loss: 0.06\n",
      "Epochs: 8 | epoch avg. loss: 0.08 | validation avg. loss: 0.06\n"
     ]
    },
    {
     "name": "stderr",
     "output_type": "stream",
     "text": [
      "[I 2024-09-06 09:15:32,728] Trial 36 finished with value: 0.053675326776244765 and parameters: {'conv1_out_channels': 32, 'conv2_out_channels': 64, 'num_heads1': 6, 'num_heads2': 6, 'fc_out_channels': 32, 'learning_rate': 0.0028760025137366378}. Best is trial 34 with value: 0.05335596916737423.\n"
     ]
    },
    {
     "name": "stdout",
     "output_type": "stream",
     "text": [
      "Epochs: 9 | epoch avg. loss: 0.07 | validation avg. loss: 0.05\n",
      "Epochs: 0 | epoch avg. loss: 0.49 | validation avg. loss: 0.18\n",
      "Epochs: 1 | epoch avg. loss: 0.18 | validation avg. loss: 0.12\n",
      "Epochs: 2 | epoch avg. loss: 0.15 | validation avg. loss: 0.10\n",
      "Epochs: 3 | epoch avg. loss: 0.13 | validation avg. loss: 0.09\n",
      "Epochs: 4 | epoch avg. loss: 0.12 | validation avg. loss: 0.09\n",
      "Epochs: 5 | epoch avg. loss: 0.11 | validation avg. loss: 0.10\n",
      "Epochs: 6 | epoch avg. loss: 0.10 | validation avg. loss: 0.08\n",
      "Epochs: 7 | epoch avg. loss: 0.10 | validation avg. loss: 0.08\n",
      "Epochs: 8 | epoch avg. loss: 0.09 | validation avg. loss: 0.08\n"
     ]
    },
    {
     "name": "stderr",
     "output_type": "stream",
     "text": [
      "[I 2024-09-06 09:21:15,090] Trial 37 finished with value: 0.09834735252203214 and parameters: {'conv1_out_channels': 32, 'conv2_out_channels': 64, 'num_heads1': 6, 'num_heads2': 2, 'fc_out_channels': 64, 'learning_rate': 0.005270055066715575}. Best is trial 34 with value: 0.05335596916737423.\n"
     ]
    },
    {
     "name": "stdout",
     "output_type": "stream",
     "text": [
      "Epochs: 9 | epoch avg. loss: 0.09 | validation avg. loss: 0.10\n",
      "Epochs: 0 | epoch avg. loss: 0.50 | validation avg. loss: 0.13\n",
      "Epochs: 1 | epoch avg. loss: 0.18 | validation avg. loss: 0.16\n",
      "Epochs: 2 | epoch avg. loss: 0.13 | validation avg. loss: 0.11\n",
      "Epochs: 3 | epoch avg. loss: 0.11 | validation avg. loss: 0.09\n",
      "Epochs: 4 | epoch avg. loss: 0.10 | validation avg. loss: 0.14\n",
      "Epochs: 5 | epoch avg. loss: 0.09 | validation avg. loss: 0.08\n",
      "Epochs: 6 | epoch avg. loss: 0.09 | validation avg. loss: 0.07\n",
      "Epochs: 7 | epoch avg. loss: 0.09 | validation avg. loss: 0.11\n",
      "Epochs: 8 | epoch avg. loss: 0.08 | validation avg. loss: 0.08\n"
     ]
    },
    {
     "name": "stderr",
     "output_type": "stream",
     "text": [
      "[I 2024-09-06 09:27:02,009] Trial 38 finished with value: 0.067242218427585 and parameters: {'conv1_out_channels': 32, 'conv2_out_channels': 64, 'num_heads1': 6, 'num_heads2': 4, 'fc_out_channels': 64, 'learning_rate': 0.003775680168312114}. Best is trial 34 with value: 0.05335596916737423.\n"
     ]
    },
    {
     "name": "stdout",
     "output_type": "stream",
     "text": [
      "Epochs: 9 | epoch avg. loss: 0.08 | validation avg. loss: 0.07\n",
      "Epochs: 0 | epoch avg. loss: 0.47 | validation avg. loss: 0.17\n",
      "Epochs: 1 | epoch avg. loss: 0.18 | validation avg. loss: 0.18\n",
      "Epochs: 2 | epoch avg. loss: 0.14 | validation avg. loss: 0.09\n",
      "Epochs: 3 | epoch avg. loss: 0.12 | validation avg. loss: 0.08\n",
      "Epochs: 4 | epoch avg. loss: 0.11 | validation avg. loss: 0.07\n",
      "Epochs: 5 | epoch avg. loss: 0.10 | validation avg. loss: 0.07\n",
      "Epochs: 6 | epoch avg. loss: 0.09 | validation avg. loss: 0.09\n",
      "Epochs: 7 | epoch avg. loss: 0.09 | validation avg. loss: 0.07\n",
      "Epochs: 8 | epoch avg. loss: 0.09 | validation avg. loss: 0.07\n"
     ]
    },
    {
     "name": "stderr",
     "output_type": "stream",
     "text": [
      "[I 2024-09-06 09:32:52,426] Trial 39 finished with value: 0.0640337911022853 and parameters: {'conv1_out_channels': 64, 'conv2_out_channels': 64, 'num_heads1': 6, 'num_heads2': 6, 'fc_out_channels': 48, 'learning_rate': 0.006539139347245244}. Best is trial 34 with value: 0.05335596916737423.\n"
     ]
    },
    {
     "name": "stdout",
     "output_type": "stream",
     "text": [
      "Epochs: 9 | epoch avg. loss: 0.09 | validation avg. loss: 0.06\n",
      "Epochs: 0 | epoch avg. loss: 0.54 | validation avg. loss: 0.13\n",
      "Epochs: 1 | epoch avg. loss: 0.14 | validation avg. loss: 0.10\n",
      "Epochs: 2 | epoch avg. loss: 0.11 | validation avg. loss: 0.07\n",
      "Epochs: 3 | epoch avg. loss: 0.10 | validation avg. loss: 0.07\n",
      "Epochs: 4 | epoch avg. loss: 0.09 | validation avg. loss: 0.07\n",
      "Epochs: 5 | epoch avg. loss: 0.09 | validation avg. loss: 0.07\n",
      "Epochs: 6 | epoch avg. loss: 0.09 | validation avg. loss: 0.06\n",
      "Epochs: 7 | epoch avg. loss: 0.08 | validation avg. loss: 0.07\n",
      "Epochs: 8 | epoch avg. loss: 0.08 | validation avg. loss: 0.07\n"
     ]
    },
    {
     "name": "stderr",
     "output_type": "stream",
     "text": [
      "[I 2024-09-06 09:38:43,953] Trial 40 finished with value: 0.05908967614691186 and parameters: {'conv1_out_channels': 32, 'conv2_out_channels': 64, 'num_heads1': 6, 'num_heads2': 6, 'fc_out_channels': 32, 'learning_rate': 0.002612154978338361}. Best is trial 34 with value: 0.05335596916737423.\n"
     ]
    },
    {
     "name": "stdout",
     "output_type": "stream",
     "text": [
      "Epochs: 9 | epoch avg. loss: 0.08 | validation avg. loss: 0.06\n",
      "Epochs: 0 | epoch avg. loss: 0.65 | validation avg. loss: 0.14\n",
      "Epochs: 1 | epoch avg. loss: 0.16 | validation avg. loss: 0.10\n",
      "Epochs: 2 | epoch avg. loss: 0.12 | validation avg. loss: 0.12\n",
      "Epochs: 3 | epoch avg. loss: 0.10 | validation avg. loss: 0.07\n",
      "Epochs: 4 | epoch avg. loss: 0.09 | validation avg. loss: 0.07\n",
      "Epochs: 5 | epoch avg. loss: 0.09 | validation avg. loss: 0.17\n",
      "Epochs: 6 | epoch avg. loss: 0.08 | validation avg. loss: 0.07\n",
      "Epochs: 7 | epoch avg. loss: 0.08 | validation avg. loss: 0.07\n",
      "Epochs: 8 | epoch avg. loss: 0.08 | validation avg. loss: 0.09\n"
     ]
    },
    {
     "name": "stderr",
     "output_type": "stream",
     "text": [
      "[I 2024-09-06 09:44:33,449] Trial 41 finished with value: 0.05588077223759897 and parameters: {'conv1_out_channels': 32, 'conv2_out_channels': 64, 'num_heads1': 6, 'num_heads2': 6, 'fc_out_channels': 32, 'learning_rate': 0.002499568600999147}. Best is trial 34 with value: 0.05335596916737423.\n"
     ]
    },
    {
     "name": "stdout",
     "output_type": "stream",
     "text": [
      "Epochs: 9 | epoch avg. loss: 0.07 | validation avg. loss: 0.06\n",
      "Epochs: 0 | epoch avg. loss: 0.74 | validation avg. loss: 0.14\n",
      "Epochs: 1 | epoch avg. loss: 0.16 | validation avg. loss: 0.11\n",
      "Epochs: 2 | epoch avg. loss: 0.11 | validation avg. loss: 0.14\n",
      "Epochs: 3 | epoch avg. loss: 0.10 | validation avg. loss: 0.09\n",
      "Epochs: 4 | epoch avg. loss: 0.09 | validation avg. loss: 0.07\n",
      "Epochs: 5 | epoch avg. loss: 0.08 | validation avg. loss: 0.07\n",
      "Epochs: 6 | epoch avg. loss: 0.08 | validation avg. loss: 0.07\n",
      "Epochs: 7 | epoch avg. loss: 0.08 | validation avg. loss: 0.07\n",
      "Epochs: 8 | epoch avg. loss: 0.08 | validation avg. loss: 0.06\n"
     ]
    },
    {
     "name": "stderr",
     "output_type": "stream",
     "text": [
      "[I 2024-09-06 09:50:23,622] Trial 42 finished with value: 0.05672947095928733 and parameters: {'conv1_out_channels': 32, 'conv2_out_channels': 64, 'num_heads1': 6, 'num_heads2': 6, 'fc_out_channels': 32, 'learning_rate': 0.0014760867867393067}. Best is trial 34 with value: 0.05335596916737423.\n"
     ]
    },
    {
     "name": "stdout",
     "output_type": "stream",
     "text": [
      "Epochs: 9 | epoch avg. loss: 0.07 | validation avg. loss: 0.06\n",
      "Epochs: 0 | epoch avg. loss: 0.59 | validation avg. loss: 0.22\n",
      "Epochs: 1 | epoch avg. loss: 0.14 | validation avg. loss: 0.08\n",
      "Epochs: 2 | epoch avg. loss: 0.11 | validation avg. loss: 0.07\n",
      "Epochs: 3 | epoch avg. loss: 0.10 | validation avg. loss: 0.10\n",
      "Epochs: 4 | epoch avg. loss: 0.09 | validation avg. loss: 0.06\n",
      "Epochs: 5 | epoch avg. loss: 0.09 | validation avg. loss: 0.12\n",
      "Epochs: 6 | epoch avg. loss: 0.08 | validation avg. loss: 0.10\n",
      "Epochs: 7 | epoch avg. loss: 0.08 | validation avg. loss: 0.06\n",
      "Epochs: 8 | epoch avg. loss: 0.07 | validation avg. loss: 0.06\n"
     ]
    },
    {
     "name": "stderr",
     "output_type": "stream",
     "text": [
      "[I 2024-09-06 09:56:14,532] Trial 43 finished with value: 0.09911850048843904 and parameters: {'conv1_out_channels': 32, 'conv2_out_channels': 64, 'num_heads1': 6, 'num_heads2': 6, 'fc_out_channels': 16, 'learning_rate': 0.0023547921554463104}. Best is trial 34 with value: 0.05335596916737423.\n"
     ]
    },
    {
     "name": "stdout",
     "output_type": "stream",
     "text": [
      "Epochs: 9 | epoch avg. loss: 0.07 | validation avg. loss: 0.10\n",
      "Epochs: 0 | epoch avg. loss: 0.63 | validation avg. loss: 0.25\n",
      "Epochs: 1 | epoch avg. loss: 0.17 | validation avg. loss: 0.25\n",
      "Epochs: 2 | epoch avg. loss: 0.13 | validation avg. loss: 0.09\n",
      "Epochs: 3 | epoch avg. loss: 0.11 | validation avg. loss: 0.11\n",
      "Epochs: 4 | epoch avg. loss: 0.10 | validation avg. loss: 0.10\n",
      "Epochs: 5 | epoch avg. loss: 0.10 | validation avg. loss: 0.13\n",
      "Epochs: 6 | epoch avg. loss: 0.09 | validation avg. loss: 0.08\n",
      "Epochs: 7 | epoch avg. loss: 0.09 | validation avg. loss: 0.08\n",
      "Epochs: 8 | epoch avg. loss: 0.09 | validation avg. loss: 0.07\n"
     ]
    },
    {
     "name": "stderr",
     "output_type": "stream",
     "text": [
      "[I 2024-09-06 10:01:58,141] Trial 44 finished with value: 0.05846973663991689 and parameters: {'conv1_out_channels': 32, 'conv2_out_channels': 48, 'num_heads1': 4, 'num_heads2': 4, 'fc_out_channels': 32, 'learning_rate': 0.0031528895366631326}. Best is trial 34 with value: 0.05335596916737423.\n"
     ]
    },
    {
     "name": "stdout",
     "output_type": "stream",
     "text": [
      "Epochs: 9 | epoch avg. loss: 0.08 | validation avg. loss: 0.06\n",
      "Epochs: 0 | epoch avg. loss: 1.24 | validation avg. loss: 0.18\n",
      "Epochs: 1 | epoch avg. loss: 0.18 | validation avg. loss: 0.16\n",
      "Epochs: 2 | epoch avg. loss: 0.16 | validation avg. loss: 0.18\n",
      "Epochs: 3 | epoch avg. loss: 0.14 | validation avg. loss: 0.12\n",
      "Epochs: 4 | epoch avg. loss: 0.12 | validation avg. loss: 0.10\n",
      "Epochs: 5 | epoch avg. loss: 0.10 | validation avg. loss: 0.08\n",
      "Epochs: 6 | epoch avg. loss: 0.09 | validation avg. loss: 0.07\n",
      "Epochs: 7 | epoch avg. loss: 0.09 | validation avg. loss: 0.07\n",
      "Epochs: 8 | epoch avg. loss: 0.08 | validation avg. loss: 0.07\n"
     ]
    },
    {
     "name": "stderr",
     "output_type": "stream",
     "text": [
      "[I 2024-09-06 10:07:42,443] Trial 45 finished with value: 0.08711931438241768 and parameters: {'conv1_out_channels': 32, 'conv2_out_channels': 32, 'num_heads1': 6, 'num_heads2': 6, 'fc_out_channels': 32, 'learning_rate': 0.0006684836856729246}. Best is trial 34 with value: 0.05335596916737423.\n"
     ]
    },
    {
     "name": "stdout",
     "output_type": "stream",
     "text": [
      "Epochs: 9 | epoch avg. loss: 0.08 | validation avg. loss: 0.09\n",
      "Epochs: 0 | epoch avg. loss: 0.55 | validation avg. loss: 0.16\n",
      "Epochs: 1 | epoch avg. loss: 0.17 | validation avg. loss: 0.11\n",
      "Epochs: 2 | epoch avg. loss: 0.13 | validation avg. loss: 0.13\n",
      "Epochs: 3 | epoch avg. loss: 0.10 | validation avg. loss: 0.07\n",
      "Epochs: 4 | epoch avg. loss: 0.09 | validation avg. loss: 0.10\n",
      "Epochs: 5 | epoch avg. loss: 0.08 | validation avg. loss: 0.05\n",
      "Epochs: 6 | epoch avg. loss: 0.08 | validation avg. loss: 0.10\n",
      "Epochs: 7 | epoch avg. loss: 0.07 | validation avg. loss: 0.07\n",
      "Epochs: 8 | epoch avg. loss: 0.07 | validation avg. loss: 0.07\n"
     ]
    },
    {
     "name": "stderr",
     "output_type": "stream",
     "text": [
      "[I 2024-09-06 10:13:33,485] Trial 46 finished with value: 0.06077296311104026 and parameters: {'conv1_out_channels': 32, 'conv2_out_channels': 64, 'num_heads1': 8, 'num_heads2': 8, 'fc_out_channels': 48, 'learning_rate': 0.00197545995569481}. Best is trial 34 with value: 0.05335596916737423.\n"
     ]
    },
    {
     "name": "stdout",
     "output_type": "stream",
     "text": [
      "Epochs: 9 | epoch avg. loss: 0.07 | validation avg. loss: 0.06\n",
      "Epochs: 0 | epoch avg. loss: 0.40 | validation avg. loss: 0.17\n",
      "Epochs: 1 | epoch avg. loss: 0.14 | validation avg. loss: 0.10\n",
      "Epochs: 2 | epoch avg. loss: 0.13 | validation avg. loss: 0.10\n",
      "Epochs: 3 | epoch avg. loss: 0.11 | validation avg. loss: 0.09\n",
      "Epochs: 4 | epoch avg. loss: 0.13 | validation avg. loss: 0.10\n",
      "Epochs: 5 | epoch avg. loss: 0.12 | validation avg. loss: 0.13\n",
      "Epochs: 6 | epoch avg. loss: 0.11 | validation avg. loss: 0.09\n",
      "Epochs: 7 | epoch avg. loss: 0.11 | validation avg. loss: 0.10\n",
      "Epochs: 8 | epoch avg. loss: 0.10 | validation avg. loss: 0.08\n"
     ]
    },
    {
     "name": "stderr",
     "output_type": "stream",
     "text": [
      "[I 2024-09-06 10:19:22,933] Trial 47 finished with value: 0.07649138321364513 and parameters: {'conv1_out_channels': 64, 'conv2_out_channels': 48, 'num_heads1': 4, 'num_heads2': 8, 'fc_out_channels': 16, 'learning_rate': 0.006582243257086266}. Best is trial 34 with value: 0.05335596916737423.\n"
     ]
    },
    {
     "name": "stdout",
     "output_type": "stream",
     "text": [
      "Epochs: 9 | epoch avg. loss: 0.10 | validation avg. loss: 0.08\n",
      "Epochs: 0 | epoch avg. loss: 1.29 | validation avg. loss: 0.16\n",
      "Epochs: 1 | epoch avg. loss: 0.16 | validation avg. loss: 0.14\n",
      "Epochs: 2 | epoch avg. loss: 0.13 | validation avg. loss: 0.11\n",
      "Epochs: 3 | epoch avg. loss: 0.12 | validation avg. loss: 0.10\n",
      "Epochs: 4 | epoch avg. loss: 0.11 | validation avg. loss: 0.08\n",
      "Epochs: 5 | epoch avg. loss: 0.10 | validation avg. loss: 0.11\n",
      "Epochs: 6 | epoch avg. loss: 0.09 | validation avg. loss: 0.07\n",
      "Epochs: 7 | epoch avg. loss: 0.09 | validation avg. loss: 0.09\n",
      "Epochs: 8 | epoch avg. loss: 0.08 | validation avg. loss: 0.11\n"
     ]
    },
    {
     "name": "stderr",
     "output_type": "stream",
     "text": [
      "[I 2024-09-06 10:25:06,924] Trial 48 finished with value: 0.08882424698434216 and parameters: {'conv1_out_channels': 16, 'conv2_out_channels': 16, 'num_heads1': 6, 'num_heads2': 4, 'fc_out_channels': 32, 'learning_rate': 0.001215730582435034}. Best is trial 34 with value: 0.05335596916737423.\n"
     ]
    },
    {
     "name": "stdout",
     "output_type": "stream",
     "text": [
      "Epochs: 9 | epoch avg. loss: 0.08 | validation avg. loss: 0.09\n",
      "Epochs: 0 | epoch avg. loss: 0.69 | validation avg. loss: 0.17\n",
      "Epochs: 1 | epoch avg. loss: 0.16 | validation avg. loss: 0.11\n",
      "Epochs: 2 | epoch avg. loss: 0.12 | validation avg. loss: 0.11\n",
      "Epochs: 3 | epoch avg. loss: 0.10 | validation avg. loss: 0.09\n",
      "Epochs: 4 | epoch avg. loss: 0.09 | validation avg. loss: 0.08\n",
      "Epochs: 5 | epoch avg. loss: 0.09 | validation avg. loss: 0.07\n",
      "Epochs: 6 | epoch avg. loss: 0.08 | validation avg. loss: 0.12\n",
      "Epochs: 7 | epoch avg. loss: 0.08 | validation avg. loss: 0.08\n",
      "Epochs: 8 | epoch avg. loss: 0.08 | validation avg. loss: 0.07\n"
     ]
    },
    {
     "name": "stderr",
     "output_type": "stream",
     "text": [
      "[I 2024-09-06 10:30:57,021] Trial 49 finished with value: 0.07672597931952657 and parameters: {'conv1_out_channels': 48, 'conv2_out_channels': 32, 'num_heads1': 6, 'num_heads2': 6, 'fc_out_channels': 64, 'learning_rate': 0.0010676385857653647}. Best is trial 34 with value: 0.05335596916737423.\n"
     ]
    },
    {
     "name": "stdout",
     "output_type": "stream",
     "text": [
      "Epochs: 9 | epoch avg. loss: 0.08 | validation avg. loss: 0.08\n",
      "Best trial:\n",
      "  Value: 0.05335596916737423\n",
      "  Params: \n",
      "    conv1_out_channels: 32\n",
      "    conv2_out_channels: 64\n",
      "    num_heads1: 6\n",
      "    num_heads2: 4\n",
      "    fc_out_channels: 64\n",
      "    learning_rate: 0.0012290853037013434\n"
     ]
    },
    {
     "name": "stderr",
     "output_type": "stream",
     "text": [
      "/tmp/ipykernel_23/2145068945.py:102: ExperimentalWarning: plot_optimization_history is experimental (supported from v2.2.0). The interface can change in the future.\n",
      "  optuna.visualization.matplotlib.plot_optimization_history(study)\n"
     ]
    },
    {
     "data": {
      "image/png": "[encoded data removed]",
      "text/plain": [
       "<Figure size 640x480 with 1 Axes>"
      ]
     },
     "metadata": {},
     "output_type": "display_data"
    },
    {
     "name": "stderr",
     "output_type": "stream",
     "text": [
      "/tmp/ipykernel_23/2145068945.py:106: ExperimentalWarning: plot_param_importances is experimental (supported from v2.2.0). The interface can change in the future.\n",
      "  optuna.visualization.matplotlib.plot_param_importances(study)\n"
     ]
    },
    {
     "data": {
      "image/png": "[encoded data removed]",
      "text/plain": [
       "<Figure size 640x480 with 1 Axes>"
      ]
     },
     "metadata": {},
     "output_type": "display_data"
    }
   ],
   "source": [
    "import sys\n",
    "import matplotlib.pyplot as plt\n",
    "import numpy as np\n",
    "import torch\n",
    "import torch.nn as nn\n",
    "import torch.nn.functional as F\n",
    "import optuna\n",
    "from torch.utils.data import random_split\n",
    "from torch_geometric.datasets import QM9\n",
    "from torch_geometric.loader import DataLoader\n",
    "from torch_geometric.nn import GATConv, global_add_pool\n",
    "\n",
    "# 1. 加载 QM9 数据集\n",
    "dset = QM9('.')\n",
    "train_set, valid_set, test_set = random_split(dset, [110000, 10831, 10000])\n",
    "trainloader = DataLoader(train_set, batch_size=32, shuffle=True)\n",
    "validloader = DataLoader(valid_set, batch_size=32, shuffle=True)\n",
    "testloader = DataLoader(test_set, batch_size=32, shuffle=True)\n",
    "qm9_node_feats, qm9_edge_feats = 11, 4\n",
    "target_idx = 1  # index position of the polarizability label\n",
    "device = torch.device(\"cuda:0\" if torch.cuda.is_available() else \"cpu\")\n",
    "\n",
    "# 2. 定义目标函数，用于 Optuna 的超参数搜索\n",
    "def objective(trial):\n",
    "    # 定义超参数的搜索空间\n",
    "    conv1_out_channels = trial.suggest_int(\"conv1_out_channels\", 16, 64, step=16)\n",
    "    conv2_out_channels = trial.suggest_int(\"conv2_out_channels\", 16, 64, step=16)\n",
    "    num_heads1 = trial.suggest_int(\"num_heads1\", 2, 8, step=2)  # 第一层GAT的头数\n",
    "    num_heads2 = trial.suggest_int(\"num_heads2\", 2, 8, step=2)  # 第二层GAT的头数\n",
    "    fc_out_channels = trial.suggest_int(\"fc_out_channels\", 16, 64, step=16)\n",
    "    learning_rate = trial.suggest_loguniform(\"learning_rate\", 1e-4, 1e-2)\n",
    "    epochs = 10\n",
    "\n",
    "    # 定义 GAT 模型\n",
    "    class GATNet(nn.Module):\n",
    "        def __init__(self, num_node_features):\n",
    "            super().__init__()\n",
    "            self.conv1 = GATConv(num_node_features, conv1_out_channels, heads=num_heads1)  # 第一层 GAT\n",
    "            self.conv2 = GATConv(conv1_out_channels * num_heads1, conv2_out_channels, heads=num_heads2)  # 第二层 GAT\n",
    "            self.fc_1 = nn.Linear(conv2_out_channels * num_heads2, fc_out_channels)\n",
    "            self.out = nn.Linear(fc_out_channels, 1)\n",
    "\n",
    "        def forward(self, data):\n",
    "            batch, x, edge_index = data.batch, data.x, data.edge_index\n",
    "            x = F.relu(self.conv1(x, edge_index))\n",
    "            x = F.relu(self.conv2(x, edge_index))\n",
    "            x = global_add_pool(x, batch)\n",
    "            x = F.relu(self.fc_1(x))\n",
    "            output = self.out(x)\n",
    "            return output\n",
    "\n",
    "    # 创建模型实例并定义优化器\n",
    "    net = GATNet(qm9_node_feats).to(device)\n",
    "    optimizer = torch.optim.Adam(net.parameters(), lr=learning_rate)\n",
    "\n",
    "    # 训练和验证\n",
    "    for epoch in range(epochs):\n",
    "        net.train()\n",
    "        epoch_loss = 0\n",
    "        total_graphs = 0\n",
    "        for batch in trainloader:\n",
    "            batch.to(device)\n",
    "            optimizer.zero_grad()\n",
    "            output = net(batch)\n",
    "            loss = F.mse_loss(output, batch.y[:, target_idx].unsqueeze(1))\n",
    "            loss.backward()\n",
    "            optimizer.step()\n",
    "            epoch_loss += loss.item()\n",
    "            total_graphs += batch.num_graphs\n",
    "        train_avg_loss = epoch_loss / total_graphs\n",
    "\n",
    "        net.eval()\n",
    "        val_loss = 0\n",
    "        total_graphs = 0\n",
    "        with torch.no_grad():\n",
    "            for batch in validloader:\n",
    "                batch.to(device)\n",
    "                output = net(batch)\n",
    "                loss = F.mse_loss(output, batch.y[:, target_idx].unsqueeze(1))\n",
    "                val_loss += loss.item()\n",
    "                total_graphs += batch.num_graphs\n",
    "        # 计算验证集的平均损失\n",
    "        val_avg_loss = val_loss / total_graphs\n",
    "        \n",
    "        print(f\"Epochs: {epoch} | epoch avg. loss: {train_avg_loss:.2f} | validation avg. loss: {val_avg_loss:.2f}\")\n",
    "    \n",
    "    return val_avg_loss  # Optuna 将最小化这个值\n",
    "\n",
    "# 3. 创建并运行 Optuna 的优化器\n",
    "study = optuna.create_study(direction=\"minimize\")\n",
    "study.optimize(objective, n_trials=50)\n",
    "\n",
    "# 4. 输出最优参数\n",
    "print(\"Best trial:\")\n",
    "trial = study.best_trial\n",
    "print(f\"  Value: {trial.value}\")\n",
    "print(\"  Params: \")\n",
    "for key, value in trial.params.items():\n",
    "    print(f\"    {key}: {value}\")\n",
    "\n",
    "# 绘制优化历史\n",
    "optuna.visualization.matplotlib.plot_optimization_history(study)\n",
    "plt.show()\n",
    "\n",
    "# 绘制超参数的重要性\n",
    "optuna.visualization.matplotlib.plot_param_importances(study)\n",
    "plt.show()\n"
   ]
  },
  {
   "cell_type": "code",
   "execution_count": null,
   "id": "4199b407-ab56-411c-9015-dcb70e0719e2",
   "metadata": {},
   "outputs": [],
   "source": [
    "class GATLayer(nn.Module):\n",
    "    def __init__(self, input_feature, output_feature, dropout, alpha, concat=True):\n",
    "        super(GATLayer, self).__init__()\n",
    "        self.input_feature = input_feature  # 输入节点特征维度\n",
    "        self.output_feature = output_feature  # 输出节点特征维度\n",
    "        self.alpha = alpha  # LeakyReLU 的负斜率\n",
    "        self.dropout = dropout  # Dropout 的比例\n",
    "        self.concat = concat  # 是否在输出时连接所有多头的注意力表示\n",
    "        \n",
    "        # 定义注意力机制的可训练参数\n",
    "        self.a = nn.Parameter(torch.empty(size=(2 * output_feature, 1)))  # 用于计算注意力系数\n",
    "        self.w = nn.Parameter(torch.empty(size=(input_feature, output_feature)))  # 用于线性变换的权重\n",
    "        \n",
    "        # 使用 LeakyReLU 作为激活函数\n",
    "        self.leakyrelu = nn.LeakyReLU(self.alpha)\n",
    "        \n",
    "        # 初始化参数\n",
    "        self.reset_parameters()\n",
    "\n",
    "    def reset_parameters(self):\n",
    "        \"\"\"初始化权重参数，使用 xavier_uniform_ 初始化方式\"\"\"\n",
    "        nn.init.xavier_uniform_(self.w.data, gain=1.414)\n",
    "        nn.init.xavier_uniform_(self.a.data, gain=1.414)\n",
    "\n",
    "    def forward(self, h, adj):\n",
    "        \"\"\"\n",
    "        输入:\n",
    "        - h: 节点特征矩阵 (N, input_feature)，N 是节点数\n",
    "        - adj: 邻接矩阵 (N, N)，表明节点之间的连接关系\n",
    "        \n",
    "        输出:\n",
    "        - h_prime: 更新后的节点特征 (N, output_feature)\n",
    "        \"\"\"\n",
    "        Wh = torch.mm(h, self.w)  # 线性变换: W*h -> (N, output_feature)\n",
    "        e = self._prepare_attentional_mechanism_input(Wh)  # 计算注意力机制中的 e_ij (N, N)\n",
    "        \n",
    "        # 设置非邻居节点的权重为一个很小的负值（用于 softmax 的屏蔽）\n",
    "        zero_vec = -9e15 * torch.ones_like(e)\n",
    "        attention = torch.where(adj > 0, e, zero_vec)  # 对邻居节点保留 e_ij，非邻居设置为一个极小值\n",
    "        \n",
    "        attention = F.softmax(attention, dim=1)  # 对每个节点的邻居节点的权重做 softmax\n",
    "        attention = F.dropout(attention, self.dropout, training=self.training)  # 对注意力权重进行 Dropout\n",
    "        \n",
    "        # 更新节点特征: 计算新的节点特征 h' = sum_j(alpha_ij * W h_j)\n",
    "        h_prime = torch.mm(attention, Wh)\n",
    "        \n",
    "        if self.concat:\n",
    "            return F.elu(h_prime)  # 使用 ELU 激活函数\n",
    "        else:\n",
    "            return h_prime  # 返回未经过激活的值\n",
    "\n",
    "    def _prepare_attentional_mechanism_input(self, Wh):\n",
    "        \"\"\"\n",
    "        计算注意力系数 e_ij。这里是 GAT 中的重要部分，计算每个节点之间的相关性。\n",
    "        \n",
    "        输入:\n",
    "        - Wh: 经过线性变换后的节点特征 (N, output_feature)\n",
    "        \n",
    "        输出:\n",
    "        - e: 节点之间的注意力分数 (N, N)\n",
    "        \"\"\"\n",
    "        Wh1 = torch.matmul(Wh, self.a[:self.output_feature, :])  # (N, output_feature) @ (output_feature, 1) -> (N, 1)\n",
    "        Wh2 = torch.matmul(Wh, self.a[self.output_feature:, :])  # 计算 a_j 对应的特征表示\n",
    "        \n",
    "        e = Wh1 + Wh2.T  # 对每对 (i, j) 的节点计算 e_ij\n",
    "        return self.leakyrelu(e)  # 通过 LeakyReLU 激活函数处理\n",
    "\n",
    "\n",
    "class GAT(nn.Module):\n",
    "    def __init__(self, input_size, hidden_size, output_size, dropout, alpha, nheads, concat=True):\n",
    "        super(GAT, self).__init__()\n",
    "        self.dropout = dropout\n",
    "        # 多头注意力机制：多层 GATLayer\n",
    "        self.attention = [GATLayer(input_size, hidden_size, dropout=dropout, alpha=alpha, concat=True) for _ in range(nheads)]\n",
    "        for i, attention in enumerate(self.attention):\n",
    "            self.add_module('attention_{}'.format(i), attention)  # 动态注册注意力头\n",
    "        \n",
    "        # 输出层：处理所有注意力头的输出，生成最终的预测\n",
    "        self.out_att = GATLayer(hidden_size * nheads, output_size, dropout=dropout, alpha=alpha, concat=False)\n",
    "    \n",
    "    def forward(self, x, adj):\n",
    "        x = F.dropout(x, self.dropout, training=self.training)  # 对输入特征进行 Dropout\n",
    "        x = torch.cat([att(x, adj) for att in self.attention], dim=1)  # 将每个注意力头的输出拼接在一起\n",
    "        x = F.dropout(x, self.dropout, training=self.training)  # 再次进行 Dropout\n",
    "        x = F.elu(self.out_att(x, adj))  # 通过输出层计算最终输出\n",
    "        \n",
    "        return F.log_softmax(x, dim=1)  # 使用 LogSoftmax 输出类别概率\n"
   ]
  }
 ],
 "metadata": {
  "kaggle": {
   "accelerator": "nvidiaTeslaT4",
   "dataSources": [
    {
     "datasetId": 1640734,
     "sourceId": 7876159,
     "sourceType": "datasetVersion"
    }
   ],
   "isGpuEnabled": true,
   "isInternetEnabled": true,
   "language": "python",
   "sourceType": "notebook"
  },
  "kernelspec": {
   "display_name": "Python 3 (ipykernel)",
   "language": "python",
   "name": "python3"
  },
  "language_info": {
   "codemirror_mode": {
    "name": "ipython",
    "version": 3
   },
   "file_extension": ".py",
   "mimetype": "text/x-python",
   "name": "python",
   "nbconvert_exporter": "python",
   "pygments_lexer": "ipython3",
   "version": "3.11.7"
  },
  "papermill": {
   "default_parameters": {},
   "duration": 17524.650121,
   "end_time": "2024-09-06T10:31:03.498810",
   "environment_variables": {},
   "exception": null,
   "input_path": "__notebook__.ipynb",
   "output_path": "__notebook__.ipynb",
   "parameters": {},
   "start_time": "2024-09-06T05:38:58.848689",
   "version": "2.6.0"
  }
 },
 "nbformat": 4,
 "nbformat_minor": 5
}
