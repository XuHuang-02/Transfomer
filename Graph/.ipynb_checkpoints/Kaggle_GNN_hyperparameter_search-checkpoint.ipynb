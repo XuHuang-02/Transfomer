{
 "cells": [
  {
   "cell_type": "code",
   "execution_count": 1,
   "id": "3be2b2ef",
   "metadata": {
    "execution": {
     "iopub.execute_input": "2024-09-05T03:11:33.588262Z",
     "iopub.status.busy": "2024-09-05T03:11:33.587579Z",
     "iopub.status.idle": "2024-09-05T03:11:48.789459Z",
     "shell.execute_reply": "2024-09-05T03:11:48.788386Z"
    },
    "papermill": {
     "duration": 15.207582,
     "end_time": "2024-09-05T03:11:48.791772",
     "exception": false,
     "start_time": "2024-09-05T03:11:33.584190",
     "status": "completed"
    },
    "tags": []
   },
   "outputs": [
    {
     "name": "stdout",
     "output_type": "stream",
     "text": [
      "Collecting torch_geometric\r\n",
      "  Downloading torch_geometric-2.5.3-py3-none-any.whl.metadata (64 kB)\r\n",
      "\u001b[2K     \u001b[90m━━━━━━━━━━━━━━━━━━━━━━━━━━━━━━━━━━━━━━━\u001b[0m \u001b[32m64.2/64.2 kB\u001b[0m \u001b[31m737.1 kB/s\u001b[0m eta \u001b[36m0:00:00\u001b[0m\r\n",
      "\u001b[?25hRequirement already satisfied: tqdm in /opt/conda/lib/python3.10/site-packages (from torch_geometric) (4.66.4)\r\n",
      "Requirement already satisfied: numpy in /opt/conda/lib/python3.10/site-packages (from torch_geometric) (1.26.4)\r\n",
      "Requirement already satisfied: scipy in /opt/conda/lib/python3.10/site-packages (from torch_geometric) (1.14.0)\r\n",
      "Requirement already satisfied: fsspec in /opt/conda/lib/python3.10/site-packages (from torch_geometric) (2024.6.1)\r\n",
      "Requirement already satisfied: jinja2 in /opt/conda/lib/python3.10/site-packages (from torch_geometric) (3.1.4)\r\n",
      "Requirement already satisfied: aiohttp in /opt/conda/lib/python3.10/site-packages (from torch_geometric) (3.9.5)\r\n",
      "Requirement already satisfied: requests in /opt/conda/lib/python3.10/site-packages (from torch_geometric) (2.32.3)\r\n",
      "Requirement already satisfied: pyparsing in /opt/conda/lib/python3.10/site-packages (from torch_geometric) (3.1.2)\r\n",
      "Requirement already satisfied: scikit-learn in /opt/conda/lib/python3.10/site-packages (from torch_geometric) (1.2.2)\r\n",
      "Requirement already satisfied: psutil>=5.8.0 in /opt/conda/lib/python3.10/site-packages (from torch_geometric) (5.9.3)\r\n",
      "Requirement already satisfied: aiosignal>=1.1.2 in /opt/conda/lib/python3.10/site-packages (from aiohttp->torch_geometric) (1.3.1)\r\n",
      "Requirement already satisfied: attrs>=17.3.0 in /opt/conda/lib/python3.10/site-packages (from aiohttp->torch_geometric) (23.2.0)\r\n",
      "Requirement already satisfied: frozenlist>=1.1.1 in /opt/conda/lib/python3.10/site-packages (from aiohttp->torch_geometric) (1.4.1)\r\n",
      "Requirement already satisfied: multidict<7.0,>=4.5 in /opt/conda/lib/python3.10/site-packages (from aiohttp->torch_geometric) (6.0.5)\r\n",
      "Requirement already satisfied: yarl<2.0,>=1.0 in /opt/conda/lib/python3.10/site-packages (from aiohttp->torch_geometric) (1.9.4)\r\n",
      "Requirement already satisfied: async-timeout<5.0,>=4.0 in /opt/conda/lib/python3.10/site-packages (from aiohttp->torch_geometric) (4.0.3)\r\n",
      "Requirement already satisfied: MarkupSafe>=2.0 in /opt/conda/lib/python3.10/site-packages (from jinja2->torch_geometric) (2.1.5)\r\n",
      "Requirement already satisfied: charset-normalizer<4,>=2 in /opt/conda/lib/python3.10/site-packages (from requests->torch_geometric) (3.3.2)\r\n",
      "Requirement already satisfied: idna<4,>=2.5 in /opt/conda/lib/python3.10/site-packages (from requests->torch_geometric) (3.7)\r\n",
      "Requirement already satisfied: urllib3<3,>=1.21.1 in /opt/conda/lib/python3.10/site-packages (from requests->torch_geometric) (1.26.18)\r\n",
      "Requirement already satisfied: certifi>=2017.4.17 in /opt/conda/lib/python3.10/site-packages (from requests->torch_geometric) (2024.7.4)\r\n",
      "Requirement already satisfied: joblib>=1.1.1 in /opt/conda/lib/python3.10/site-packages (from scikit-learn->torch_geometric) (1.4.2)\r\n",
      "Requirement already satisfied: threadpoolctl>=2.0.0 in /opt/conda/lib/python3.10/site-packages (from scikit-learn->torch_geometric) (3.5.0)\r\n",
      "Downloading torch_geometric-2.5.3-py3-none-any.whl (1.1 MB)\r\n",
      "\u001b[2K   \u001b[90m━━━━━━━━━━━━━━━━━━━━━━━━━━━━━━━━━━━━━━━━\u001b[0m \u001b[32m1.1/1.1 MB\u001b[0m \u001b[31m7.3 MB/s\u001b[0m eta \u001b[36m0:00:00\u001b[0m\r\n",
      "\u001b[?25hInstalling collected packages: torch_geometric\r\n",
      "Successfully installed torch_geometric-2.5.3\r\n"
     ]
    }
   ],
   "source": [
    "! pip install torch_geometric"
   ]
  },
  {
   "cell_type": "code",
   "execution_count": 2,
   "id": "dabaa221",
   "metadata": {
    "_cell_guid": "b1076dfc-b9ad-4769-8c92-a6c4dae69d19",
    "_uuid": "8f2839f25d086af736a60e9eeb907d3b93b6e0e5",
    "execution": {
     "iopub.execute_input": "2024-09-05T03:11:48.799738Z",
     "iopub.status.busy": "2024-09-05T03:11:48.799349Z",
     "iopub.status.idle": "2024-09-05T05:38:06.563141Z",
     "shell.execute_reply": "2024-09-05T05:38:06.562210Z"
    },
    "papermill": {
     "duration": 8777.770138,
     "end_time": "2024-09-05T05:38:06.565308",
     "exception": false,
     "start_time": "2024-09-05T03:11:48.795170",
     "status": "completed"
    },
    "tags": []
   },
   "outputs": [
    {
     "name": "stderr",
     "output_type": "stream",
     "text": [
      "Downloading https://data.pyg.org/datasets/qm9_v3.zip\n",
      "Extracting ./raw/qm9_v3.zip\n",
      "Processing...\n",
      "Using a pre-processed version of the dataset. Please install 'rdkit' to alternatively process the raw data.\n",
      "/opt/conda/lib/python3.10/site-packages/torch_geometric/datasets/qm9.py:215: FutureWarning: You are using `torch.load` with `weights_only=False` (the current default value), which uses the default pickle module implicitly. It is possible to construct malicious pickle data which will execute arbitrary code during unpickling (See https://github.com/pytorch/pytorch/blob/main/SECURITY.md#untrusted-models for more details). In a future release, the default value for `weights_only` will be flipped to `True`. This limits the functions that could be executed during unpickling. Arbitrary objects will no longer be allowed to be loaded via this mode unless they are explicitly allowlisted by the user via `torch.serialization.add_safe_globals`. We recommend you start setting `weights_only=True` for any use case where you don't have full control of the loaded file. Please open an issue on GitHub for any issues related to this experimental feature.\n",
      "  data_list = torch.load(self.raw_paths[0])\n",
      "Done!\n",
      "/opt/conda/lib/python3.10/site-packages/torch_geometric/io/fs.py:215: FutureWarning: You are using `torch.load` with `weights_only=False` (the current default value), which uses the default pickle module implicitly. It is possible to construct malicious pickle data which will execute arbitrary code during unpickling (See https://github.com/pytorch/pytorch/blob/main/SECURITY.md#untrusted-models for more details). In a future release, the default value for `weights_only` will be flipped to `True`. This limits the functions that could be executed during unpickling. Arbitrary objects will no longer be allowed to be loaded via this mode unless they are explicitly allowlisted by the user via `torch.serialization.add_safe_globals`. We recommend you start setting `weights_only=True` for any use case where you don't have full control of the loaded file. Please open an issue on GitHub for any issues related to this experimental feature.\n",
      "  return torch.load(f, map_location)\n",
      "[I 2024-09-05 03:12:28,555] A new study created in memory with name: no-name-c8324cec-2c6e-45c5-b800-cf7c23a94f26\n",
      "/tmp/ipykernel_23/850782831.py:27: FutureWarning: suggest_loguniform has been deprecated in v3.0.0. This feature will be removed in v6.0.0. See https://github.com/optuna/optuna/releases/tag/v3.0.0. Use suggest_float(..., log=True) instead.\n",
      "  learning_rate = trial.suggest_loguniform(\"learning_rate\", 1e-4, 1e-2)\n"
     ]
    },
    {
     "name": "stdout",
     "output_type": "stream",
     "text": [
      "Epochs: 0 | epoch avg. loss: 0.40 | validation avg. loss: 0.16\n",
      "Epochs: 1 | epoch avg. loss: 0.12 | validation avg. loss: 0.19\n",
      "Epochs: 2 | epoch avg. loss: 0.09 | validation avg. loss: 0.12\n",
      "Epochs: 3 | epoch avg. loss: 0.08 | validation avg. loss: 0.12\n",
      "Epochs: 4 | epoch avg. loss: 0.07 | validation avg. loss: 0.12\n"
     ]
    },
    {
     "name": "stderr",
     "output_type": "stream",
     "text": [
      "[I 2024-09-05 03:15:50,762] Trial 0 finished with value: 0.11036734113886068 and parameters: {'conv1_out_channels': 48, 'conv2_out_channels': 48, 'fc_out_channels': 64, 'learning_rate': 0.007383430922731041}. Best is trial 0 with value: 0.11036734113886068.\n"
     ]
    },
    {
     "name": "stdout",
     "output_type": "stream",
     "text": [
      "Epochs: 5 | epoch avg. loss: 0.07 | validation avg. loss: 0.11\n",
      "Epochs: 0 | epoch avg. loss: 0.29 | validation avg. loss: 0.12\n",
      "Epochs: 1 | epoch avg. loss: 0.11 | validation avg. loss: 0.11\n",
      "Epochs: 2 | epoch avg. loss: 0.08 | validation avg. loss: 0.11\n",
      "Epochs: 3 | epoch avg. loss: 0.07 | validation avg. loss: 0.10\n",
      "Epochs: 4 | epoch avg. loss: 0.06 | validation avg. loss: 0.12\n"
     ]
    },
    {
     "name": "stderr",
     "output_type": "stream",
     "text": [
      "[I 2024-09-05 03:18:49,222] Trial 1 finished with value: 0.08202896997787959 and parameters: {'conv1_out_channels': 64, 'conv2_out_channels': 64, 'fc_out_channels': 16, 'learning_rate': 0.004996491825665173}. Best is trial 1 with value: 0.08202896997787959.\n"
     ]
    },
    {
     "name": "stdout",
     "output_type": "stream",
     "text": [
      "Epochs: 5 | epoch avg. loss: 0.06 | validation avg. loss: 0.08\n",
      "Epochs: 0 | epoch avg. loss: 0.58 | validation avg. loss: 0.21\n",
      "Epochs: 1 | epoch avg. loss: 0.12 | validation avg. loss: 0.11\n",
      "Epochs: 2 | epoch avg. loss: 0.09 | validation avg. loss: 0.12\n",
      "Epochs: 3 | epoch avg. loss: 0.08 | validation avg. loss: 0.13\n",
      "Epochs: 4 | epoch avg. loss: 0.07 | validation avg. loss: 0.09\n"
     ]
    },
    {
     "name": "stderr",
     "output_type": "stream",
     "text": [
      "[I 2024-09-05 03:21:41,880] Trial 2 finished with value: 0.10803833771980256 and parameters: {'conv1_out_channels': 16, 'conv2_out_channels': 16, 'fc_out_channels': 32, 'learning_rate': 0.004101062107058979}. Best is trial 1 with value: 0.08202896997787959.\n"
     ]
    },
    {
     "name": "stdout",
     "output_type": "stream",
     "text": [
      "Epochs: 5 | epoch avg. loss: 0.06 | validation avg. loss: 0.11\n",
      "Epochs: 0 | epoch avg. loss: 1.81 | validation avg. loss: 0.17\n",
      "Epochs: 1 | epoch avg. loss: 0.10 | validation avg. loss: 0.17\n",
      "Epochs: 2 | epoch avg. loss: 0.08 | validation avg. loss: 0.13\n",
      "Epochs: 3 | epoch avg. loss: 0.07 | validation avg. loss: 0.12\n",
      "Epochs: 4 | epoch avg. loss: 0.07 | validation avg. loss: 0.11\n"
     ]
    },
    {
     "name": "stderr",
     "output_type": "stream",
     "text": [
      "[I 2024-09-05 03:24:39,001] Trial 3 finished with value: 0.09293376654317731 and parameters: {'conv1_out_channels': 64, 'conv2_out_channels': 64, 'fc_out_channels': 48, 'learning_rate': 0.0001413691274734011}. Best is trial 1 with value: 0.08202896997787959.\n"
     ]
    },
    {
     "name": "stdout",
     "output_type": "stream",
     "text": [
      "Epochs: 5 | epoch avg. loss: 0.06 | validation avg. loss: 0.09\n",
      "Epochs: 0 | epoch avg. loss: 0.33 | validation avg. loss: 0.14\n",
      "Epochs: 1 | epoch avg. loss: 0.12 | validation avg. loss: 0.16\n",
      "Epochs: 2 | epoch avg. loss: 0.09 | validation avg. loss: 0.12\n",
      "Epochs: 3 | epoch avg. loss: 0.07 | validation avg. loss: 0.12\n",
      "Epochs: 4 | epoch avg. loss: 0.06 | validation avg. loss: 0.08\n"
     ]
    },
    {
     "name": "stderr",
     "output_type": "stream",
     "text": [
      "[I 2024-09-05 03:27:33,488] Trial 4 finished with value: 0.07651223760267097 and parameters: {'conv1_out_channels': 48, 'conv2_out_channels': 32, 'fc_out_channels': 64, 'learning_rate': 0.002148097944113359}. Best is trial 4 with value: 0.07651223760267097.\n"
     ]
    },
    {
     "name": "stdout",
     "output_type": "stream",
     "text": [
      "Epochs: 5 | epoch avg. loss: 0.05 | validation avg. loss: 0.08\n",
      "Epochs: 0 | epoch avg. loss: 0.45 | validation avg. loss: 0.14\n",
      "Epochs: 1 | epoch avg. loss: 0.11 | validation avg. loss: 0.16\n",
      "Epochs: 2 | epoch avg. loss: 0.09 | validation avg. loss: 0.10\n",
      "Epochs: 3 | epoch avg. loss: 0.08 | validation avg. loss: 0.10\n",
      "Epochs: 4 | epoch avg. loss: 0.07 | validation avg. loss: 0.10\n"
     ]
    },
    {
     "name": "stderr",
     "output_type": "stream",
     "text": [
      "[I 2024-09-05 03:30:25,704] Trial 5 finished with value: 0.09210472100439873 and parameters: {'conv1_out_channels': 16, 'conv2_out_channels': 32, 'fc_out_channels': 48, 'learning_rate': 0.005409668074838112}. Best is trial 4 with value: 0.07651223760267097.\n"
     ]
    },
    {
     "name": "stdout",
     "output_type": "stream",
     "text": [
      "Epochs: 5 | epoch avg. loss: 0.07 | validation avg. loss: 0.09\n",
      "Epochs: 0 | epoch avg. loss: 0.43 | validation avg. loss: 0.16\n",
      "Epochs: 1 | epoch avg. loss: 0.14 | validation avg. loss: 0.12\n",
      "Epochs: 2 | epoch avg. loss: 0.09 | validation avg. loss: 0.10\n",
      "Epochs: 3 | epoch avg. loss: 0.08 | validation avg. loss: 0.09\n",
      "Epochs: 4 | epoch avg. loss: 0.08 | validation avg. loss: 0.09\n"
     ]
    },
    {
     "name": "stderr",
     "output_type": "stream",
     "text": [
      "[I 2024-09-05 03:33:22,746] Trial 6 finished with value: 0.08760074249882083 and parameters: {'conv1_out_channels': 64, 'conv2_out_channels': 64, 'fc_out_channels': 48, 'learning_rate': 0.00706194288810331}. Best is trial 4 with value: 0.07651223760267097.\n"
     ]
    },
    {
     "name": "stdout",
     "output_type": "stream",
     "text": [
      "Epochs: 5 | epoch avg. loss: 0.07 | validation avg. loss: 0.09\n",
      "Epochs: 0 | epoch avg. loss: 0.30 | validation avg. loss: 0.31\n",
      "Epochs: 1 | epoch avg. loss: 0.12 | validation avg. loss: 0.14\n",
      "Epochs: 2 | epoch avg. loss: 0.10 | validation avg. loss: 0.10\n",
      "Epochs: 3 | epoch avg. loss: 0.08 | validation avg. loss: 0.10\n",
      "Epochs: 4 | epoch avg. loss: 0.06 | validation avg. loss: 0.10\n"
     ]
    },
    {
     "name": "stderr",
     "output_type": "stream",
     "text": [
      "[I 2024-09-05 03:36:15,504] Trial 7 finished with value: 0.14730060695996522 and parameters: {'conv1_out_channels': 32, 'conv2_out_channels': 32, 'fc_out_channels': 32, 'learning_rate': 0.0019477454705586704}. Best is trial 4 with value: 0.07651223760267097.\n"
     ]
    },
    {
     "name": "stdout",
     "output_type": "stream",
     "text": [
      "Epochs: 5 | epoch avg. loss: 0.06 | validation avg. loss: 0.15\n",
      "Epochs: 0 | epoch avg. loss: 0.41 | validation avg. loss: 0.18\n",
      "Epochs: 1 | epoch avg. loss: 0.12 | validation avg. loss: 0.11\n",
      "Epochs: 2 | epoch avg. loss: 0.09 | validation avg. loss: 0.14\n",
      "Epochs: 3 | epoch avg. loss: 0.08 | validation avg. loss: 0.09\n",
      "Epochs: 4 | epoch avg. loss: 0.07 | validation avg. loss: 0.09\n"
     ]
    },
    {
     "name": "stderr",
     "output_type": "stream",
     "text": [
      "[I 2024-09-05 03:39:11,422] Trial 8 finished with value: 0.09155705032691148 and parameters: {'conv1_out_channels': 64, 'conv2_out_channels': 48, 'fc_out_channels': 32, 'learning_rate': 0.008943194083765725}. Best is trial 4 with value: 0.07651223760267097.\n"
     ]
    },
    {
     "name": "stdout",
     "output_type": "stream",
     "text": [
      "Epochs: 5 | epoch avg. loss: 0.06 | validation avg. loss: 0.09\n",
      "Epochs: 0 | epoch avg. loss: 0.40 | validation avg. loss: 0.17\n",
      "Epochs: 1 | epoch avg. loss: 0.10 | validation avg. loss: 0.14\n",
      "Epochs: 2 | epoch avg. loss: 0.07 | validation avg. loss: 0.12\n",
      "Epochs: 3 | epoch avg. loss: 0.06 | validation avg. loss: 0.09\n",
      "Epochs: 4 | epoch avg. loss: 0.06 | validation avg. loss: 0.09\n"
     ]
    },
    {
     "name": "stderr",
     "output_type": "stream",
     "text": [
      "[I 2024-09-05 03:42:07,182] Trial 9 finished with value: 0.07531010803010983 and parameters: {'conv1_out_channels': 48, 'conv2_out_channels': 64, 'fc_out_channels': 32, 'learning_rate': 0.0011245519631273523}. Best is trial 9 with value: 0.07531010803010983.\n"
     ]
    },
    {
     "name": "stdout",
     "output_type": "stream",
     "text": [
      "Epochs: 5 | epoch avg. loss: 0.05 | validation avg. loss: 0.08\n",
      "Epochs: 0 | epoch avg. loss: 0.74 | validation avg. loss: 0.16\n",
      "Epochs: 1 | epoch avg. loss: 0.11 | validation avg. loss: 0.15\n",
      "Epochs: 2 | epoch avg. loss: 0.08 | validation avg. loss: 0.11\n",
      "Epochs: 3 | epoch avg. loss: 0.07 | validation avg. loss: 0.10\n",
      "Epochs: 4 | epoch avg. loss: 0.07 | validation avg. loss: 0.12\n"
     ]
    },
    {
     "name": "stderr",
     "output_type": "stream",
     "text": [
      "[I 2024-09-05 03:45:01,227] Trial 10 finished with value: 0.09905618470182447 and parameters: {'conv1_out_channels': 32, 'conv2_out_channels': 48, 'fc_out_channels': 16, 'learning_rate': 0.00040613271421939204}. Best is trial 9 with value: 0.07531010803010983.\n"
     ]
    },
    {
     "name": "stdout",
     "output_type": "stream",
     "text": [
      "Epochs: 5 | epoch avg. loss: 0.06 | validation avg. loss: 0.10\n",
      "Epochs: 0 | epoch avg. loss: 0.21 | validation avg. loss: 0.14\n",
      "Epochs: 1 | epoch avg. loss: 0.09 | validation avg. loss: 0.10\n",
      "Epochs: 2 | epoch avg. loss: 0.07 | validation avg. loss: 0.11\n",
      "Epochs: 3 | epoch avg. loss: 0.06 | validation avg. loss: 0.09\n",
      "Epochs: 4 | epoch avg. loss: 0.06 | validation avg. loss: 0.12\n"
     ]
    },
    {
     "name": "stderr",
     "output_type": "stream",
     "text": [
      "[I 2024-09-05 03:47:52,951] Trial 11 finished with value: 0.08165464454845822 and parameters: {'conv1_out_channels': 48, 'conv2_out_channels': 16, 'fc_out_channels': 64, 'learning_rate': 0.0010605730396722973}. Best is trial 9 with value: 0.07531010803010983.\n"
     ]
    },
    {
     "name": "stdout",
     "output_type": "stream",
     "text": [
      "Epochs: 5 | epoch avg. loss: 0.05 | validation avg. loss: 0.08\n",
      "Epochs: 0 | epoch avg. loss: 0.26 | validation avg. loss: 0.22\n",
      "Epochs: 1 | epoch avg. loss: 0.10 | validation avg. loss: 0.10\n",
      "Epochs: 2 | epoch avg. loss: 0.08 | validation avg. loss: 0.10\n",
      "Epochs: 3 | epoch avg. loss: 0.07 | validation avg. loss: 0.09\n",
      "Epochs: 4 | epoch avg. loss: 0.06 | validation avg. loss: 0.10\n"
     ]
    },
    {
     "name": "stderr",
     "output_type": "stream",
     "text": [
      "[I 2024-09-05 03:50:46,720] Trial 12 finished with value: 0.08174862805281019 and parameters: {'conv1_out_channels': 48, 'conv2_out_channels': 32, 'fc_out_channels': 64, 'learning_rate': 0.0016655638020571862}. Best is trial 9 with value: 0.07531010803010983.\n"
     ]
    },
    {
     "name": "stdout",
     "output_type": "stream",
     "text": [
      "Epochs: 5 | epoch avg. loss: 0.05 | validation avg. loss: 0.08\n",
      "Epochs: 0 | epoch avg. loss: 0.82 | validation avg. loss: 0.14\n",
      "Epochs: 1 | epoch avg. loss: 0.10 | validation avg. loss: 0.16\n",
      "Epochs: 2 | epoch avg. loss: 0.08 | validation avg. loss: 0.11\n",
      "Epochs: 3 | epoch avg. loss: 0.07 | validation avg. loss: 0.11\n",
      "Epochs: 4 | epoch avg. loss: 0.06 | validation avg. loss: 0.10\n"
     ]
    },
    {
     "name": "stderr",
     "output_type": "stream",
     "text": [
      "[I 2024-09-05 03:53:38,624] Trial 13 finished with value: 0.08386555513002988 and parameters: {'conv1_out_channels': 32, 'conv2_out_channels': 32, 'fc_out_channels': 32, 'learning_rate': 0.00048467827736361807}. Best is trial 9 with value: 0.07531010803010983.\n"
     ]
    },
    {
     "name": "stdout",
     "output_type": "stream",
     "text": [
      "Epochs: 5 | epoch avg. loss: 0.06 | validation avg. loss: 0.08\n",
      "Epochs: 0 | epoch avg. loss: 0.32 | validation avg. loss: 0.15\n",
      "Epochs: 1 | epoch avg. loss: 0.10 | validation avg. loss: 0.11\n",
      "Epochs: 2 | epoch avg. loss: 0.09 | validation avg. loss: 0.15\n",
      "Epochs: 3 | epoch avg. loss: 0.07 | validation avg. loss: 0.11\n",
      "Epochs: 4 | epoch avg. loss: 0.07 | validation avg. loss: 0.11\n"
     ]
    },
    {
     "name": "stderr",
     "output_type": "stream",
     "text": [
      "[I 2024-09-05 03:56:33,649] Trial 14 finished with value: 0.08228588583022314 and parameters: {'conv1_out_channels': 48, 'conv2_out_channels': 48, 'fc_out_channels': 48, 'learning_rate': 0.0023978163348719124}. Best is trial 9 with value: 0.07531010803010983.\n"
     ]
    },
    {
     "name": "stdout",
     "output_type": "stream",
     "text": [
      "Epochs: 5 | epoch avg. loss: 0.06 | validation avg. loss: 0.08\n",
      "Epochs: 0 | epoch avg. loss: 1.26 | validation avg. loss: 0.24\n",
      "Epochs: 1 | epoch avg. loss: 0.13 | validation avg. loss: 0.19\n",
      "Epochs: 2 | epoch avg. loss: 0.10 | validation avg. loss: 0.16\n",
      "Epochs: 3 | epoch avg. loss: 0.09 | validation avg. loss: 0.12\n",
      "Epochs: 4 | epoch avg. loss: 0.08 | validation avg. loss: 0.12\n"
     ]
    },
    {
     "name": "stderr",
     "output_type": "stream",
     "text": [
      "[I 2024-09-05 03:59:25,119] Trial 15 finished with value: 0.10766326092295717 and parameters: {'conv1_out_channels': 48, 'conv2_out_channels': 16, 'fc_out_channels': 16, 'learning_rate': 0.0005953832764318274}. Best is trial 9 with value: 0.07531010803010983.\n"
     ]
    },
    {
     "name": "stdout",
     "output_type": "stream",
     "text": [
      "Epochs: 5 | epoch avg. loss: 0.08 | validation avg. loss: 0.11\n",
      "Epochs: 0 | epoch avg. loss: 0.19 | validation avg. loss: 0.20\n",
      "Epochs: 1 | epoch avg. loss: 0.10 | validation avg. loss: 0.13\n",
      "Epochs: 2 | epoch avg. loss: 0.08 | validation avg. loss: 0.13\n",
      "Epochs: 3 | epoch avg. loss: 0.07 | validation avg. loss: 0.11\n",
      "Epochs: 4 | epoch avg. loss: 0.06 | validation avg. loss: 0.09\n"
     ]
    },
    {
     "name": "stderr",
     "output_type": "stream",
     "text": [
      "[I 2024-09-05 04:02:20,356] Trial 16 finished with value: 0.11119282615447834 and parameters: {'conv1_out_channels': 32, 'conv2_out_channels': 64, 'fc_out_channels': 64, 'learning_rate': 0.0009843179595631407}. Best is trial 9 with value: 0.07531010803010983.\n"
     ]
    },
    {
     "name": "stdout",
     "output_type": "stream",
     "text": [
      "Epochs: 5 | epoch avg. loss: 0.06 | validation avg. loss: 0.11\n",
      "Epochs: 0 | epoch avg. loss: 0.52 | validation avg. loss: 0.22\n",
      "Epochs: 1 | epoch avg. loss: 0.10 | validation avg. loss: 0.12\n",
      "Epochs: 2 | epoch avg. loss: 0.08 | validation avg. loss: 0.11\n",
      "Epochs: 3 | epoch avg. loss: 0.08 | validation avg. loss: 0.10\n",
      "Epochs: 4 | epoch avg. loss: 0.07 | validation avg. loss: 0.10\n"
     ]
    },
    {
     "name": "stderr",
     "output_type": "stream",
     "text": [
      "[I 2024-09-05 04:05:15,159] Trial 17 finished with value: 0.11285090370528664 and parameters: {'conv1_out_channels': 48, 'conv2_out_channels': 48, 'fc_out_channels': 48, 'learning_rate': 0.0002367077339921734}. Best is trial 9 with value: 0.07531010803010983.\n"
     ]
    },
    {
     "name": "stdout",
     "output_type": "stream",
     "text": [
      "Epochs: 5 | epoch avg. loss: 0.07 | validation avg. loss: 0.11\n",
      "Epochs: 0 | epoch avg. loss: 0.38 | validation avg. loss: 0.23\n",
      "Epochs: 1 | epoch avg. loss: 0.12 | validation avg. loss: 0.12\n",
      "Epochs: 2 | epoch avg. loss: 0.09 | validation avg. loss: 0.09\n",
      "Epochs: 3 | epoch avg. loss: 0.07 | validation avg. loss: 0.10\n",
      "Epochs: 4 | epoch avg. loss: 0.06 | validation avg. loss: 0.08\n"
     ]
    },
    {
     "name": "stderr",
     "output_type": "stream",
     "text": [
      "[I 2024-09-05 04:08:06,613] Trial 18 finished with value: 0.08871045443679518 and parameters: {'conv1_out_channels': 32, 'conv2_out_channels': 32, 'fc_out_channels': 32, 'learning_rate': 0.0031235190004374825}. Best is trial 9 with value: 0.07531010803010983.\n"
     ]
    },
    {
     "name": "stdout",
     "output_type": "stream",
     "text": [
      "Epochs: 5 | epoch avg. loss: 0.06 | validation avg. loss: 0.09\n",
      "Epochs: 0 | epoch avg. loss: 0.44 | validation avg. loss: 0.18\n",
      "Epochs: 1 | epoch avg. loss: 0.12 | validation avg. loss: 0.13\n",
      "Epochs: 2 | epoch avg. loss: 0.10 | validation avg. loss: 0.22\n",
      "Epochs: 3 | epoch avg. loss: 0.08 | validation avg. loss: 0.10\n",
      "Epochs: 4 | epoch avg. loss: 0.07 | validation avg. loss: 0.10\n"
     ]
    },
    {
     "name": "stderr",
     "output_type": "stream",
     "text": [
      "[I 2024-09-05 04:10:58,834] Trial 19 finished with value: 0.19125792540162018 and parameters: {'conv1_out_channels': 64, 'conv2_out_channels': 16, 'fc_out_channels': 16, 'learning_rate': 0.0011495162782760577}. Best is trial 9 with value: 0.07531010803010983.\n"
     ]
    },
    {
     "name": "stdout",
     "output_type": "stream",
     "text": [
      "Epochs: 5 | epoch avg. loss: 0.07 | validation avg. loss: 0.19\n",
      "Epochs: 0 | epoch avg. loss: 0.71 | validation avg. loss: 0.13\n",
      "Epochs: 1 | epoch avg. loss: 0.09 | validation avg. loss: 0.10\n",
      "Epochs: 2 | epoch avg. loss: 0.07 | validation avg. loss: 0.09\n",
      "Epochs: 3 | epoch avg. loss: 0.06 | validation avg. loss: 0.14\n",
      "Epochs: 4 | epoch avg. loss: 0.06 | validation avg. loss: 0.12\n"
     ]
    },
    {
     "name": "stderr",
     "output_type": "stream",
     "text": [
      "[I 2024-09-05 04:13:55,236] Trial 20 finished with value: 0.09107617903323663 and parameters: {'conv1_out_channels': 48, 'conv2_out_channels': 64, 'fc_out_channels': 64, 'learning_rate': 0.0007211054757730316}. Best is trial 9 with value: 0.07531010803010983.\n"
     ]
    },
    {
     "name": "stdout",
     "output_type": "stream",
     "text": [
      "Epochs: 5 | epoch avg. loss: 0.05 | validation avg. loss: 0.09\n",
      "Epochs: 0 | epoch avg. loss: 0.47 | validation avg. loss: 0.15\n",
      "Epochs: 1 | epoch avg. loss: 0.12 | validation avg. loss: 0.17\n",
      "Epochs: 2 | epoch avg. loss: 0.09 | validation avg. loss: 0.11\n",
      "Epochs: 3 | epoch avg. loss: 0.08 | validation avg. loss: 0.11\n",
      "Epochs: 4 | epoch avg. loss: 0.07 | validation avg. loss: 0.20\n"
     ]
    },
    {
     "name": "stderr",
     "output_type": "stream",
     "text": [
      "[I 2024-09-05 04:16:46,679] Trial 21 finished with value: 0.09793292803619501 and parameters: {'conv1_out_channels': 48, 'conv2_out_channels': 16, 'fc_out_channels': 64, 'learning_rate': 0.0011026293254074958}. Best is trial 9 with value: 0.07531010803010983.\n"
     ]
    },
    {
     "name": "stdout",
     "output_type": "stream",
     "text": [
      "Epochs: 5 | epoch avg. loss: 0.06 | validation avg. loss: 0.10\n",
      "Epochs: 0 | epoch avg. loss: 0.41 | validation avg. loss: 0.16\n",
      "Epochs: 1 | epoch avg. loss: 0.11 | validation avg. loss: 0.19\n",
      "Epochs: 2 | epoch avg. loss: 0.09 | validation avg. loss: 0.11\n",
      "Epochs: 3 | epoch avg. loss: 0.08 | validation avg. loss: 0.13\n",
      "Epochs: 4 | epoch avg. loss: 0.07 | validation avg. loss: 0.18\n"
     ]
    },
    {
     "name": "stderr",
     "output_type": "stream",
     "text": [
      "[I 2024-09-05 04:19:37,171] Trial 22 finished with value: 0.10506297233152913 and parameters: {'conv1_out_channels': 48, 'conv2_out_channels': 16, 'fc_out_channels': 64, 'learning_rate': 0.0015879022002441197}. Best is trial 9 with value: 0.07531010803010983.\n"
     ]
    },
    {
     "name": "stdout",
     "output_type": "stream",
     "text": [
      "Epochs: 5 | epoch avg. loss: 0.06 | validation avg. loss: 0.11\n",
      "Epochs: 0 | epoch avg. loss: 0.91 | validation avg. loss: 0.14\n",
      "Epochs: 1 | epoch avg. loss: 0.10 | validation avg. loss: 0.12\n",
      "Epochs: 2 | epoch avg. loss: 0.08 | validation avg. loss: 0.15\n",
      "Epochs: 3 | epoch avg. loss: 0.07 | validation avg. loss: 0.13\n",
      "Epochs: 4 | epoch avg. loss: 0.07 | validation avg. loss: 0.10\n"
     ]
    },
    {
     "name": "stderr",
     "output_type": "stream",
     "text": [
      "[I 2024-09-05 04:22:30,413] Trial 23 finished with value: 0.14061402913529328 and parameters: {'conv1_out_channels': 48, 'conv2_out_channels': 32, 'fc_out_channels': 48, 'learning_rate': 0.00031005466156947583}. Best is trial 9 with value: 0.07531010803010983.\n"
     ]
    },
    {
     "name": "stdout",
     "output_type": "stream",
     "text": [
      "Epochs: 5 | epoch avg. loss: 0.06 | validation avg. loss: 0.14\n",
      "Epochs: 0 | epoch avg. loss: 0.53 | validation avg. loss: 0.16\n",
      "Epochs: 1 | epoch avg. loss: 0.10 | validation avg. loss: 0.15\n",
      "Epochs: 2 | epoch avg. loss: 0.09 | validation avg. loss: 0.12\n",
      "Epochs: 3 | epoch avg. loss: 0.08 | validation avg. loss: 0.10\n",
      "Epochs: 4 | epoch avg. loss: 0.07 | validation avg. loss: 0.09\n"
     ]
    },
    {
     "name": "stderr",
     "output_type": "stream",
     "text": [
      "[I 2024-09-05 04:25:21,082] Trial 24 finished with value: 0.09393878113407914 and parameters: {'conv1_out_channels': 32, 'conv2_out_channels': 16, 'fc_out_channels': 64, 'learning_rate': 0.0008795831054422096}. Best is trial 9 with value: 0.07531010803010983.\n"
     ]
    },
    {
     "name": "stdout",
     "output_type": "stream",
     "text": [
      "Epochs: 5 | epoch avg. loss: 0.06 | validation avg. loss: 0.09\n",
      "Epochs: 0 | epoch avg. loss: 0.51 | validation avg. loss: 0.16\n",
      "Epochs: 1 | epoch avg. loss: 0.12 | validation avg. loss: 0.13\n",
      "Epochs: 2 | epoch avg. loss: 0.09 | validation avg. loss: 0.13\n",
      "Epochs: 3 | epoch avg. loss: 0.08 | validation avg. loss: 0.15\n",
      "Epochs: 4 | epoch avg. loss: 0.07 | validation avg. loss: 0.09\n"
     ]
    },
    {
     "name": "stderr",
     "output_type": "stream",
     "text": [
      "[I 2024-09-05 04:28:14,713] Trial 25 finished with value: 0.15937567825914364 and parameters: {'conv1_out_channels': 48, 'conv2_out_channels': 32, 'fc_out_channels': 48, 'learning_rate': 0.0027951024784862145}. Best is trial 9 with value: 0.07531010803010983.\n"
     ]
    },
    {
     "name": "stdout",
     "output_type": "stream",
     "text": [
      "Epochs: 5 | epoch avg. loss: 0.06 | validation avg. loss: 0.16\n",
      "Epochs: 0 | epoch avg. loss: 0.24 | validation avg. loss: 0.16\n",
      "Epochs: 1 | epoch avg. loss: 0.10 | validation avg. loss: 0.11\n",
      "Epochs: 2 | epoch avg. loss: 0.08 | validation avg. loss: 0.11\n",
      "Epochs: 3 | epoch avg. loss: 0.06 | validation avg. loss: 0.08\n",
      "Epochs: 4 | epoch avg. loss: 0.05 | validation avg. loss: 0.09\n"
     ]
    },
    {
     "name": "stderr",
     "output_type": "stream",
     "text": [
      "[I 2024-09-05 04:31:10,411] Trial 26 finished with value: 0.07092127000324702 and parameters: {'conv1_out_channels': 64, 'conv2_out_channels': 48, 'fc_out_channels': 32, 'learning_rate': 0.0017282095473439127}. Best is trial 26 with value: 0.07092127000324702.\n"
     ]
    },
    {
     "name": "stdout",
     "output_type": "stream",
     "text": [
      "Epochs: 5 | epoch avg. loss: 0.05 | validation avg. loss: 0.07\n",
      "Epochs: 0 | epoch avg. loss: 0.26 | validation avg. loss: 0.12\n",
      "Epochs: 1 | epoch avg. loss: 0.09 | validation avg. loss: 0.10\n",
      "Epochs: 2 | epoch avg. loss: 0.07 | validation avg. loss: 0.09\n",
      "Epochs: 3 | epoch avg. loss: 0.06 | validation avg. loss: 0.08\n",
      "Epochs: 4 | epoch avg. loss: 0.05 | validation avg. loss: 0.10\n"
     ]
    },
    {
     "name": "stderr",
     "output_type": "stream",
     "text": [
      "[I 2024-09-05 04:34:06,920] Trial 27 finished with value: 0.07583606521868219 and parameters: {'conv1_out_channels': 64, 'conv2_out_channels': 48, 'fc_out_channels': 32, 'learning_rate': 0.0015058731160310633}. Best is trial 26 with value: 0.07092127000324702.\n"
     ]
    },
    {
     "name": "stdout",
     "output_type": "stream",
     "text": [
      "Epochs: 5 | epoch avg. loss: 0.05 | validation avg. loss: 0.08\n",
      "Epochs: 0 | epoch avg. loss: 0.53 | validation avg. loss: 0.20\n",
      "Epochs: 1 | epoch avg. loss: 0.11 | validation avg. loss: 0.12\n",
      "Epochs: 2 | epoch avg. loss: 0.08 | validation avg. loss: 0.11\n",
      "Epochs: 3 | epoch avg. loss: 0.07 | validation avg. loss: 0.10\n",
      "Epochs: 4 | epoch avg. loss: 0.06 | validation avg. loss: 0.13\n"
     ]
    },
    {
     "name": "stderr",
     "output_type": "stream",
     "text": [
      "[I 2024-09-05 04:37:01,893] Trial 28 finished with value: 0.07731759311001384 and parameters: {'conv1_out_channels': 64, 'conv2_out_channels': 48, 'fc_out_channels': 32, 'learning_rate': 0.0015472255335445162}. Best is trial 26 with value: 0.07092127000324702.\n"
     ]
    },
    {
     "name": "stdout",
     "output_type": "stream",
     "text": [
      "Epochs: 5 | epoch avg. loss: 0.05 | validation avg. loss: 0.08\n",
      "Epochs: 0 | epoch avg. loss: 0.28 | validation avg. loss: 0.12\n",
      "Epochs: 1 | epoch avg. loss: 0.10 | validation avg. loss: 0.13\n",
      "Epochs: 2 | epoch avg. loss: 0.08 | validation avg. loss: 0.11\n",
      "Epochs: 3 | epoch avg. loss: 0.07 | validation avg. loss: 0.11\n",
      "Epochs: 4 | epoch avg. loss: 0.06 | validation avg. loss: 0.09\n"
     ]
    },
    {
     "name": "stderr",
     "output_type": "stream",
     "text": [
      "[I 2024-09-05 04:39:56,149] Trial 29 finished with value: 0.08818393827926506 and parameters: {'conv1_out_channels': 64, 'conv2_out_channels': 48, 'fc_out_channels': 32, 'learning_rate': 0.003411104354035847}. Best is trial 26 with value: 0.07092127000324702.\n"
     ]
    },
    {
     "name": "stdout",
     "output_type": "stream",
     "text": [
      "Epochs: 5 | epoch avg. loss: 0.06 | validation avg. loss: 0.09\n",
      "Epochs: 0 | epoch avg. loss: 0.45 | validation avg. loss: 0.20\n",
      "Epochs: 1 | epoch avg. loss: 0.09 | validation avg. loss: 0.10\n",
      "Epochs: 2 | epoch avg. loss: 0.08 | validation avg. loss: 0.09\n",
      "Epochs: 3 | epoch avg. loss: 0.07 | validation avg. loss: 0.09\n",
      "Epochs: 4 | epoch avg. loss: 0.06 | validation avg. loss: 0.09\n"
     ]
    },
    {
     "name": "stderr",
     "output_type": "stream",
     "text": [
      "[I 2024-09-05 04:42:52,434] Trial 30 finished with value: 0.07688919339590748 and parameters: {'conv1_out_channels': 64, 'conv2_out_channels': 64, 'fc_out_channels': 32, 'learning_rate': 0.0006714510230313949}. Best is trial 26 with value: 0.07092127000324702.\n"
     ]
    },
    {
     "name": "stdout",
     "output_type": "stream",
     "text": [
      "Epochs: 5 | epoch avg. loss: 0.05 | validation avg. loss: 0.08\n",
      "Epochs: 0 | epoch avg. loss: 0.22 | validation avg. loss: 0.19\n",
      "Epochs: 1 | epoch avg. loss: 0.09 | validation avg. loss: 0.09\n",
      "Epochs: 2 | epoch avg. loss: 0.07 | validation avg. loss: 0.20\n",
      "Epochs: 3 | epoch avg. loss: 0.06 | validation avg. loss: 0.09\n",
      "Epochs: 4 | epoch avg. loss: 0.05 | validation avg. loss: 0.08\n"
     ]
    },
    {
     "name": "stderr",
     "output_type": "stream",
     "text": [
      "[I 2024-09-05 04:45:46,752] Trial 31 finished with value: 0.07340783581059238 and parameters: {'conv1_out_channels': 64, 'conv2_out_channels': 48, 'fc_out_channels': 32, 'learning_rate': 0.002131060253147684}. Best is trial 26 with value: 0.07092127000324702.\n"
     ]
    },
    {
     "name": "stdout",
     "output_type": "stream",
     "text": [
      "Epochs: 5 | epoch avg. loss: 0.05 | validation avg. loss: 0.07\n",
      "Epochs: 0 | epoch avg. loss: 0.37 | validation avg. loss: 0.20\n",
      "Epochs: 1 | epoch avg. loss: 0.10 | validation avg. loss: 0.10\n",
      "Epochs: 2 | epoch avg. loss: 0.08 | validation avg. loss: 0.10\n",
      "Epochs: 3 | epoch avg. loss: 0.07 | validation avg. loss: 0.09\n",
      "Epochs: 4 | epoch avg. loss: 0.06 | validation avg. loss: 0.10\n"
     ]
    },
    {
     "name": "stderr",
     "output_type": "stream",
     "text": [
      "[I 2024-09-05 04:48:41,665] Trial 32 finished with value: 0.07813493131369548 and parameters: {'conv1_out_channels': 64, 'conv2_out_channels': 48, 'fc_out_channels': 32, 'learning_rate': 0.0014381825975715945}. Best is trial 26 with value: 0.07092127000324702.\n"
     ]
    },
    {
     "name": "stdout",
     "output_type": "stream",
     "text": [
      "Epochs: 5 | epoch avg. loss: 0.05 | validation avg. loss: 0.08\n",
      "Epochs: 0 | epoch avg. loss: 0.29 | validation avg. loss: 0.15\n",
      "Epochs: 1 | epoch avg. loss: 0.11 | validation avg. loss: 0.14\n",
      "Epochs: 2 | epoch avg. loss: 0.09 | validation avg. loss: 0.11\n",
      "Epochs: 3 | epoch avg. loss: 0.07 | validation avg. loss: 0.14\n",
      "Epochs: 4 | epoch avg. loss: 0.06 | validation avg. loss: 0.10\n"
     ]
    },
    {
     "name": "stderr",
     "output_type": "stream",
     "text": [
      "[I 2024-09-05 04:51:36,769] Trial 33 finished with value: 0.07893464388295715 and parameters: {'conv1_out_channels': 64, 'conv2_out_channels': 48, 'fc_out_channels': 16, 'learning_rate': 0.004470495254119131}. Best is trial 26 with value: 0.07092127000324702.\n"
     ]
    },
    {
     "name": "stdout",
     "output_type": "stream",
     "text": [
      "Epochs: 5 | epoch avg. loss: 0.06 | validation avg. loss: 0.08\n",
      "Epochs: 0 | epoch avg. loss: 0.25 | validation avg. loss: 0.12\n",
      "Epochs: 1 | epoch avg. loss: 0.09 | validation avg. loss: 0.10\n",
      "Epochs: 2 | epoch avg. loss: 0.07 | validation avg. loss: 0.12\n",
      "Epochs: 3 | epoch avg. loss: 0.07 | validation avg. loss: 0.09\n",
      "Epochs: 4 | epoch avg. loss: 0.06 | validation avg. loss: 0.10\n"
     ]
    },
    {
     "name": "stderr",
     "output_type": "stream",
     "text": [
      "[I 2024-09-05 04:54:31,677] Trial 34 finished with value: 0.09379385161208331 and parameters: {'conv1_out_channels': 64, 'conv2_out_channels': 48, 'fc_out_channels': 32, 'learning_rate': 0.0024860872620114877}. Best is trial 26 with value: 0.07092127000324702.\n"
     ]
    },
    {
     "name": "stdout",
     "output_type": "stream",
     "text": [
      "Epochs: 5 | epoch avg. loss: 0.05 | validation avg. loss: 0.09\n",
      "Epochs: 0 | epoch avg. loss: 0.38 | validation avg. loss: 0.30\n",
      "Epochs: 1 | epoch avg. loss: 0.09 | validation avg. loss: 0.10\n",
      "Epochs: 2 | epoch avg. loss: 0.07 | validation avg. loss: 0.13\n",
      "Epochs: 3 | epoch avg. loss: 0.06 | validation avg. loss: 0.10\n",
      "Epochs: 4 | epoch avg. loss: 0.05 | validation avg. loss: 0.08\n"
     ]
    },
    {
     "name": "stderr",
     "output_type": "stream",
     "text": [
      "[I 2024-09-05 04:57:27,941] Trial 35 finished with value: 0.09025250963420267 and parameters: {'conv1_out_channels': 64, 'conv2_out_channels': 64, 'fc_out_channels': 32, 'learning_rate': 0.0013189732659292586}. Best is trial 26 with value: 0.07092127000324702.\n"
     ]
    },
    {
     "name": "stdout",
     "output_type": "stream",
     "text": [
      "Epochs: 5 | epoch avg. loss: 0.05 | validation avg. loss: 0.09\n",
      "Epochs: 0 | epoch avg. loss: 0.32 | validation avg. loss: 0.13\n",
      "Epochs: 1 | epoch avg. loss: 0.10 | validation avg. loss: 0.19\n",
      "Epochs: 2 | epoch avg. loss: 0.08 | validation avg. loss: 0.09\n",
      "Epochs: 3 | epoch avg. loss: 0.07 | validation avg. loss: 0.12\n",
      "Epochs: 4 | epoch avg. loss: 0.06 | validation avg. loss: 0.14\n"
     ]
    },
    {
     "name": "stderr",
     "output_type": "stream",
     "text": [
      "[I 2024-09-05 05:00:23,446] Trial 36 finished with value: 0.08277439567017188 and parameters: {'conv1_out_channels': 64, 'conv2_out_channels': 64, 'fc_out_channels': 16, 'learning_rate': 0.0019626112927948005}. Best is trial 26 with value: 0.07092127000324702.\n"
     ]
    },
    {
     "name": "stdout",
     "output_type": "stream",
     "text": [
      "Epochs: 5 | epoch avg. loss: 0.05 | validation avg. loss: 0.08\n",
      "Epochs: 0 | epoch avg. loss: 3.35 | validation avg. loss: 0.20\n",
      "Epochs: 1 | epoch avg. loss: 0.13 | validation avg. loss: 0.15\n",
      "Epochs: 2 | epoch avg. loss: 0.10 | validation avg. loss: 0.13\n",
      "Epochs: 3 | epoch avg. loss: 0.08 | validation avg. loss: 0.13\n",
      "Epochs: 4 | epoch avg. loss: 0.08 | validation avg. loss: 0.11\n"
     ]
    },
    {
     "name": "stderr",
     "output_type": "stream",
     "text": [
      "[I 2024-09-05 05:03:13,730] Trial 37 finished with value: 0.10741908484114558 and parameters: {'conv1_out_channels': 16, 'conv2_out_channels': 48, 'fc_out_channels': 32, 'learning_rate': 0.00012258590063682207}. Best is trial 26 with value: 0.07092127000324702.\n"
     ]
    },
    {
     "name": "stdout",
     "output_type": "stream",
     "text": [
      "Epochs: 5 | epoch avg. loss: 0.07 | validation avg. loss: 0.11\n",
      "Epochs: 0 | epoch avg. loss: 0.34 | validation avg. loss: 0.21\n",
      "Epochs: 1 | epoch avg. loss: 0.10 | validation avg. loss: 0.09\n",
      "Epochs: 2 | epoch avg. loss: 0.08 | validation avg. loss: 0.11\n",
      "Epochs: 3 | epoch avg. loss: 0.07 | validation avg. loss: 0.20\n",
      "Epochs: 4 | epoch avg. loss: 0.06 | validation avg. loss: 0.11\n"
     ]
    },
    {
     "name": "stderr",
     "output_type": "stream",
     "text": [
      "[I 2024-09-05 05:06:08,192] Trial 38 finished with value: 0.07963195897988935 and parameters: {'conv1_out_channels': 64, 'conv2_out_channels': 48, 'fc_out_channels': 32, 'learning_rate': 0.003782644591119711}. Best is trial 26 with value: 0.07092127000324702.\n"
     ]
    },
    {
     "name": "stdout",
     "output_type": "stream",
     "text": [
      "Epochs: 5 | epoch avg. loss: 0.06 | validation avg. loss: 0.08\n",
      "Epochs: 0 | epoch avg. loss: 0.32 | validation avg. loss: 0.28\n",
      "Epochs: 1 | epoch avg. loss: 0.11 | validation avg. loss: 0.17\n",
      "Epochs: 2 | epoch avg. loss: 0.08 | validation avg. loss: 0.14\n",
      "Epochs: 3 | epoch avg. loss: 0.07 | validation avg. loss: 0.09\n",
      "Epochs: 4 | epoch avg. loss: 0.07 | validation avg. loss: 0.11\n"
     ]
    },
    {
     "name": "stderr",
     "output_type": "stream",
     "text": [
      "[I 2024-09-05 05:09:04,207] Trial 39 finished with value: 0.09509886156961249 and parameters: {'conv1_out_channels': 64, 'conv2_out_channels': 64, 'fc_out_channels': 16, 'learning_rate': 0.005253459268952275}. Best is trial 26 with value: 0.07092127000324702.\n"
     ]
    },
    {
     "name": "stdout",
     "output_type": "stream",
     "text": [
      "Epochs: 5 | epoch avg. loss: 0.06 | validation avg. loss: 0.10\n",
      "Epochs: 0 | epoch avg. loss: 0.42 | validation avg. loss: 0.13\n",
      "Epochs: 1 | epoch avg. loss: 0.10 | validation avg. loss: 0.12\n",
      "Epochs: 2 | epoch avg. loss: 0.08 | validation avg. loss: 0.12\n",
      "Epochs: 3 | epoch avg. loss: 0.07 | validation avg. loss: 0.14\n",
      "Epochs: 4 | epoch avg. loss: 0.06 | validation avg. loss: 0.11\n"
     ]
    },
    {
     "name": "stderr",
     "output_type": "stream",
     "text": [
      "[I 2024-09-05 05:12:00,458] Trial 40 finished with value: 0.10542974799703599 and parameters: {'conv1_out_channels': 64, 'conv2_out_channels': 64, 'fc_out_channels': 32, 'learning_rate': 0.0008877813654603279}. Best is trial 26 with value: 0.07092127000324702.\n"
     ]
    },
    {
     "name": "stdout",
     "output_type": "stream",
     "text": [
      "Epochs: 5 | epoch avg. loss: 0.05 | validation avg. loss: 0.11\n",
      "Epochs: 0 | epoch avg. loss: 0.34 | validation avg. loss: 0.16\n",
      "Epochs: 1 | epoch avg. loss: 0.10 | validation avg. loss: 0.14\n",
      "Epochs: 2 | epoch avg. loss: 0.08 | validation avg. loss: 0.12\n",
      "Epochs: 3 | epoch avg. loss: 0.06 | validation avg. loss: 0.21\n",
      "Epochs: 4 | epoch avg. loss: 0.06 | validation avg. loss: 0.08\n"
     ]
    },
    {
     "name": "stderr",
     "output_type": "stream",
     "text": [
      "[I 2024-09-05 05:14:53,079] Trial 41 finished with value: 0.08793082599130961 and parameters: {'conv1_out_channels': 48, 'conv2_out_channels': 32, 'fc_out_channels': 48, 'learning_rate': 0.002011888618188833}. Best is trial 26 with value: 0.07092127000324702.\n"
     ]
    },
    {
     "name": "stdout",
     "output_type": "stream",
     "text": [
      "Epochs: 5 | epoch avg. loss: 0.05 | validation avg. loss: 0.09\n",
      "Epochs: 0 | epoch avg. loss: 0.27 | validation avg. loss: 0.14\n",
      "Epochs: 1 | epoch avg. loss: 0.11 | validation avg. loss: 0.26\n",
      "Epochs: 2 | epoch avg. loss: 0.09 | validation avg. loss: 0.12\n",
      "Epochs: 3 | epoch avg. loss: 0.08 | validation avg. loss: 0.12\n",
      "Epochs: 4 | epoch avg. loss: 0.07 | validation avg. loss: 0.10\n"
     ]
    },
    {
     "name": "stderr",
     "output_type": "stream",
     "text": [
      "[I 2024-09-05 05:17:45,782] Trial 42 finished with value: 0.0946442802552646 and parameters: {'conv1_out_channels': 48, 'conv2_out_channels': 32, 'fc_out_channels': 32, 'learning_rate': 0.0022521734421376543}. Best is trial 26 with value: 0.07092127000324702.\n"
     ]
    },
    {
     "name": "stdout",
     "output_type": "stream",
     "text": [
      "Epochs: 5 | epoch avg. loss: 0.06 | validation avg. loss: 0.09\n",
      "Epochs: 0 | epoch avg. loss: 0.31 | validation avg. loss: 0.18\n",
      "Epochs: 1 | epoch avg. loss: 0.10 | validation avg. loss: 0.13\n",
      "Epochs: 2 | epoch avg. loss: 0.08 | validation avg. loss: 0.10\n",
      "Epochs: 3 | epoch avg. loss: 0.07 | validation avg. loss: 0.09\n",
      "Epochs: 4 | epoch avg. loss: 0.06 | validation avg. loss: 0.11\n"
     ]
    },
    {
     "name": "stderr",
     "output_type": "stream",
     "text": [
      "[I 2024-09-05 05:20:40,533] Trial 43 finished with value: 0.11672817757118442 and parameters: {'conv1_out_channels': 64, 'conv2_out_channels': 48, 'fc_out_channels': 32, 'learning_rate': 0.0013393328540849832}. Best is trial 26 with value: 0.07092127000324702.\n"
     ]
    },
    {
     "name": "stdout",
     "output_type": "stream",
     "text": [
      "Epochs: 5 | epoch avg. loss: 0.06 | validation avg. loss: 0.12\n",
      "Epochs: 0 | epoch avg. loss: 0.35 | validation avg. loss: 0.13\n",
      "Epochs: 1 | epoch avg. loss: 0.10 | validation avg. loss: 0.10\n",
      "Epochs: 2 | epoch avg. loss: 0.09 | validation avg. loss: 0.12\n",
      "Epochs: 3 | epoch avg. loss: 0.07 | validation avg. loss: 0.09\n",
      "Epochs: 4 | epoch avg. loss: 0.06 | validation avg. loss: 0.10\n"
     ]
    },
    {
     "name": "stderr",
     "output_type": "stream",
     "text": [
      "[I 2024-09-05 05:23:35,632] Trial 44 finished with value: 0.08030134103500923 and parameters: {'conv1_out_channels': 64, 'conv2_out_channels': 48, 'fc_out_channels': 48, 'learning_rate': 0.0018827581311304064}. Best is trial 26 with value: 0.07092127000324702.\n"
     ]
    },
    {
     "name": "stdout",
     "output_type": "stream",
     "text": [
      "Epochs: 5 | epoch avg. loss: 0.06 | validation avg. loss: 0.08\n",
      "Epochs: 0 | epoch avg. loss: 0.55 | validation avg. loss: 0.15\n",
      "Epochs: 1 | epoch avg. loss: 0.13 | validation avg. loss: 0.15\n",
      "Epochs: 2 | epoch avg. loss: 0.10 | validation avg. loss: 0.18\n",
      "Epochs: 3 | epoch avg. loss: 0.08 | validation avg. loss: 0.12\n",
      "Epochs: 4 | epoch avg. loss: 0.08 | validation avg. loss: 0.10\n"
     ]
    },
    {
     "name": "stderr",
     "output_type": "stream",
     "text": [
      "[I 2024-09-05 05:26:26,007] Trial 45 finished with value: 0.15469324548052307 and parameters: {'conv1_out_channels': 16, 'conv2_out_channels': 32, 'fc_out_channels': 32, 'learning_rate': 0.006839828414993254}. Best is trial 26 with value: 0.07092127000324702.\n"
     ]
    },
    {
     "name": "stdout",
     "output_type": "stream",
     "text": [
      "Epochs: 5 | epoch avg. loss: 0.07 | validation avg. loss: 0.15\n",
      "Epochs: 0 | epoch avg. loss: 0.38 | validation avg. loss: 0.13\n",
      "Epochs: 1 | epoch avg. loss: 0.10 | validation avg. loss: 0.11\n",
      "Epochs: 2 | epoch avg. loss: 0.08 | validation avg. loss: 0.09\n",
      "Epochs: 3 | epoch avg. loss: 0.07 | validation avg. loss: 0.09\n",
      "Epochs: 4 | epoch avg. loss: 0.06 | validation avg. loss: 0.12\n"
     ]
    },
    {
     "name": "stderr",
     "output_type": "stream",
     "text": [
      "[I 2024-09-05 05:29:20,789] Trial 46 finished with value: 0.09446908453364702 and parameters: {'conv1_out_channels': 64, 'conv2_out_channels': 48, 'fc_out_channels': 48, 'learning_rate': 0.002750619872310056}. Best is trial 26 with value: 0.07092127000324702.\n"
     ]
    },
    {
     "name": "stdout",
     "output_type": "stream",
     "text": [
      "Epochs: 5 | epoch avg. loss: 0.05 | validation avg. loss: 0.09\n",
      "Epochs: 0 | epoch avg. loss: 0.33 | validation avg. loss: 0.21\n",
      "Epochs: 1 | epoch avg. loss: 0.09 | validation avg. loss: 0.11\n",
      "Epochs: 2 | epoch avg. loss: 0.08 | validation avg. loss: 0.14\n",
      "Epochs: 3 | epoch avg. loss: 0.07 | validation avg. loss: 0.12\n",
      "Epochs: 4 | epoch avg. loss: 0.06 | validation avg. loss: 0.12\n"
     ]
    },
    {
     "name": "stderr",
     "output_type": "stream",
     "text": [
      "[I 2024-09-05 05:32:15,384] Trial 47 finished with value: 0.08607995420950247 and parameters: {'conv1_out_channels': 48, 'conv2_out_channels': 48, 'fc_out_channels': 32, 'learning_rate': 0.0007674354228677438}. Best is trial 26 with value: 0.07092127000324702.\n"
     ]
    },
    {
     "name": "stdout",
     "output_type": "stream",
     "text": [
      "Epochs: 5 | epoch avg. loss: 0.06 | validation avg. loss: 0.09\n",
      "Epochs: 0 | epoch avg. loss: 0.91 | validation avg. loss: 0.17\n",
      "Epochs: 1 | epoch avg. loss: 0.11 | validation avg. loss: 0.13\n",
      "Epochs: 2 | epoch avg. loss: 0.09 | validation avg. loss: 0.12\n",
      "Epochs: 3 | epoch avg. loss: 0.08 | validation avg. loss: 0.11\n",
      "Epochs: 4 | epoch avg. loss: 0.07 | validation avg. loss: 0.15\n"
     ]
    },
    {
     "name": "stderr",
     "output_type": "stream",
     "text": [
      "[I 2024-09-05 05:35:08,740] Trial 48 finished with value: 0.10720635640325116 and parameters: {'conv1_out_channels': 48, 'conv2_out_channels': 32, 'fc_out_channels': 16, 'learning_rate': 0.0005239408673590658}. Best is trial 26 with value: 0.07092127000324702.\n"
     ]
    },
    {
     "name": "stdout",
     "output_type": "stream",
     "text": [
      "Epochs: 5 | epoch avg. loss: 0.06 | validation avg. loss: 0.11\n",
      "Epochs: 0 | epoch avg. loss: 0.30 | validation avg. loss: 0.15\n",
      "Epochs: 1 | epoch avg. loss: 0.10 | validation avg. loss: 0.27\n",
      "Epochs: 2 | epoch avg. loss: 0.09 | validation avg. loss: 0.10\n",
      "Epochs: 3 | epoch avg. loss: 0.07 | validation avg. loss: 0.20\n",
      "Epochs: 4 | epoch avg. loss: 0.07 | validation avg. loss: 0.11\n"
     ]
    },
    {
     "name": "stderr",
     "output_type": "stream",
     "text": [
      "[I 2024-09-05 05:38:04,315] Trial 49 finished with value: 0.0885794853450915 and parameters: {'conv1_out_channels': 64, 'conv2_out_channels': 64, 'fc_out_channels': 32, 'learning_rate': 0.003269760872775863}. Best is trial 26 with value: 0.07092127000324702.\n"
     ]
    },
    {
     "name": "stdout",
     "output_type": "stream",
     "text": [
      "Epochs: 5 | epoch avg. loss: 0.06 | validation avg. loss: 0.09\n",
      "Best trial:\n",
      "  Value: 0.07092127000324702\n",
      "  Params: \n",
      "    conv1_out_channels: 64\n",
      "    conv2_out_channels: 48\n",
      "    fc_out_channels: 32\n",
      "    learning_rate: 0.0017282095473439127\n"
     ]
    },
    {
     "name": "stderr",
     "output_type": "stream",
     "text": [
      "/tmp/ipykernel_23/850782831.py:96: ExperimentalWarning: plot_optimization_history is experimental (supported from v2.2.0). The interface can change in the future.\n",
      "  optuna.visualization.matplotlib.plot_optimization_history(study)\n"
     ]
    },
    {
     "data": {
      "image/png": "[encoded data removed]",
      "text/plain": [
       "<Figure size 640x480 with 1 Axes>"
      ]
     },
     "metadata": {},
     "output_type": "display_data"
    },
    {
     "name": "stderr",
     "output_type": "stream",
     "text": [
      "/tmp/ipykernel_23/850782831.py:99: ExperimentalWarning: plot_param_importances is experimental (supported from v2.2.0). The interface can change in the future.\n",
      "  optuna.visualization.matplotlib.plot_param_importances(study)\n"
     ]
    },
    {
     "data": {
      "image/png": "[encoded data removed]",
      "text/plain": [
       "<Figure size 640x480 with 1 Axes>"
      ]
     },
     "metadata": {},
     "output_type": "display_data"
    }
   ],
   "source": [
    "import sys\n",
    "import matplotlib.pyplot as plt\n",
    "import numpy as np\n",
    "import torch\n",
    "import torch.nn as nn\n",
    "import torch.nn.functional as F\n",
    "import optuna\n",
    "from torch.utils.data import random_split\n",
    "from torch_geometric.datasets import QM9\n",
    "from torch_geometric.loader import DataLoader\n",
    "from torch_geometric.nn import NNConv, global_add_pool\n",
    "# 1. 加载 QM9 数据集\n",
    "dset = QM9('.')\n",
    "train_set, valid_set, test_set = random_split(dset, [110000, 10831, 10000])\n",
    "trainloader = DataLoader(train_set, batch_size=32, shuffle=True)\n",
    "validloader = DataLoader(valid_set, batch_size=32, shuffle=True)\n",
    "testloader = DataLoader(test_set, batch_size=32, shuffle=True)\n",
    "qm9_node_feats, qm9_edge_feats = 11, 4\n",
    "target_idx = 1  # index position of the polarizability label\n",
    "device = torch.device(\"cuda:0\" if torch.cuda.is_available() else \"cpu\")\n",
    "# 2. 定义目标函数，用于 Optuna 的超参数搜索\n",
    "def objective(trial):\n",
    "    # 定义超参数的搜索空间\n",
    "    conv1_out_channels = trial.suggest_int(\"conv1_out_channels\", 16, 64, step = 16)\n",
    "    conv2_out_channels = trial.suggest_int(\"conv2_out_channels\", 16, 64, step=16)\n",
    "    fc_out_channels = trial.suggest_int(\"fc_out_channels\", 16, 64, step=16)\n",
    "    learning_rate = trial.suggest_loguniform(\"learning_rate\", 1e-4, 1e-2)\n",
    "    epochs = 6\n",
    "    class ExampleNet(torch.nn.Module):\n",
    "        def __init__(self, num_node_features, num_edge_features):\n",
    "            super().__init__()\n",
    "            conv1_net = nn.Sequential(nn.Linear(num_edge_features, 32),\n",
    "                                      nn.ReLU(),\n",
    "                                      nn.Linear(32, num_node_features * conv1_out_channels))\n",
    "            conv2_net = nn.Sequential(nn.Linear(num_edge_features, 32),\n",
    "                                      nn.ReLU(),\n",
    "                                      nn.Linear(32, conv1_out_channels * conv2_out_channels))\n",
    "            self.conv1 = NNConv(num_node_features, conv1_out_channels, conv1_net)\n",
    "            self.conv2 = NNConv(conv1_out_channels, conv2_out_channels, conv2_net)\n",
    "            self.fc_1 = nn.Linear(conv2_out_channels, fc_out_channels)\n",
    "            self.out = nn.Linear(fc_out_channels, 1)\n",
    "        def forward(self, data):\n",
    "            batch, x, edge_index, edge_attr = data.batch, data.x, data.edge_index, data.edge_attr\n",
    "            x = F.relu(self.conv1(x, edge_index, edge_attr))\n",
    "            x = F.relu(self.conv2(x, edge_index, edge_attr))\n",
    "            x = global_add_pool(x, batch)\n",
    "            x = F.relu(self.fc_1(x))\n",
    "            output = self.out(x)\n",
    "            return output\n",
    "    # 创建模型实例并定义优化器\n",
    "    net = ExampleNet(qm9_node_feats, qm9_edge_feats).to(device)\n",
    "    optimizer = torch.optim.Adam(net.parameters(), lr=learning_rate)\n",
    "    # 训练和验证\n",
    "    for epoch in range(epochs):\n",
    "        net.train()\n",
    "        epoch_loss = 0\n",
    "        total_graphs = 0\n",
    "        for batch in trainloader:\n",
    "            batch.to(device)\n",
    "            optimizer.zero_grad()\n",
    "            output = net(batch)\n",
    "            loss = F.mse_loss(output, batch.y[:, target_idx].unsqueeze(1))\n",
    "            loss.backward()\n",
    "            optimizer.step()\n",
    "            epoch_loss += loss.item()\n",
    "            total_graphs += batch.num_graphs\n",
    "        train_avg_loss = epoch_loss / total_graphs\n",
    "        \n",
    "        net.eval()\n",
    "        val_loss = 0\n",
    "        total_graphs = 0\n",
    "        with torch.no_grad():\n",
    "            for batch in validloader:\n",
    "                batch.to(device)\n",
    "                output = net(batch)\n",
    "                loss = F.mse_loss(output, batch.y[:, target_idx].unsqueeze(1))\n",
    "                val_loss += loss.item()\n",
    "                total_graphs += batch.num_graphs\n",
    "        # 计算验证集的平均损失\n",
    "        val_avg_loss = val_loss / total_graphs\n",
    "        \n",
    "        print(f\"Epochs: {epoch} | epoch avg. loss: {train_avg_loss:.2f} | validation avg. loss: {val_avg_loss:.2f}\")\n",
    "    return val_avg_loss  # Optuna 将最小化这个值\n",
    "# 3. 创建并运行 Optuna 的优化器\n",
    "study = optuna.create_study(direction=\"minimize\")\n",
    "study.optimize(objective, n_trials=50)\n",
    "# 4. 输出最优参数\n",
    "print(\"Best trial:\")\n",
    "trial = study.best_trial\n",
    "print(f\"  Value: {trial.value}\")\n",
    "print(\"  Params: \")\n",
    "for key, value in trial.params.items():\n",
    "    print(f\"    {key}: {value}\")\n",
    "\n",
    "# 绘制优化历史\n",
    "optuna.visualization.matplotlib.plot_optimization_history(study)\n",
    "plt.show()\n",
    "# 绘制超参数的重要性\n",
    "optuna.visualization.matplotlib.plot_param_importances(study)\n",
    "plt.show()"
   ]
  }
 ],
 "metadata": {
  "kaggle": {
   "accelerator": "nvidiaTeslaT4",
   "dataSources": [
    {
     "datasetId": 1640734,
     "sourceId": 7876159,
     "sourceType": "datasetVersion"
    }
   ],
   "dockerImageVersionId": 30762,
   "isGpuEnabled": true,
   "isInternetEnabled": true,
   "language": "python",
   "sourceType": "notebook"
  },
  "kernelspec": {
   "display_name": "Python 3",
   "language": "python",
   "name": "python3"
  },
  "language_info": {
   "codemirror_mode": {
    "name": "ipython",
    "version": 3
   },
   "file_extension": ".py",
   "mimetype": "text/x-python",
   "name": "python",
   "nbconvert_exporter": "python",
   "pygments_lexer": "ipython3",
   "version": "3.10.14"
  },
  "papermill": {
   "default_parameters": {},
   "duration": 8798.157339,
   "end_time": "2024-09-05T05:38:09.214933",
   "environment_variables": {},
   "exception": null,
   "input_path": "__notebook__.ipynb",
   "output_path": "__notebook__.ipynb",
   "parameters": {},
   "start_time": "2024-09-05T03:11:31.057594",
   "version": "2.6.0"
  }
 },
 "nbformat": 4,
 "nbformat_minor": 5
}
